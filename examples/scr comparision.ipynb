{
 "cells": [
  {
   "cell_type": "code",
   "execution_count": 2,
   "id": "ffad981a",
   "metadata": {},
   "outputs": [],
   "source": [
    "import json\n",
    "import os\n",
    "import yaml\n",
    "from pathlib import Path\n",
    "from dask.distributed import Client"
   ]
  },
  {
   "cell_type": "code",
   "execution_count": 3,
   "id": "a0dc2087",
   "metadata": {},
   "outputs": [],
   "source": [
    "use_local=True"
   ]
  },
  {
   "cell_type": "code",
   "execution_count": 4,
   "id": "02b5e92c",
   "metadata": {},
   "outputs": [],
   "source": [
    "if not use_local:\n",
    "    with open(f'~/.dlio_profiler/configuration.yaml', 'r') as file:\n",
    "        dlp_yaml = yaml.safe_load(file)\n",
    "        app_root = dlp_yaml[\"app\"]\n",
    "else:\n",
    "    app_root = str(Path(os.getcwd()).parent.parent)"
   ]
  },
  {
   "cell_type": "code",
   "execution_count": 5,
   "id": "af5ecd2b",
   "metadata": {},
   "outputs": [
    {
     "data": {
      "text/plain": [
       "['/usr/WS2/haridev',\n",
       " '/usr/WS2/haridev/scr-dlio/examples',\n",
       " '/usr/workspace/iopp/projects/digio',\n",
       " '/collab/usr/gapps/python/build/spack-toss4.1/var/spack/environments/python/._view/75prb56irmif5ejtirjthpx6kq3gqo52/lib/python39.zip',\n",
       " '/collab/usr/gapps/python/build/spack-toss4.1/var/spack/environments/python/._view/75prb56irmif5ejtirjthpx6kq3gqo52/lib/python3.9',\n",
       " '/collab/usr/gapps/python/build/spack-toss4.1/var/spack/environments/python/._view/75prb56irmif5ejtirjthpx6kq3gqo52/lib/python3.9/lib-dynload',\n",
       " '',\n",
       " '/usr/workspace/haridev/scr-dlio/venv/lib/python3.9/site-packages']"
      ]
     },
     "execution_count": 5,
     "metadata": {},
     "output_type": "execute_result"
    }
   ],
   "source": [
    "import sys\n",
    "sys.path.insert(0, app_root)\n",
    "sys.path"
   ]
  },
  {
   "cell_type": "code",
   "execution_count": 6,
   "id": "91cf1a4d",
   "metadata": {},
   "outputs": [
    {
     "name": "stdout",
     "output_type": "stream",
     "text": [
      "/usr/workspace/haridev/scr-dlio/venv/lib/python3.9/site-packages/dlp_analyzer/__init__.py\n"
     ]
    }
   ],
   "source": [
    "import dlp_analyzer\n",
    "print(dlp_analyzer.__file__)\n",
    "from dlp_analyzer.main import DLPAnalyzer,get_dlp_configuration,update_dlp_configuration,setup_logging,setup_dask_cluster, reset_dask_cluster, get_dlp_configuration\n"
   ]
  },
  {
   "cell_type": "code",
   "execution_count": 7,
   "id": "60ed3530",
   "metadata": {},
   "outputs": [],
   "source": [
    "if not use_local:\n",
    "    dask_run_dir = os.path.join(app_root, \"dlp_analyzer\", \"dask\", \"run_dir\")\n",
    "    with open (os.path.join(dask_run_dir, f\"scheduler_{os.getenv('USER')}.json\"), \"r\") as f:\n",
    "        dask_scheduler = json.load(f)[\"address\"]\n",
    "else:\n",
    "    dask_scheduler = None"
   ]
  },
  {
   "cell_type": "code",
   "execution_count": 8,
   "id": "eecb0bb3",
   "metadata": {},
   "outputs": [],
   "source": [
    "app_name = \"dlio_scr\" # dlio dlio_scr"
   ]
  },
  {
   "cell_type": "code",
   "execution_count": 9,
   "id": "dc01ef48",
   "metadata": {},
   "outputs": [],
   "source": [
    "def get_conditions(json_object):\n",
    "    app_io_cond = \"reader\" in json_object[\"cat\"] or \"checkpoint\" in json_object[\"cat\"]\n",
    "    compute_cond = \"compute\" in json_object[\"name\"] # Cosmoflow\n",
    "    io_cond = \"POSIX\" == json_object[\"cat\"] # Cosmoflow\n",
    "    return app_io_cond, compute_cond, io_cond"
   ]
  },
  {
   "cell_type": "code",
   "execution_count": 10,
   "id": "40f2054c",
   "metadata": {},
   "outputs": [],
   "source": [
    "conf = update_dlp_configuration(dask_scheduler=dask_scheduler, verbose=True, workers=64,\n",
    "                                log_file=f\"./dlp_{os.getenv('USER')}.log\", rebuild_index=False, time_approximate=True, \n",
    "                                host_pattern=r'lassen(\\d+)', time_granularity=30e6, skip_hostname=True, conditions=get_conditions)"
   ]
  },
  {
   "cell_type": "code",
   "execution_count": 11,
   "id": "7c6ccc4d",
   "metadata": {},
   "outputs": [],
   "source": [
    "setup_logging()"
   ]
  },
  {
   "cell_type": "code",
   "execution_count": 12,
   "id": "8ca94e69",
   "metadata": {},
   "outputs": [
    {
     "name": "stderr",
     "output_type": "stream",
     "text": [
      "[INFO] [11:20:34] Initialized Client with 64 workers and link http://127.0.0.1:36087/status [/usr/workspace/haridev/scr-dlio/venv/lib/python3.9/site-packages/dlp_analyzer/main.py:668]\n"
     ]
    }
   ],
   "source": [
    "setup_dask_cluster()"
   ]
  },
  {
   "cell_type": "code",
   "execution_count": 13,
   "id": "38d2aa0d",
   "metadata": {},
   "outputs": [],
   "source": [
    "def get_checkpoint_time(df):\n",
    "    app_time = df.query(\"name.str.contains('PyTorchCheckpointing.checkpoint')\")\n",
    "    app_time_files = app_time.groupby([\"pid\"]).agg({\"dur\":sum}).max()\n",
    "    return app_time_files.compute() / 1e6\n",
    "\n",
    "def get_posix_pfs_time(df):\n",
    "    posix_lustre_time = df.query(\"cat == 'POSIX' and filename.str.contains('/p/lustre2/haridev/dlio/scr/checkpoints')\")\n",
    "    posix_lustre_time_files = posix_lustre_time.groupby([\"pid\"]).agg({\"dur\":sum}).max()\n",
    "    return posix_lustre_time_files.compute() / 1e6\n",
    "\n",
    "def get_posix_ssd_time(df):\n",
    "    posix_lustre_time = df.query(\"cat == 'POSIX' and filename.str.contains('/l/ssd/haridev/scr/checkpoints')\")\n",
    "    posix_lustre_time_files = posix_lustre_time.groupby([\"pid\"]).agg({\"dur\":sum}).max()\n",
    "    return posix_lustre_time_files.compute() / 1e6"
   ]
  },
  {
   "cell_type": "code",
   "execution_count": 21,
   "id": "5b4e9c41",
   "metadata": {},
   "outputs": [
    {
     "name": "stderr",
     "output_type": "stream",
     "text": [
      "[INFO] [08:51:16] Created index for 16 files [/usr/workspace/haridev/scr-dlio/venv/lib/python3.9/site-packages/dlp_analyzer/main.py:365]\n",
      "[INFO] [08:51:16] Total size of all files are <dask.bag.core.Item object at 0x1553ebbdafa0> bytes [/usr/workspace/haridev/scr-dlio/venv/lib/python3.9/site-packages/dlp_analyzer/main.py:367]\n",
      "[INFO] [08:51:16] Loading 8994 batches out of 16 files and has 147302750 lines overall [/usr/workspace/haridev/scr-dlio/venv/lib/python3.9/site-packages/dlp_analyzer/main.py:380]\n",
      "[INFO] [08:55:30] Loaded events [/usr/workspace/haridev/scr-dlio/venv/lib/python3.9/site-packages/dlp_analyzer/main.py:422]\n",
      "[INFO] [08:55:30] Loaded plots with slope threshold: 45 [/usr/workspace/haridev/scr-dlio/venv/lib/python3.9/site-packages/dlp_analyzer/main.py:428]\n"
     ]
    }
   ],
   "source": [
    "# Baseline over PFS\n",
    "filename = \"/g/g92/haridev/projects/scr-dlio/logs/n2_p8_base/trace*.pfw.gz\"\n",
    "analyzer_base_pfs = DLPAnalyzer(filename).events"
   ]
  },
  {
   "cell_type": "code",
   "execution_count": 14,
   "id": "72a20244",
   "metadata": {},
   "outputs": [],
   "source": [
    "base_ckp_time = get_checkpoint_time(analyzer_base_pfs)\n",
    "base_posix_lustre_time = get_posix_pfs_time(analyzer_base_pfs)\n",
    "base_posix_ssd_time = get_posix_ssd_time(analyzer_base_pfs)"
   ]
  },
  {
   "cell_type": "code",
   "execution_count": 15,
   "id": "1057042d",
   "metadata": {},
   "outputs": [
    {
     "name": "stderr",
     "output_type": "stream",
     "text": [
      "[INFO] [11:25:34] Created index for 16 files [/usr/workspace/haridev/scr-dlio/venv/lib/python3.9/site-packages/dlp_analyzer/main.py:365]\n",
      "[INFO] [11:25:34] Total size of all files are <dask.bag.core.Item object at 0x155446559b80> bytes [/usr/workspace/haridev/scr-dlio/venv/lib/python3.9/site-packages/dlp_analyzer/main.py:367]\n",
      "[INFO] [11:25:34] Loading 8976 batches out of 16 files and has 146988160 lines overall [/usr/workspace/haridev/scr-dlio/venv/lib/python3.9/site-packages/dlp_analyzer/main.py:380]\n",
      "[INFO] [11:29:57] Loaded events [/usr/workspace/haridev/scr-dlio/venv/lib/python3.9/site-packages/dlp_analyzer/main.py:422]\n",
      "[INFO] [11:29:57] Loaded plots with slope threshold: 45 [/usr/workspace/haridev/scr-dlio/venv/lib/python3.9/site-packages/dlp_analyzer/main.py:428]\n"
     ]
    }
   ],
   "source": [
    "# Baseline over SSD\n",
    "filename = \"/usr/WS2/haridev/scr-dlio/scripts/hydra_log/megatron_deepspeed/2024-03-21-23-06-04/trace*.pfw.gz\"\n",
    "analyzer_base_ssd = DLPAnalyzer(filename).events"
   ]
  },
  {
   "cell_type": "code",
   "execution_count": 16,
   "id": "5f09b1e6",
   "metadata": {},
   "outputs": [],
   "source": [
    "base_ssd_ckp_time = get_checkpoint_time(analyzer_base_ssd)\n",
    "base_ssd_posix_lustre_time = get_posix_pfs_time(analyzer_base_ssd)\n",
    "base_ssd_posix_ssd_time = get_posix_ssd_time(analyzer_base_ssd)\n"
   ]
  },
  {
   "cell_type": "code",
   "execution_count": 17,
   "id": "2172b961",
   "metadata": {},
   "outputs": [
    {
     "name": "stderr",
     "output_type": "stream",
     "text": [
      "[INFO] [17:33:53] Created index for 16 files [/usr/workspace/haridev/scr-dlio/venv/lib/python3.9/site-packages/dlp_analyzer/main.py:365]\n",
      "[INFO] [17:33:53] Total size of all files are <dask.bag.core.Item object at 0x1551700ada00> bytes [/usr/workspace/haridev/scr-dlio/venv/lib/python3.9/site-packages/dlp_analyzer/main.py:367]\n",
      "[INFO] [17:33:54] Loading 9132 batches out of 16 files and has 149432067 lines overall [/usr/workspace/haridev/scr-dlio/venv/lib/python3.9/site-packages/dlp_analyzer/main.py:380]\n",
      "[INFO] [17:38:32] Loaded events [/usr/workspace/haridev/scr-dlio/venv/lib/python3.9/site-packages/dlp_analyzer/main.py:422]\n",
      "[INFO] [17:38:32] Loaded plots with slope threshold: 45 [/usr/workspace/haridev/scr-dlio/venv/lib/python3.9/site-packages/dlp_analyzer/main.py:428]\n"
     ]
    }
   ],
   "source": [
    "# SCR on SSD and with Async Flush to PFS\n",
    "filename = \"/g/g92/haridev/projects/scr-dlio/logs/n2_p8_scr_finer/trace*.pfw.gz\"\n",
    "analyzer_scr_basic = DLPAnalyzer(filename).events"
   ]
  },
  {
   "cell_type": "code",
   "execution_count": 18,
   "id": "a11aeae6",
   "metadata": {},
   "outputs": [],
   "source": [
    "scr_ssd_async_pfs_ckp_time = get_checkpoint_time(analyzer_scr_basic)\n",
    "scr_ssd_async_pfs_posix_lustre_time = get_posix_pfs_time(analyzer_scr_basic)\n",
    "scr_ssd_async_pfs_posix_ssd_time = get_posix_ssd_time(analyzer_scr_basic)\n"
   ]
  },
  {
   "cell_type": "code",
   "execution_count": 14,
   "id": "238bda3e",
   "metadata": {},
   "outputs": [
    {
     "name": "stderr",
     "output_type": "stream",
     "text": [
      "[INFO] [11:20:44] Created index for 16 files [/usr/workspace/haridev/scr-dlio/venv/lib/python3.9/site-packages/dlp_analyzer/main.py:365]\n",
      "[INFO] [11:20:44] Total size of all files are <dask.bag.core.Item object at 0x155446c83a00> bytes [/usr/workspace/haridev/scr-dlio/venv/lib/python3.9/site-packages/dlp_analyzer/main.py:367]\n",
      "[INFO] [11:20:46] Loading 9124 batches out of 16 files and has 149369304 lines overall [/usr/workspace/haridev/scr-dlio/venv/lib/python3.9/site-packages/dlp_analyzer/main.py:380]\n",
      "[INFO] [11:25:33] Loaded events [/usr/workspace/haridev/scr-dlio/venv/lib/python3.9/site-packages/dlp_analyzer/main.py:422]\n",
      "[INFO] [11:25:33] Loaded plots with slope threshold: 45 [/usr/workspace/haridev/scr-dlio/venv/lib/python3.9/site-packages/dlp_analyzer/main.py:428]\n"
     ]
    }
   ],
   "source": [
    "# SCR on SSD and no flush\n",
    "filename = \"/usr/WS2/haridev/scr-dlio/scripts/hydra_log/scr_megatron_deepspeed/2024-03-20-10-52-41/trace*.pfw.gz\"\n",
    "analyzer_scr_no_flush = DLPAnalyzer(filename).events"
   ]
  },
  {
   "cell_type": "code",
   "execution_count": 20,
   "id": "e08d10f2",
   "metadata": {},
   "outputs": [],
   "source": [
    "\n",
    "scr_ssd_no_flush_ckp_time = get_checkpoint_time(analyzer_scr_no_flush)\n",
    "scr_ssd_no_flush_posix_lustre_time = get_posix_pfs_time(analyzer_scr_no_flush)\n",
    "scr_ssd_no_flush_posix_ssd_time = get_posix_ssd_time(analyzer_scr_no_flush)"
   ]
  },
  {
   "cell_type": "code",
   "execution_count": 21,
   "id": "443b2f49",
   "metadata": {},
   "outputs": [
    {
     "name": "stderr",
     "output_type": "stream",
     "text": [
      "[INFO] [17:44:50] Created index for 16 files [/usr/workspace/haridev/scr-dlio/venv/lib/python3.9/site-packages/dlp_analyzer/main.py:365]\n",
      "[INFO] [17:44:50] Total size of all files are <dask.bag.core.Item object at 0x15515cf35a00> bytes [/usr/workspace/haridev/scr-dlio/venv/lib/python3.9/site-packages/dlp_analyzer/main.py:367]\n",
      "[INFO] [17:44:50] Loading 8977 batches out of 16 files and has 146963672 lines overall [/usr/workspace/haridev/scr-dlio/venv/lib/python3.9/site-packages/dlp_analyzer/main.py:380]\n",
      "[INFO] [17:50:37] Loaded events [/usr/workspace/haridev/scr-dlio/venv/lib/python3.9/site-packages/dlp_analyzer/main.py:422]\n",
      "[INFO] [17:50:37] Loaded plots with slope threshold: 45 [/usr/workspace/haridev/scr-dlio/venv/lib/python3.9/site-packages/dlp_analyzer/main.py:428]\n"
     ]
    }
   ],
   "source": [
    "# SCR bypass\n",
    "filename = \"/usr/WS2/haridev/scr-dlio/scripts/hydra_log/scr_megatron_deepspeed/2024-03-21-22-44-18/trace*.pfw.gz\"\n",
    "analyzer_scr_bypass = DLPAnalyzer(filename).events"
   ]
  },
  {
   "cell_type": "code",
   "execution_count": 22,
   "id": "0f08050a",
   "metadata": {},
   "outputs": [],
   "source": [
    "\n",
    "scr_bypass_ckp_time = get_checkpoint_time(analyzer_scr_bypass)\n",
    "scr_bypass_posix_lustre_time = get_posix_pfs_time(analyzer_scr_bypass)\n",
    "scr_bypass_posix_ssd_time = get_posix_ssd_time(analyzer_scr_bypass)"
   ]
  },
  {
   "cell_type": "code",
   "execution_count": 23,
   "id": "8f3295e0",
   "metadata": {},
   "outputs": [
    {
     "name": "stderr",
     "output_type": "stream",
     "text": [
      "[INFO] [17:50:47] Created index for 8 files [/usr/workspace/haridev/scr-dlio/venv/lib/python3.9/site-packages/dlp_analyzer/main.py:365]\n",
      "[INFO] [17:50:47] Total size of all files are <dask.bag.core.Item object at 0x15529cfa3310> bytes [/usr/workspace/haridev/scr-dlio/venv/lib/python3.9/site-packages/dlp_analyzer/main.py:367]\n",
      "[INFO] [17:50:47] Loading 4488 batches out of 8 files and has 73467844 lines overall [/usr/workspace/haridev/scr-dlio/venv/lib/python3.9/site-packages/dlp_analyzer/main.py:380]\n",
      "[INFO] [17:53:12] Loaded events [/usr/workspace/haridev/scr-dlio/venv/lib/python3.9/site-packages/dlp_analyzer/main.py:422]\n",
      "[INFO] [17:53:12] Loaded plots with slope threshold: 45 [/usr/workspace/haridev/scr-dlio/venv/lib/python3.9/site-packages/dlp_analyzer/main.py:428]\n"
     ]
    }
   ],
   "source": [
    "# SCR ssd single copy\n",
    "filename = \"/usr/WS2/haridev/scr-dlio/scripts/hydra_log/scr_megatron_deepspeed/2024-04-08-09-33-09/trace*.pfw.gz\"\n",
    "analyzer_scr_ssd_single = DLPAnalyzer(filename).events"
   ]
  },
  {
   "cell_type": "code",
   "execution_count": 24,
   "id": "4163d3fa",
   "metadata": {},
   "outputs": [],
   "source": [
    "\n",
    "scr_ssd_single_ckp_time = get_checkpoint_time(analyzer_scr_ssd_single)\n",
    "scr_ssd_single_posix_lustre_time = get_posix_pfs_time(analyzer_scr_ssd_single)\n",
    "scr_ssd_single_posix_ssd_time = get_posix_ssd_time(analyzer_scr_ssd_single)"
   ]
  },
  {
   "cell_type": "code",
   "execution_count": 13,
   "id": "2c957120",
   "metadata": {},
   "outputs": [
    {
     "name": "stderr",
     "output_type": "stream",
     "text": [
      "[INFO] [08:44:09] Created index for 16 files [/usr/workspace/haridev/scr-dlio/venv/lib/python3.9/site-packages/dlp_analyzer/main.py:365]\n",
      "[INFO] [08:44:09] Total size of all files are <dask.bag.core.Item object at 0x1554ea273640> bytes [/usr/workspace/haridev/scr-dlio/venv/lib/python3.9/site-packages/dlp_analyzer/main.py:367]\n",
      "[INFO] [08:44:10] Loading 8986 batches out of 16 files and has 147099195 lines overall [/usr/workspace/haridev/scr-dlio/venv/lib/python3.9/site-packages/dlp_analyzer/main.py:380]\n",
      "ERROR:root:Processing {\"id\":\"6930\",\"name\":\"close\",\"cat\":\"POSIX\",\"pid\":\"0\",\"tid\":\"953748\",\"ts\":\"1712599257392616\",\"dur\":\"4012\",\"ph\":\"X\",\"args\":{\"hostname\":\"corona171\",\"ret\":0,\"fname\":\"\u0001\",\"fd\":39}} failed with Invalid control character at: line 1 column 162 (char 161)\n",
      "[INFO] [08:48:23] Loaded events [/usr/workspace/haridev/scr-dlio/venv/lib/python3.9/site-packages/dlp_analyzer/main.py:422]\n",
      "[INFO] [08:48:23] Loaded plots with slope threshold: 45 [/usr/workspace/haridev/scr-dlio/venv/lib/python3.9/site-packages/dlp_analyzer/main.py:428]\n"
     ]
    }
   ],
   "source": [
    "# SCR pfs single copy\n",
    "filename = \"/usr/WS2/haridev/scr-dlio/scripts/hydra_log/scr_megatron_deepspeed/2024-04-08-10-52-57/trace*.pfw.gz\"\n",
    "analyzer_scr_pfs_single = DLPAnalyzer(filename).events"
   ]
  },
  {
   "cell_type": "code",
   "execution_count": 26,
   "id": "8bb084f8",
   "metadata": {},
   "outputs": [],
   "source": [
    "\n",
    "scr_pfs_single_ckp_time = get_checkpoint_time(analyzer_scr_pfs_single)\n",
    "scr_pfs_single_posix_lustre_time = get_posix_pfs_time(analyzer_scr_pfs_single)\n",
    "scr_pfs_single_posix_ssd_time = get_posix_ssd_time(analyzer_scr_pfs_single)"
   ]
  },
  {
   "cell_type": "code",
   "execution_count": 29,
   "id": "62d5bf39",
   "metadata": {},
   "outputs": [
    {
     "data": {
      "text/plain": [
       "(dur    167.23401\n",
       " dtype: double[pyarrow],\n",
       " dur    1060.07277\n",
       " dtype: double[pyarrow],\n",
       " dur    472.086514\n",
       " dtype: double[pyarrow])"
      ]
     },
     "execution_count": 29,
     "metadata": {},
     "output_type": "execute_result"
    }
   ],
   "source": [
    "scr_pfs_single_ckp_time, scr_pfs_single_posix_lustre_time, scr_pfs_single_posix_ssd_time"
   ]
  },
  {
   "cell_type": "code",
   "execution_count": 32,
   "id": "72c186a5",
   "metadata": {},
   "outputs": [
    {
     "name": "stdout",
     "output_type": "stream",
     "text": [
      "case                , base           , base_ssd       , scr_ssd_a_pfs  , scr_ssd_nf     , scr_bypass     , scr_ssd_nf_one , scr_pfs_one    \n",
      "checkpoint time     ,      103.057664,      126.296083,      378.215081,      349.139191,      145.122746,      153.369808,       167.23401\n",
      "lustre time         ,        72.63898,               0,     1471.540838,       19.608824,       118.42119,             0.0,      1060.07277\n",
      "ssd time            ,               0,       97.497736,      837.766052,      308.222378,        0.152704,      121.076746,      472.086514\n"
     ]
    }
   ],
   "source": [
    "print(f\"{str('case'):20}, {str('base'):15}, {str('base_ssd'):15}, {str('scr_ssd_a_pfs'):15}, {str('scr_ssd_nf'):15}, {str('scr_bypass'):15}, {str('scr_ssd_nf_one'):15}, {str('scr_pfs_one'):15}\")\n",
    "print(f\"{str('checkpoint time'):20}, {float(base_ckp_time):15}, {float(base_ssd_ckp_time):15}, {float(scr_ssd_async_pfs_ckp_time):15}, {float(scr_ssd_no_flush_ckp_time):15}, {float(scr_bypass_ckp_time):15}, {float(scr_ssd_single_ckp_time):15}, {float(scr_pfs_single_ckp_time):15}\")\n",
    "print(f\"{str('lustre time'):20}, {float(base_posix_lustre_time):15}, {0:15}, {float(scr_ssd_async_pfs_posix_lustre_time):15}, {float(scr_ssd_no_flush_posix_lustre_time):15}, {float(scr_bypass_posix_lustre_time):15}, {float(0):15}, {float(scr_pfs_single_posix_lustre_time):15}\")\n",
    "print(f\"{str('ssd time'):20}, {0:15}, {float(base_ssd_posix_ssd_time):15}, {float(scr_ssd_async_pfs_posix_ssd_time):15}, {float(scr_ssd_no_flush_posix_ssd_time):15}, {float(scr_bypass_posix_ssd_time):15}, {float(scr_ssd_single_posix_ssd_time):15}, {float(scr_pfs_single_posix_ssd_time):15}\")"
   ]
  },
  {
   "cell_type": "markdown",
   "id": "3af32347",
   "metadata": {},
   "source": [
    "### Things to try (3/27/24)\n",
    "- Remove redundancy schemes: SCR_COPY_TYPE=SINGLE\n",
    "  - (Potentially) Less frequent reduncy schemes:\n"
   ]
  },
  {
   "cell_type": "markdown",
   "id": "b7eee7f1",
   "metadata": {},
   "source": [
    "### Things to try (4/17/24)\n",
    "- Compare Base SSD with SCR SSD no flush\n",
    "  - Check size\n",
    "  - Check files"
   ]
  },
  {
   "cell_type": "code",
   "execution_count": 26,
   "id": "6df9feb8",
   "metadata": {},
   "outputs": [
    {
     "data": {
      "text/plain": [
       "577.07171420753"
      ]
     },
     "execution_count": 26,
     "metadata": {},
     "output_type": "execute_result"
    }
   ],
   "source": [
    "base_ssd_checkpoints = analyzer_base_ssd.query(\"cat == 'POSIX' and filename.str.contains('/l/ssd/haridev/scr/checkpoints')\").compute()\n",
    "base_ssd_checkpoints[\"size\"].sum()/1024**3\n"
   ]
  },
  {
   "cell_type": "code",
   "execution_count": 27,
   "id": "150820e4",
   "metadata": {},
   "outputs": [
    {
     "data": {
      "text/plain": [
       "2019.7582258917391"
      ]
     },
     "execution_count": 27,
     "metadata": {},
     "output_type": "execute_result"
    }
   ],
   "source": [
    "scr_ssd_nf_checkpoints = analyzer_scr_no_flush.query(\"cat == 'POSIX' and filename.str.contains('/l/ssd/haridev/scr/checkpoints')\").compute()\n",
    "scr_ssd_nf_checkpoints[\"size\"].sum()/1024**3"
   ]
  },
  {
   "cell_type": "code",
   "execution_count": 34,
   "id": "f8bd5183",
   "metadata": {},
   "outputs": [],
   "source": [
    "import pandas as pd\n",
    "def print_full():\n",
    "    pd.set_option('display.max_rows', None)\n",
    "    pd.set_option('display.max_columns', None)\n",
    "    pd.set_option('display.width', 2000)\n",
    "    pd.set_option('display.float_format', '{:20,.2f}'.format)\n",
    "    pd.set_option('display.max_colwidth', None)\n",
    "    print(x)\n",
    "    pd.reset_option('display.max_rows')\n",
    "    pd.reset_option('display.max_columns')\n",
    "    pd.reset_option('display.width')\n",
    "    pd.reset_option('display.float_format')\n",
    "    pd.reset_option('display.max_colwidth')"
   ]
  },
  {
   "cell_type": "code",
   "execution_count": 53,
   "id": "b2263539",
   "metadata": {},
   "outputs": [
    {
     "name": "stdout",
     "output_type": "stream",
     "text": [
      "1000\n"
     ]
    },
    {
     "data": {
      "text/html": [
       "<div>\n",
       "<style scoped>\n",
       "    .dataframe tbody tr th:only-of-type {\n",
       "        vertical-align: middle;\n",
       "    }\n",
       "\n",
       "    .dataframe tbody tr th {\n",
       "        vertical-align: top;\n",
       "    }\n",
       "\n",
       "    .dataframe thead th {\n",
       "        text-align: right;\n",
       "    }\n",
       "</style>\n",
       "<table border=\"1\" class=\"dataframe\">\n",
       "  <thead>\n",
       "    <tr style=\"text-align: right;\">\n",
       "      <th></th>\n",
       "      <th>size_gb</th>\n",
       "      <th>dur_sec</th>\n",
       "    </tr>\n",
       "    <tr>\n",
       "      <th>fname_regex</th>\n",
       "      <th></th>\n",
       "      <th></th>\n",
       "    </tr>\n",
       "  </thead>\n",
       "  <tbody>\n",
       "    <tr>\n",
       "      <th>layer.pt</th>\n",
       "      <td>37.060777</td>\n",
       "      <td>39.932368</td>\n",
       "    </tr>\n",
       "    <tr>\n",
       "      <th>model.pt</th>\n",
       "      <td>0.000172</td>\n",
       "      <td>0.027605</td>\n",
       "    </tr>\n",
       "    <tr>\n",
       "      <th>optimizer.pt</th>\n",
       "      <td>31.434213</td>\n",
       "      <td>68.512567</td>\n",
       "    </tr>\n",
       "    <tr>\n",
       "      <th>scr_base_megatron_deepspeed</th>\n",
       "      <td>0.0</td>\n",
       "      <td>0.000025</td>\n",
       "    </tr>\n",
       "  </tbody>\n",
       "</table>\n",
       "</div>"
      ],
      "text/plain": [
       "                               size_gb    dur_sec\n",
       "fname_regex                                      \n",
       "layer.pt                     37.060777  39.932368\n",
       "model.pt                      0.000172   0.027605\n",
       "optimizer.pt                 31.434213  68.512567\n",
       "scr_base_megatron_deepspeed        0.0   0.000025"
      ]
     },
     "execution_count": 53,
     "metadata": {},
     "output_type": "execute_result"
    }
   ],
   "source": [
    "print_full(1000)\n",
    "import re\n",
    "base_ssd_checkpoints.groupby([\"filename\"])[\"size\"].sum()\n",
    "base_ssd_checkpoints[\"fname\"] = base_ssd_checkpoints[\"filename\"].apply(lambda x: str(os.path.basename(x)))\n",
    "base_ssd_checkpoints[\"fname_regex\"] = base_ssd_checkpoints[\"fname\"].apply(lambda x: re.sub(\"[\\d\\-]+\", \"\", x))\n",
    "base_ssd_checkpoints[\"size_gb\"] = base_ssd_checkpoints[\"size\"] / 1024 ** 3\n",
    "base_ssd_checkpoints[\"dur_sec\"] = base_ssd_checkpoints[\"dur\"] / 1e6\n",
    "base_ssd_checkpoints.groupby([\"fname_regex\", \"pid\"])[[\"size_gb\",\"dur_sec\"]].sum().groupby([\"fname_regex\"]).max()"
   ]
  },
  {
   "cell_type": "code",
   "execution_count": 55,
   "id": "fedb7ca8",
   "metadata": {},
   "outputs": [
    {
     "name": "stdout",
     "output_type": "stream",
     "text": [
      "1000\n"
     ]
    },
    {
     "data": {
      "text/html": [
       "<div>\n",
       "<style scoped>\n",
       "    .dataframe tbody tr th:only-of-type {\n",
       "        vertical-align: middle;\n",
       "    }\n",
       "\n",
       "    .dataframe tbody tr th {\n",
       "        vertical-align: top;\n",
       "    }\n",
       "\n",
       "    .dataframe thead th {\n",
       "        text-align: right;\n",
       "    }\n",
       "</style>\n",
       "<table border=\"1\" class=\"dataframe\">\n",
       "  <thead>\n",
       "    <tr style=\"text-align: right;\">\n",
       "      <th></th>\n",
       "      <th>size_gb</th>\n",
       "      <th>dur_sec</th>\n",
       "    </tr>\n",
       "    <tr>\n",
       "      <th>fname_regex</th>\n",
       "      <th></th>\n",
       "      <th></th>\n",
       "    </tr>\n",
       "  </thead>\n",
       "  <tbody>\n",
       "    <tr>\n",
       "      <th>.scr</th>\n",
       "      <td>0.0</td>\n",
       "      <td>0.000174</td>\n",
       "    </tr>\n",
       "    <tr>\n",
       "      <th>filemap_</th>\n",
       "      <td>0.002691</td>\n",
       "      <td>20.046874</td>\n",
       "    </tr>\n",
       "    <tr>\n",
       "      <th>haridev</th>\n",
       "      <td>0.0</td>\n",
       "      <td>0.00003</td>\n",
       "    </tr>\n",
       "    <tr>\n",
       "      <th>layer.pt</th>\n",
       "      <td>86.475146</td>\n",
       "      <td>53.715143</td>\n",
       "    </tr>\n",
       "    <tr>\n",
       "      <th>model.pt</th>\n",
       "      <td>0.000402</td>\n",
       "      <td>0.007508</td>\n",
       "    </tr>\n",
       "    <tr>\n",
       "      <th>optimizer.pt</th>\n",
       "      <td>73.346496</td>\n",
       "      <td>99.128509</td>\n",
       "    </tr>\n",
       "    <tr>\n",
       "      <th>reddesc.er..redset</th>\n",
       "      <td>0.000002</td>\n",
       "      <td>0.363602</td>\n",
       "    </tr>\n",
       "    <tr>\n",
       "      <th>reddesc.er..xor.grp__of_.mem__of_.redset</th>\n",
       "      <td>79.911251</td>\n",
       "      <td>139.56437</td>\n",
       "    </tr>\n",
       "    <tr>\n",
       "      <th>reddesc.er.er</th>\n",
       "      <td>0.000001</td>\n",
       "      <td>0.323558</td>\n",
       "    </tr>\n",
       "    <tr>\n",
       "      <th>reddesc.er.shuffile</th>\n",
       "      <td>0.00006</td>\n",
       "      <td>0.001817</td>\n",
       "    </tr>\n",
       "    <tr>\n",
       "      <th>reddescmap.er..redset</th>\n",
       "      <td>0.000002</td>\n",
       "      <td>0.667487</td>\n",
       "    </tr>\n",
       "    <tr>\n",
       "      <th>reddescmap.er..xor.grp__of_.mem__of_.redset</th>\n",
       "      <td>0.000198</td>\n",
       "      <td>0.784626</td>\n",
       "    </tr>\n",
       "    <tr>\n",
       "      <th>reddescmap.er.er</th>\n",
       "      <td>0.000001</td>\n",
       "      <td>0.993581</td>\n",
       "    </tr>\n",
       "    <tr>\n",
       "      <th>reddescmap.er.shuffile</th>\n",
       "      <td>0.000022</td>\n",
       "      <td>0.717871</td>\n",
       "    </tr>\n",
       "    <tr>\n",
       "      <th>scr.dataset.</th>\n",
       "      <td>0.0</td>\n",
       "      <td>0.000676</td>\n",
       "    </tr>\n",
       "    <tr>\n",
       "      <th>scr.defjobid</th>\n",
       "      <td>0.0</td>\n",
       "      <td>0.000036</td>\n",
       "    </tr>\n",
       "    <tr>\n",
       "      <th>scr_megatron_deepspeed</th>\n",
       "      <td>0.0</td>\n",
       "      <td>0.000379</td>\n",
       "    </tr>\n",
       "  </tbody>\n",
       "</table>\n",
       "</div>"
      ],
      "text/plain": [
       "                                               size_gb    dur_sec\n",
       "fname_regex                                                      \n",
       ".scr                                               0.0   0.000174\n",
       "filemap_                                      0.002691  20.046874\n",
       "haridev                                            0.0    0.00003\n",
       "layer.pt                                     86.475146  53.715143\n",
       "model.pt                                      0.000402   0.007508\n",
       "optimizer.pt                                 73.346496  99.128509\n",
       "reddesc.er..redset                            0.000002   0.363602\n",
       "reddesc.er..xor.grp__of_.mem__of_.redset     79.911251  139.56437\n",
       "reddesc.er.er                                 0.000001   0.323558\n",
       "reddesc.er.shuffile                            0.00006   0.001817\n",
       "reddescmap.er..redset                         0.000002   0.667487\n",
       "reddescmap.er..xor.grp__of_.mem__of_.redset   0.000198   0.784626\n",
       "reddescmap.er.er                              0.000001   0.993581\n",
       "reddescmap.er.shuffile                        0.000022   0.717871\n",
       "scr.dataset.                                       0.0   0.000676\n",
       "scr.defjobid                                       0.0   0.000036\n",
       "scr_megatron_deepspeed                             0.0   0.000379"
      ]
     },
     "execution_count": 55,
     "metadata": {},
     "output_type": "execute_result"
    }
   ],
   "source": [
    "print_full(1000)\n",
    "scr_ssd_nf_checkpoints.groupby([\"filename\"])[\"size\"].sum()\n",
    "scr_ssd_nf_checkpoints[\"fname\"] = scr_ssd_nf_checkpoints[\"filename\"].apply(lambda x: str(os.path.basename(x)))\n",
    "scr_ssd_nf_checkpoints[\"fname_regex\"] = scr_ssd_nf_checkpoints[\"fname\"].apply(lambda x: re.sub(\"[\\d\\-]+\", \"\", x))\n",
    "scr_ssd_nf_checkpoints[\"size_gb\"] = scr_ssd_nf_checkpoints[\"size\"] / 1024 ** 3\n",
    "scr_ssd_nf_checkpoints[\"dur_sec\"] = scr_ssd_nf_checkpoints[\"dur\"] / 1e6\n",
    "scr_ssd_nf_checkpoints.groupby([\"fname_regex\", \"pid\"])[[\"size_gb\",\"dur_sec\"]].sum().groupby([\"fname_regex\"]).max()"
   ]
  },
  {
   "cell_type": "code",
   "execution_count": 92,
   "id": "a85899d3",
   "metadata": {},
   "outputs": [
    {
     "data": {
      "text/plain": [
       "(1, 672, 10.034830729166666, 288, 288, 0)"
      ]
     },
     "execution_count": 92,
     "metadata": {},
     "output_type": "execute_result"
    }
   ],
   "source": [
    "base_ssd_checkpoints.query(\"fname.str.contains('model')\")[\"fname_regex\"].nunique(), \\\n",
    "    base_ssd_checkpoints.query(\"fname.str.contains('model')\")[\"fname_regex\"].count(), \\\n",
    "base_ssd_checkpoints.query(\"fname.str.contains('model')\")[\"size\"].mean() / 1024, \\\n",
    "    base_ssd_checkpoints.query(\"fname.str.contains('model') and size > 0\")[\"fname_regex\"].count(), \\\n",
    "    base_ssd_checkpoints.query(\"fname.str.contains('model') and name.str.contains('write')\")[\"fname_regex\"].count(), \\\n",
    "    base_ssd_checkpoints.query(\"fname.str.contains('model') and name.str.contains('read')\")[\"fname_regex\"].count()"
   ]
  },
  {
   "cell_type": "code",
   "execution_count": 89,
   "id": "797f0012",
   "metadata": {},
   "outputs": [
    {
     "data": {
      "text/plain": [
       "size\n",
       "320      96\n",
       "30102    96\n",
       "405      96\n",
       "Name: count, dtype: int64[pyarrow]"
      ]
     },
     "execution_count": 89,
     "metadata": {},
     "output_type": "execute_result"
    }
   ],
   "source": [
    "base_ssd_checkpoints.query(\"fname.str.contains('model') and size > 0\")[\"size\"].value_counts()"
   ]
  },
  {
   "cell_type": "code",
   "execution_count": 91,
   "id": "c8d71f2c",
   "metadata": {},
   "outputs": [
    {
     "data": {
      "text/plain": [
       "(1, 87842, 16.210111177884617, 416, 304, 112)"
      ]
     },
     "execution_count": 91,
     "metadata": {},
     "output_type": "execute_result"
    }
   ],
   "source": [
    "scr_ssd_nf_checkpoints.query(\"fname.str.contains('model')\")[\"fname_regex\"].nunique(), \\\n",
    "scr_ssd_nf_checkpoints.query(\"fname.str.contains('model')\")[\"fname_regex\"].count(), \\\n",
    "scr_ssd_nf_checkpoints.query(\"fname.str.contains('model')\")[\"size\"].mean() / 1024, \\\n",
    "    scr_ssd_nf_checkpoints.query(\"fname.str.contains('model') and size > 0\")[\"fname_regex\"].count(), \\\n",
    "    scr_ssd_nf_checkpoints.query(\"fname.str.contains('model') and name.str.contains('write')\")[\"fname_regex\"].count(), \\\n",
    "    scr_ssd_nf_checkpoints.query(\"fname.str.contains('model') and name.str.contains('read')\")[\"fname_regex\"].count()\n",
    "        "
   ]
  },
  {
   "cell_type": "code",
   "execution_count": 88,
   "id": "28eb664e",
   "metadata": {},
   "outputs": [
    {
     "data": {
      "text/plain": [
       "size\n",
       "30827    128\n",
       "320       96\n",
       "30102     96\n",
       "405       96\n",
       "Name: count, dtype: int64[pyarrow]"
      ]
     },
     "execution_count": 88,
     "metadata": {},
     "output_type": "execute_result"
    }
   ],
   "source": [
    "scr_ssd_nf_checkpoints.query(\"fname.str.contains('model') and size > 0\")[\"size\"].value_counts()"
   ]
  },
  {
   "cell_type": "code",
   "execution_count": 98,
   "id": "ac1e4fdf",
   "metadata": {},
   "outputs": [
    {
     "data": {
      "text/plain": [
       "fname\n",
       "model-1-600-0.pt     1\n",
       "model-1-600-10.pt    1\n",
       "model-1-600-11.pt    1\n",
       "model-1-600-12.pt    1\n",
       "model-1-600-13.pt    1\n",
       "model-1-600-14.pt    1\n",
       "model-1-600-15.pt    1\n",
       "model-1-600-1.pt     1\n",
       "model-1-600-2.pt     1\n",
       "model-1-600-3.pt     1\n",
       "model-1-600-4.pt     1\n",
       "model-1-600-5.pt     1\n",
       "model-1-600-6.pt     1\n",
       "model-1-600-7.pt     1\n",
       "model-1-600-8.pt     1\n",
       "model-1-600-9.pt     1\n",
       "Name: count, dtype: int64"
      ]
     },
     "execution_count": 98,
     "metadata": {},
     "output_type": "execute_result"
    }
   ],
   "source": [
    "scr_ssd_nf_checkpoints.query(\"fname.str.contains('model') and size == 30827 and name == 'write'\")[\"fname\"].value_counts()"
   ]
  },
  {
   "cell_type": "code",
   "execution_count": 99,
   "id": "007361bc",
   "metadata": {},
   "outputs": [
    {
     "data": {
      "text/plain": [
       "fname\n",
       "model-1-600-0.pt     2\n",
       "model-1-600-12.pt    2\n",
       "model-1-600-9.pt     2\n",
       "model-1-600-8.pt     2\n",
       "model-1-600-7.pt     2\n",
       "                    ..\n",
       "model-1-500-15.pt    1\n",
       "model-1-400-15.pt    1\n",
       "model-1-300-15.pt    1\n",
       "model-1-200-15.pt    1\n",
       "model-1-500-9.pt     1\n",
       "Name: count, Length: 96, dtype: int64"
      ]
     },
     "execution_count": 99,
     "metadata": {},
     "output_type": "execute_result"
    }
   ],
   "source": [
    "scr_ssd_nf_checkpoints.query(\"fname.str.contains('model') and size == 30827 and name == 'read'\")[\"fname\"].value_counts()"
   ]
  },
  {
   "cell_type": "code",
   "execution_count": 100,
   "id": "e4f1e9a3",
   "metadata": {},
   "outputs": [
    {
     "data": {
      "text/plain": [
       "fname\n",
       "model-1-600-0.pt     2\n",
       "model-1-600-10.pt    2\n",
       "model-1-600-11.pt    2\n",
       "model-1-600-12.pt    2\n",
       "model-1-600-13.pt    2\n",
       "model-1-600-14.pt    2\n",
       "model-1-600-15.pt    2\n",
       "model-1-600-1.pt     2\n",
       "model-1-600-2.pt     2\n",
       "model-1-600-3.pt     2\n",
       "model-1-600-4.pt     2\n",
       "model-1-600-5.pt     2\n",
       "model-1-600-6.pt     2\n",
       "model-1-600-7.pt     2\n",
       "model-1-600-8.pt     2\n",
       "model-1-600-9.pt     2\n",
       "Name: count, dtype: int64"
      ]
     },
     "execution_count": 100,
     "metadata": {},
     "output_type": "execute_result"
    }
   ],
   "source": [
    "scr_ssd_nf_checkpoints.query(\"fname.str.contains('model-1-600') and size == 30827 and name == 'read'\")[\"fname\"].value_counts()"
   ]
  },
  {
   "cell_type": "code",
   "execution_count": 101,
   "id": "ef382f09",
   "metadata": {},
   "outputs": [
    {
     "data": {
      "text/plain": [
       "fname\n",
       "model-1-100-0.pt     1\n",
       "model-1-200-0.pt     1\n",
       "model-1-400-5.pt     1\n",
       "model-1-300-5.pt     1\n",
       "model-1-200-5.pt     1\n",
       "                    ..\n",
       "model-1-100-14.pt    1\n",
       "model-1-500-13.pt    1\n",
       "model-1-400-13.pt    1\n",
       "model-1-300-13.pt    1\n",
       "model-1-500-9.pt     1\n",
       "Name: count, Length: 80, dtype: int64"
      ]
     },
     "execution_count": 101,
     "metadata": {},
     "output_type": "execute_result"
    }
   ],
   "source": [
    "scr_ssd_nf_checkpoints.query(\"~fname.str.contains('model-1-600') and size == 30827 and name == 'read'\")[\"fname\"].value_counts()"
   ]
  },
  {
   "cell_type": "code",
   "execution_count": null,
   "id": "5cf0419b",
   "metadata": {},
   "outputs": [],
   "source": []
  },
  {
   "cell_type": "code",
   "execution_count": null,
   "id": "0ed5da14",
   "metadata": {},
   "outputs": [],
   "source": []
  },
  {
   "cell_type": "code",
   "execution_count": null,
   "id": "5a7d396f",
   "metadata": {},
   "outputs": [],
   "source": []
  },
  {
   "cell_type": "code",
   "execution_count": 40,
   "id": "53667aa6",
   "metadata": {},
   "outputs": [
    {
     "name": "stdout",
     "output_type": "stream",
     "text": [
      "30.894138889191026\n",
      "30.894138889191026\n",
      "0    POSIX\n",
      "1    STDIO\n",
      "Name: cat, dtype: string\n"
     ]
    },
    {
     "data": {
      "image/png": "[encoded data removed]",
      "text/plain": [
       "<Figure size 640x480 with 1 Axes>"
      ]
     },
     "metadata": {},
     "output_type": "display_data"
    }
   ],
   "source": [
    "# SCR\n",
    "posix_lustre_time = analyzer_scr_pfs_single.query(\"cat == 'POSIX' and filename.str.contains('/p/lustre2/haridev/dlio/scr/checkpoints')\")\n",
    "print(posix_lustre_time[\"size\"].mean().compute() / 1024**2)\n",
    "posix_lustre_time = analyzer_scr_pfs_single.query(\"filename.str.contains('/p/lustre2/haridev/dlio/scr/checkpoints')\")\n",
    "print(posix_lustre_time[\"size\"].mean().compute() / 1024**2)\n",
    "posix_lustre_time = analyzer_scr_pfs_single.query(\"filename.str.contains('/p/lustre2/haridev/dlio/scr/checkpoints')\")\n",
    "print(posix_lustre_time[\"cat\"].unique().compute())\n",
    "val = posix_lustre_time[[\"size\"]].compute() / 1024**2\n",
    "ax = val.plot.hist(bins=12, alpha=0.5)"
   ]
  },
  {
   "cell_type": "code",
   "execution_count": 51,
   "id": "3cb1bc5d",
   "metadata": {},
   "outputs": [
    {
     "ename": "NameError",
     "evalue": "name 'analyzer_scr_no_flush' is not defined",
     "output_type": "error",
     "traceback": [
      "\u001b[0;31m---------------------------------------------------------------------------\u001b[0m",
      "\u001b[0;31mNameError\u001b[0m                                 Traceback (most recent call last)",
      "Cell \u001b[0;32mIn[51], line 1\u001b[0m\n\u001b[0;32m----> 1\u001b[0m \u001b[43manalyzer_scr_no_flush\u001b[49m\u001b[38;5;241m.\u001b[39mquery(\u001b[38;5;124m\"\u001b[39m\u001b[38;5;124mcat == \u001b[39m\u001b[38;5;124m'\u001b[39m\u001b[38;5;124mPOSIX\u001b[39m\u001b[38;5;124m'\u001b[39m\u001b[38;5;124m and filename.str.contains(\u001b[39m\u001b[38;5;124m'\u001b[39m\u001b[38;5;124m/l/ssd/haridev/scr/checkpoints\u001b[39m\u001b[38;5;124m'\u001b[39m\u001b[38;5;124m)\u001b[39m\u001b[38;5;124m\"\u001b[39m)[\u001b[38;5;124m\"\u001b[39m\u001b[38;5;124msize\u001b[39m\u001b[38;5;124m\"\u001b[39m]\u001b[38;5;241m.\u001b[39msum()\u001b[38;5;241m.\u001b[39mcompute() \u001b[38;5;241m/\u001b[39m\u001b[38;5;241m1024\u001b[39m\u001b[38;5;241m*\u001b[39m\u001b[38;5;241m*\u001b[39m\u001b[38;5;241m3\u001b[39m\n",
      "\u001b[0;31mNameError\u001b[0m: name 'analyzer_scr_no_flush' is not defined"
     ]
    }
   ],
   "source": [
    "analyzer_scr_no_flush.query(\"cat == 'POSIX' and filename.str.contains('/l/ssd/haridev/scr/checkpoints')\")[\"size\"].sum().compute() /1024**3"
   ]
  },
  {
   "cell_type": "code",
   "execution_count": 49,
   "id": "9cf5efd4",
   "metadata": {},
   "outputs": [
    {
     "data": {
      "text/plain": [
       "0       /l/ssd/haridev/scr/checkpoints/scr_megatron_de...\n",
       "1       /l/ssd/haridev/scr/checkpoints/scr_megatron_de...\n",
       "2       /l/ssd/haridev/scr/checkpoints/scr_megatron_de...\n",
       "3       /l/ssd/haridev/scr/checkpoints/scr_megatron_de...\n",
       "4       /l/ssd/haridev/scr/checkpoints/scr_megatron_de...\n",
       "                              ...                        \n",
       "2277    /l/ssd/haridev/scr/checkpoints/scr_megatron_de...\n",
       "2278    /l/ssd/haridev/scr/checkpoints/scr_megatron_de...\n",
       "2279    /l/ssd/haridev/scr/checkpoints/scr_megatron_de...\n",
       "2280    /l/ssd/haridev/scr/checkpoints/scr_megatron_de...\n",
       "2281    /l/ssd/haridev/scr/checkpoints/scr_megatron_de...\n",
       "Name: filename, Length: 2282, dtype: string"
      ]
     },
     "execution_count": 49,
     "metadata": {},
     "output_type": "execute_result"
    }
   ],
   "source": [
    "analyzer_scr_pfs_single.query(\"cat == 'POSIX' and filename.str.contains('/l/ssd/haridev/scr/checkpoints')\")[\"filename\"].unique().compute()"
   ]
  },
  {
   "cell_type": "code",
   "execution_count": 46,
   "id": "97a9630e",
   "metadata": {},
   "outputs": [
    {
     "data": {
      "text/plain": [
       "577.07171420753"
      ]
     },
     "execution_count": 46,
     "metadata": {},
     "output_type": "execute_result"
    }
   ],
   "source": [
    "analyzer_base_ssd.query(\"cat == 'POSIX' and filename.str.contains('/l/ssd/haridev/scr/checkpoints')\")[\"size\"].sum().compute() /1024**3"
   ]
  },
  {
   "cell_type": "code",
   "execution_count": 50,
   "id": "56f88a9f",
   "metadata": {},
   "outputs": [
    {
     "data": {
      "text/plain": [
       "0      /l/ssd/haridev/scr/checkpoints/scr_base_megatr...\n",
       "1      /l/ssd/haridev/scr/checkpoints/scr_base_megatr...\n",
       "2      /l/ssd/haridev/scr/checkpoints/scr_base_megatr...\n",
       "3      /l/ssd/haridev/scr/checkpoints/scr_base_megatr...\n",
       "4      /l/ssd/haridev/scr/checkpoints/scr_base_megatr...\n",
       "                             ...                        \n",
       "716    /l/ssd/haridev/scr/checkpoints/scr_base_megatr...\n",
       "717    /l/ssd/haridev/scr/checkpoints/scr_base_megatr...\n",
       "718    /l/ssd/haridev/scr/checkpoints/scr_base_megatr...\n",
       "719    /l/ssd/haridev/scr/checkpoints/scr_base_megatr...\n",
       "720    /l/ssd/haridev/scr/checkpoints/scr_base_megatr...\n",
       "Name: filename, Length: 721, dtype: string"
      ]
     },
     "execution_count": 50,
     "metadata": {},
     "output_type": "execute_result"
    }
   ],
   "source": [
    "analyzer_base_ssd.query(\"cat == 'POSIX' and filename.str.contains('/l/ssd/haridev/scr/checkpoints')\")[\"filename\"].unique().compute()"
   ]
  },
  {
   "cell_type": "code",
   "execution_count": 32,
   "id": "f2308b8c",
   "metadata": {},
   "outputs": [
    {
     "name": "stdout",
     "output_type": "stream",
     "text": [
      "155.8337118535102\n",
      "155.8337118535102\n",
      "0    POSIX\n",
      "Name: cat, dtype: string\n"
     ]
    },
    {
     "data": {
      "image/png": "[encoded data removed]",
      "text/plain": [
       "<Figure size 640x480 with 1 Axes>"
      ]
     },
     "metadata": {},
     "output_type": "display_data"
    }
   ],
   "source": [
    "# Base with PFS\n",
    "posix_lustre_time = analyzer_base_pfs.query(\"cat == 'POSIX' and filename.str.contains('/p/lustre2/haridev/dlio/scr/checkpoints')\")\n",
    "print(posix_lustre_time[\"size\"].mean().compute() / 1024**2)\n",
    "posix_lustre_time = analyzer_base_pfs.query(\"filename.str.contains('/p/lustre2/haridev/dlio/scr/checkpoints')\")\n",
    "print(posix_lustre_time[\"size\"].mean().compute() / 1024**2)\n",
    "posix_lustre_time = analyzer_base_pfs.query(\"filename.str.contains('/p/lustre2/haridev/dlio/scr/checkpoints')\")\n",
    "print(posix_lustre_time[\"cat\"].unique().compute())\n",
    "ax = posix_lustre_time.plot.hist(bins=100, alpha=0.5)"
   ]
  },
  {
   "cell_type": "code",
   "execution_count": null,
   "id": "ecab1e92",
   "metadata": {},
   "outputs": [],
   "source": []
  },
  {
   "cell_type": "code",
   "execution_count": null,
   "id": "13653f17",
   "metadata": {},
   "outputs": [],
   "source": []
  },
  {
   "cell_type": "code",
   "execution_count": 37,
   "id": "7ab21934",
   "metadata": {},
   "outputs": [
    {
     "data": {
      "image/png": "[encoded data removed]",
      "text/plain": [
       "<Figure size 640x480 with 1 Axes>"
      ]
     },
     "metadata": {},
     "output_type": "display_data"
    },
    {
     "data": {
      "image/png": "[encoded data removed]",
      "text/plain": [
       "<Figure size 640x480 with 1 Axes>"
      ]
     },
     "metadata": {},
     "output_type": "display_data"
    },
    {
     "data": {
      "image/png": "[encoded data removed]",
      "text/plain": [
       "<Figure size 640x480 with 1 Axes>"
      ]
     },
     "metadata": {},
     "output_type": "display_data"
    }
   ],
   "source": [
    "val = posix_lustre_time[[\"size\"]].compute()\n",
    "val_100mb = val.query(\"size < 104857600\")/ 1024**2\n",
    "val_mb = val.query(\"size >= 104857600 and size < 419430400\") / 1024**2\n",
    "val_gb = val.query(\"size >= 419430400\")/ 1024**2\n",
    "ax = val_100mb.plot.hist(bins=10, alpha=0.5)\n",
    "ax = val_mb.plot.hist(bins=10, alpha=0.5)\n",
    "ax = val_gb.plot.hist(bins=10, alpha=0.5)"
   ]
  },
  {
   "cell_type": "code",
   "execution_count": 24,
   "id": "7b3ffebe",
   "metadata": {},
   "outputs": [
    {
     "data": {
      "text/plain": [
       "135.28421138931105"
      ]
     },
     "execution_count": 24,
     "metadata": {},
     "output_type": "execute_result"
    }
   ],
   "source": [
    "# Base with SSD\n",
    "posix_lustre_time = analyzer_base_ssd.query(\"cat == 'POSIX' and filename.str.contains('/l/ssd/haridev/scr/checkpoints')\")\n",
    "posix_lustre_time[\"size\"].mean().compute() / 1024**2"
   ]
  },
  {
   "cell_type": "code",
   "execution_count": null,
   "id": "7c0f765e",
   "metadata": {},
   "outputs": [],
   "source": []
  }
 ],
 "metadata": {
  "kernelspec": {
   "display_name": "venv",
   "language": "python",
   "name": "python3"
  },
  "language_info": {
   "codemirror_mode": {
    "name": "ipython",
    "version": 3
   },
   "file_extension": ".py",
   "mimetype": "text/x-python",
   "name": "python",
   "nbconvert_exporter": "python",
   "pygments_lexer": "ipython3",
   "version": "3.9.12"
  }
 },
 "nbformat": 4,
 "nbformat_minor": 5
}
