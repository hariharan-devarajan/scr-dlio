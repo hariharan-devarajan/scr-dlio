{
 "cells": [
  {
   "cell_type": "code",
   "execution_count": 1,
   "id": "ffad981a",
   "metadata": {},
   "outputs": [],
   "source": [
    "import json\n",
    "import os\n",
    "import yaml\n",
    "from pathlib import Path\n",
    "from dask.distributed import Client\n",
    "import re"
   ]
  },
  {
   "cell_type": "code",
   "execution_count": 2,
   "id": "a0dc2087",
   "metadata": {},
   "outputs": [],
   "source": [
    "use_local=True"
   ]
  },
  {
   "cell_type": "code",
   "execution_count": 3,
   "id": "02b5e92c",
   "metadata": {},
   "outputs": [],
   "source": [
    "if not use_local:\n",
    "    with open(f'~/.dlio_profiler/configuration.yaml', 'r') as file:\n",
    "        dlp_yaml = yaml.safe_load(file)\n",
    "        app_root = dlp_yaml[\"app\"]\n",
    "else:\n",
    "    app_root = str(Path(os.getcwd()).parent.parent)"
   ]
  },
  {
   "cell_type": "code",
   "execution_count": 4,
   "id": "af5ecd2b",
   "metadata": {},
   "outputs": [
    {
     "data": {
      "text/plain": [
       "['/usr/WS2/haridev',\n",
       " '/usr/WS2/haridev/scr-dlio/examples',\n",
       " '/usr/workspace/iopp/projects/digio',\n",
       " '/collab/usr/gapps/python/build/spack-toss4.1/var/spack/environments/python/._view/75prb56irmif5ejtirjthpx6kq3gqo52/lib/python39.zip',\n",
       " '/collab/usr/gapps/python/build/spack-toss4.1/var/spack/environments/python/._view/75prb56irmif5ejtirjthpx6kq3gqo52/lib/python3.9',\n",
       " '/collab/usr/gapps/python/build/spack-toss4.1/var/spack/environments/python/._view/75prb56irmif5ejtirjthpx6kq3gqo52/lib/python3.9/lib-dynload',\n",
       " '',\n",
       " '/usr/workspace/haridev/scr-dlio/venv/lib/python3.9/site-packages']"
      ]
     },
     "execution_count": 4,
     "metadata": {},
     "output_type": "execute_result"
    }
   ],
   "source": [
    "import sys\n",
    "sys.path.insert(0, app_root)\n",
    "sys.path"
   ]
  },
  {
   "cell_type": "code",
   "execution_count": 5,
   "id": "91cf1a4d",
   "metadata": {},
   "outputs": [
    {
     "name": "stdout",
     "output_type": "stream",
     "text": [
      "/usr/workspace/haridev/scr-dlio/venv/lib/python3.9/site-packages/dlp_analyzer/__init__.py\n"
     ]
    }
   ],
   "source": [
    "import dlp_analyzer\n",
    "print(dlp_analyzer.__file__)\n",
    "from dlp_analyzer.main import DLPAnalyzer,get_dlp_configuration,update_dlp_configuration,setup_logging,setup_dask_cluster, reset_dask_cluster, get_dlp_configuration\n"
   ]
  },
  {
   "cell_type": "code",
   "execution_count": 6,
   "id": "60ed3530",
   "metadata": {},
   "outputs": [],
   "source": [
    "if not use_local:\n",
    "    dask_run_dir = os.path.join(app_root, \"dlp_analyzer\", \"dask\", \"run_dir\")\n",
    "    with open (os.path.join(dask_run_dir, f\"scheduler_{os.getenv('USER')}.json\"), \"r\") as f:\n",
    "        dask_scheduler = json.load(f)[\"address\"]\n",
    "else:\n",
    "    dask_scheduler = None"
   ]
  },
  {
   "cell_type": "code",
   "execution_count": 7,
   "id": "eecb0bb3",
   "metadata": {},
   "outputs": [],
   "source": [
    "app_name = \"dlio_scr\" # dlio dlio_scr"
   ]
  },
  {
   "cell_type": "code",
   "execution_count": 8,
   "id": "dc01ef48",
   "metadata": {},
   "outputs": [],
   "source": [
    "def get_conditions(json_object):\n",
    "    app_io_cond = \"reader\" in json_object[\"cat\"] or \"checkpoint\" in json_object[\"cat\"]\n",
    "    compute_cond = \"compute\" in json_object[\"name\"] # Cosmoflow\n",
    "    io_cond = \"POSIX\" == json_object[\"cat\"] # Cosmoflow\n",
    "    return app_io_cond, compute_cond, io_cond"
   ]
  },
  {
   "cell_type": "code",
   "execution_count": 9,
   "id": "40f2054c",
   "metadata": {},
   "outputs": [],
   "source": [
    "conf = update_dlp_configuration(dask_scheduler=dask_scheduler, verbose=True, workers=64,\n",
    "                                log_file=f\"./dlp_{os.getenv('USER')}.log\", rebuild_index=False, time_approximate=True, \n",
    "                                host_pattern=r'lassen(\\d+)', time_granularity=30e6, skip_hostname=True, conditions=get_conditions)"
   ]
  },
  {
   "cell_type": "code",
   "execution_count": 10,
   "id": "7c6ccc4d",
   "metadata": {},
   "outputs": [],
   "source": [
    "setup_logging()"
   ]
  },
  {
   "cell_type": "code",
   "execution_count": 11,
   "id": "8ca94e69",
   "metadata": {},
   "outputs": [
    {
     "name": "stderr",
     "output_type": "stream",
     "text": [
      "[INFO] [12:27:57] Initialized Client with 64 workers and link http://127.0.0.1:8787/status [/usr/workspace/haridev/scr-dlio/venv/lib/python3.9/site-packages/dlp_analyzer/main.py:668]\n"
     ]
    }
   ],
   "source": [
    "setup_dask_cluster()"
   ]
  },
  {
   "cell_type": "code",
   "execution_count": 12,
   "id": "38d2aa0d",
   "metadata": {},
   "outputs": [],
   "source": [
    "def get_checkpoint_time(df):\n",
    "    app_time = df.query(\"name.str.contains('PyTorchCheckpointing.checkpoint')\")\n",
    "    app_time_files = app_time.groupby([\"pid\"]).agg({\"dur\":sum}).max()\n",
    "    return app_time_files.compute() / 1e6\n",
    "\n",
    "def get_posix_pfs_time(df):\n",
    "    posix_lustre_time = df.query(\"cat == 'POSIX' and filename.str.contains('/p/lustre2/haridev/dlio/scr/checkpoints')\")\n",
    "    posix_lustre_time_files = posix_lustre_time.groupby([\"pid\"]).agg({\"dur\":sum}).max()\n",
    "    return posix_lustre_time_files.compute() / 1e6\n",
    "\n",
    "def get_posix_ssd_time(df):\n",
    "    posix_lustre_time = df.query(\"cat == 'POSIX' and filename.str.contains('/l/ssd/haridev/scr/checkpoints')\")\n",
    "    posix_lustre_time_files = posix_lustre_time.groupby([\"pid\"]).agg({\"dur\":sum}).max()\n",
    "    return posix_lustre_time_files.compute() / 1e6"
   ]
  },
  {
   "cell_type": "code",
   "execution_count": 30,
   "id": "5b4e9c41",
   "metadata": {},
   "outputs": [
    {
     "name": "stderr",
     "output_type": "stream",
     "text": [
      "[INFO] [17:12:06] Created index for 16 files [/usr/workspace/haridev/scr-dlio/venv/lib/python3.9/site-packages/dlp_analyzer/main.py:365]\n",
      "[INFO] [17:12:06] Total size of all files are <dask.bag.core.Item object at 0x1554a8913c70> bytes [/usr/workspace/haridev/scr-dlio/venv/lib/python3.9/site-packages/dlp_analyzer/main.py:367]\n",
      "[INFO] [17:12:07] Loading 8994 batches out of 16 files and has 147302750 lines overall [/usr/workspace/haridev/scr-dlio/venv/lib/python3.9/site-packages/dlp_analyzer/main.py:380]\n",
      "[INFO] [17:16:28] Loaded events [/usr/workspace/haridev/scr-dlio/venv/lib/python3.9/site-packages/dlp_analyzer/main.py:422]\n",
      "[INFO] [17:16:28] Loaded plots with slope threshold: 45 [/usr/workspace/haridev/scr-dlio/venv/lib/python3.9/site-packages/dlp_analyzer/main.py:428]\n"
     ]
    }
   ],
   "source": [
    "# Baseline over PFS\n",
    "filename = \"/g/g92/haridev/projects/scr-dlio/logs/n2_p8_base/trace*.pfw.gz\"\n",
    "analyzer_base_pfs = DLPAnalyzer(filename).events"
   ]
  },
  {
   "cell_type": "code",
   "execution_count": 31,
   "id": "72a20244",
   "metadata": {},
   "outputs": [],
   "source": [
    "base_ckp_time = get_checkpoint_time(analyzer_base_pfs)\n",
    "base_posix_lustre_time = get_posix_pfs_time(analyzer_base_pfs)\n",
    "base_posix_ssd_time = get_posix_ssd_time(analyzer_base_pfs)"
   ]
  },
  {
   "cell_type": "code",
   "execution_count": 13,
   "id": "1057042d",
   "metadata": {},
   "outputs": [
    {
     "name": "stderr",
     "output_type": "stream",
     "text": [
      "[INFO] [09:33:33] Created index for 16 files [/usr/workspace/haridev/scr-dlio/venv/lib/python3.9/site-packages/dlp_analyzer/main.py:365]\n",
      "[INFO] [09:33:33] Total size of all files are <dask.bag.core.Item object at 0x1554aa8bd940> bytes [/usr/workspace/haridev/scr-dlio/venv/lib/python3.9/site-packages/dlp_analyzer/main.py:367]\n",
      "[INFO] [09:33:35] Loading 8976 batches out of 16 files and has 146988160 lines overall [/usr/workspace/haridev/scr-dlio/venv/lib/python3.9/site-packages/dlp_analyzer/main.py:380]\n",
      "[INFO] [09:38:06] Loaded events [/usr/workspace/haridev/scr-dlio/venv/lib/python3.9/site-packages/dlp_analyzer/main.py:422]\n",
      "[INFO] [09:38:06] Loaded plots with slope threshold: 45 [/usr/workspace/haridev/scr-dlio/venv/lib/python3.9/site-packages/dlp_analyzer/main.py:428]\n"
     ]
    }
   ],
   "source": [
    "# Baseline over SSD\n",
    "filename = \"/usr/WS2/haridev/scr-dlio/scripts/hydra_log/megatron_deepspeed/2024-03-21-23-06-04/trace*.pfw.gz\"\n",
    "analyzer_base_ssd = DLPAnalyzer(filename).events"
   ]
  },
  {
   "cell_type": "code",
   "execution_count": 15,
   "id": "5f09b1e6",
   "metadata": {},
   "outputs": [],
   "source": [
    "base_ssd_ckp_time = get_checkpoint_time(analyzer_base_ssd)\n",
    "base_ssd_posix_lustre_time = get_posix_pfs_time(analyzer_base_ssd)\n",
    "base_ssd_posix_ssd_time = get_posix_ssd_time(analyzer_base_ssd)\n"
   ]
  },
  {
   "cell_type": "code",
   "execution_count": 17,
   "id": "2172b961",
   "metadata": {},
   "outputs": [
    {
     "name": "stderr",
     "output_type": "stream",
     "text": [
      "[INFO] [17:33:53] Created index for 16 files [/usr/workspace/haridev/scr-dlio/venv/lib/python3.9/site-packages/dlp_analyzer/main.py:365]\n",
      "[INFO] [17:33:53] Total size of all files are <dask.bag.core.Item object at 0x1551700ada00> bytes [/usr/workspace/haridev/scr-dlio/venv/lib/python3.9/site-packages/dlp_analyzer/main.py:367]\n",
      "[INFO] [17:33:54] Loading 9132 batches out of 16 files and has 149432067 lines overall [/usr/workspace/haridev/scr-dlio/venv/lib/python3.9/site-packages/dlp_analyzer/main.py:380]\n",
      "[INFO] [17:38:32] Loaded events [/usr/workspace/haridev/scr-dlio/venv/lib/python3.9/site-packages/dlp_analyzer/main.py:422]\n",
      "[INFO] [17:38:32] Loaded plots with slope threshold: 45 [/usr/workspace/haridev/scr-dlio/venv/lib/python3.9/site-packages/dlp_analyzer/main.py:428]\n"
     ]
    }
   ],
   "source": [
    "# SCR on SSD and with Async Flush to PFS\n",
    "filename = \"/g/g92/haridev/projects/scr-dlio/logs/n2_p8_scr_finer/trace*.pfw.gz\"\n",
    "analyzer_scr_basic = DLPAnalyzer(filename).events"
   ]
  },
  {
   "cell_type": "code",
   "execution_count": 18,
   "id": "a11aeae6",
   "metadata": {},
   "outputs": [],
   "source": [
    "scr_ssd_async_pfs_ckp_time = get_checkpoint_time(analyzer_scr_basic)\n",
    "scr_ssd_async_pfs_posix_lustre_time = get_posix_pfs_time(analyzer_scr_basic)\n",
    "scr_ssd_async_pfs_posix_ssd_time = get_posix_ssd_time(analyzer_scr_basic)\n"
   ]
  },
  {
   "cell_type": "code",
   "execution_count": 16,
   "id": "238bda3e",
   "metadata": {},
   "outputs": [
    {
     "name": "stderr",
     "output_type": "stream",
     "text": [
      "[INFO] [09:11:05] Created index for 16 files [/usr/workspace/haridev/scr-dlio/venv/lib/python3.9/site-packages/dlp_analyzer/main.py:365]\n",
      "[INFO] [09:11:05] Total size of all files are <dask.bag.core.Item object at 0x155170c042e0> bytes [/usr/workspace/haridev/scr-dlio/venv/lib/python3.9/site-packages/dlp_analyzer/main.py:367]\n",
      "[INFO] [09:11:05] Loading 9124 batches out of 16 files and has 149369304 lines overall [/usr/workspace/haridev/scr-dlio/venv/lib/python3.9/site-packages/dlp_analyzer/main.py:380]\n",
      "[INFO] [09:16:34] Loaded events [/usr/workspace/haridev/scr-dlio/venv/lib/python3.9/site-packages/dlp_analyzer/main.py:422]\n",
      "[INFO] [09:16:34] Loaded plots with slope threshold: 45 [/usr/workspace/haridev/scr-dlio/venv/lib/python3.9/site-packages/dlp_analyzer/main.py:428]\n"
     ]
    }
   ],
   "source": [
    "# SCR on SSD and no flush\n",
    "filename = \"/usr/WS2/haridev/scr-dlio/scripts/hydra_log/scr_megatron_deepspeed/2024-03-20-10-52-41/trace*.pfw.gz\"\n",
    "analyzer_scr_no_flush = DLPAnalyzer(filename).events"
   ]
  },
  {
   "cell_type": "code",
   "execution_count": 17,
   "id": "e08d10f2",
   "metadata": {},
   "outputs": [],
   "source": [
    "\n",
    "scr_ssd_no_flush_ckp_time = get_checkpoint_time(analyzer_scr_no_flush)\n",
    "scr_ssd_no_flush_posix_lustre_time = get_posix_pfs_time(analyzer_scr_no_flush)\n",
    "scr_ssd_no_flush_posix_ssd_time = get_posix_ssd_time(analyzer_scr_no_flush)"
   ]
  },
  {
   "cell_type": "code",
   "execution_count": 21,
   "id": "443b2f49",
   "metadata": {},
   "outputs": [
    {
     "name": "stderr",
     "output_type": "stream",
     "text": [
      "[INFO] [17:44:50] Created index for 16 files [/usr/workspace/haridev/scr-dlio/venv/lib/python3.9/site-packages/dlp_analyzer/main.py:365]\n",
      "[INFO] [17:44:50] Total size of all files are <dask.bag.core.Item object at 0x15515cf35a00> bytes [/usr/workspace/haridev/scr-dlio/venv/lib/python3.9/site-packages/dlp_analyzer/main.py:367]\n",
      "[INFO] [17:44:50] Loading 8977 batches out of 16 files and has 146963672 lines overall [/usr/workspace/haridev/scr-dlio/venv/lib/python3.9/site-packages/dlp_analyzer/main.py:380]\n",
      "[INFO] [17:50:37] Loaded events [/usr/workspace/haridev/scr-dlio/venv/lib/python3.9/site-packages/dlp_analyzer/main.py:422]\n",
      "[INFO] [17:50:37] Loaded plots with slope threshold: 45 [/usr/workspace/haridev/scr-dlio/venv/lib/python3.9/site-packages/dlp_analyzer/main.py:428]\n"
     ]
    }
   ],
   "source": [
    "# SCR bypass\n",
    "filename = \"/usr/WS2/haridev/scr-dlio/scripts/hydra_log/scr_megatron_deepspeed/2024-03-21-22-44-18/trace*.pfw.gz\"\n",
    "analyzer_scr_bypass = DLPAnalyzer(filename).events"
   ]
  },
  {
   "cell_type": "code",
   "execution_count": 22,
   "id": "0f08050a",
   "metadata": {},
   "outputs": [],
   "source": [
    "\n",
    "scr_bypass_ckp_time = get_checkpoint_time(analyzer_scr_bypass)\n",
    "scr_bypass_posix_lustre_time = get_posix_pfs_time(analyzer_scr_bypass)\n",
    "scr_bypass_posix_ssd_time = get_posix_ssd_time(analyzer_scr_bypass)"
   ]
  },
  {
   "cell_type": "code",
   "execution_count": 14,
   "id": "8f3295e0",
   "metadata": {},
   "outputs": [
    {
     "name": "stderr",
     "output_type": "stream",
     "text": [
      "[INFO] [09:38:06] Created index for 8 files [/usr/workspace/haridev/scr-dlio/venv/lib/python3.9/site-packages/dlp_analyzer/main.py:365]\n",
      "[INFO] [09:38:06] Total size of all files are <dask.bag.core.Item object at 0x15550f86a610> bytes [/usr/workspace/haridev/scr-dlio/venv/lib/python3.9/site-packages/dlp_analyzer/main.py:367]\n",
      "[INFO] [09:38:07] Loading 4488 batches out of 8 files and has 73467844 lines overall [/usr/workspace/haridev/scr-dlio/venv/lib/python3.9/site-packages/dlp_analyzer/main.py:380]\n",
      "[INFO] [09:40:17] Loaded events [/usr/workspace/haridev/scr-dlio/venv/lib/python3.9/site-packages/dlp_analyzer/main.py:422]\n",
      "[INFO] [09:40:17] Loaded plots with slope threshold: 45 [/usr/workspace/haridev/scr-dlio/venv/lib/python3.9/site-packages/dlp_analyzer/main.py:428]\n"
     ]
    }
   ],
   "source": [
    "# SCR ssd single copy\n",
    "filename = \"/usr/WS2/haridev/scr-dlio/scripts/hydra_log/scr_megatron_deepspeed/2024-04-08-09-33-09/trace*.pfw.gz\"\n",
    "analyzer_scr_ssd_single = DLPAnalyzer(filename).events"
   ]
  },
  {
   "cell_type": "code",
   "execution_count": 24,
   "id": "4163d3fa",
   "metadata": {},
   "outputs": [],
   "source": [
    "\n",
    "scr_ssd_single_ckp_time = get_checkpoint_time(analyzer_scr_ssd_single)\n",
    "scr_ssd_single_posix_lustre_time = get_posix_pfs_time(analyzer_scr_ssd_single)\n",
    "scr_ssd_single_posix_ssd_time = get_posix_ssd_time(analyzer_scr_ssd_single)"
   ]
  },
  {
   "cell_type": "code",
   "execution_count": 13,
   "id": "2c957120",
   "metadata": {},
   "outputs": [
    {
     "name": "stderr",
     "output_type": "stream",
     "text": [
      "[INFO] [12:28:24] Created index for 16 files [/usr/workspace/haridev/scr-dlio/venv/lib/python3.9/site-packages/dlp_analyzer/main.py:365]\n",
      "[INFO] [12:28:24] Total size of all files are <dask.bag.core.Item object at 0x1554a89b8a60> bytes [/usr/workspace/haridev/scr-dlio/venv/lib/python3.9/site-packages/dlp_analyzer/main.py:367]\n",
      "[INFO] [12:28:25] Loading 8986 batches out of 16 files and has 147099195 lines overall [/usr/workspace/haridev/scr-dlio/venv/lib/python3.9/site-packages/dlp_analyzer/main.py:380]\n",
      "ERROR:root:Processing {\"id\":\"6930\",\"name\":\"close\",\"cat\":\"POSIX\",\"pid\":\"0\",\"tid\":\"953748\",\"ts\":\"1712599257392616\",\"dur\":\"4012\",\"ph\":\"X\",\"args\":{\"hostname\":\"corona171\",\"ret\":0,\"fname\":\"\u0001\",\"fd\":39}} failed with Invalid control character at: line 1 column 162 (char 161)\n",
      "[INFO] [12:32:39] Loaded events [/usr/workspace/haridev/scr-dlio/venv/lib/python3.9/site-packages/dlp_analyzer/main.py:422]\n",
      "[INFO] [12:32:39] Loaded plots with slope threshold: 45 [/usr/workspace/haridev/scr-dlio/venv/lib/python3.9/site-packages/dlp_analyzer/main.py:428]\n"
     ]
    }
   ],
   "source": [
    "# SCR pfs single copy\n",
    "filename = \"/usr/WS2/haridev/scr-dlio/scripts/hydra_log/scr_megatron_deepspeed/2024-04-08-10-52-57/trace*.pfw.gz\"\n",
    "analyzer_scr_pfs_single = DLPAnalyzer(filename).events"
   ]
  },
  {
   "cell_type": "code",
   "execution_count": 14,
   "id": "8bb084f8",
   "metadata": {},
   "outputs": [],
   "source": [
    "\n",
    "scr_pfs_single_ckp_time = get_checkpoint_time(analyzer_scr_pfs_single)\n",
    "scr_pfs_single_posix_lustre_time = get_posix_pfs_time(analyzer_scr_pfs_single)\n",
    "scr_pfs_single_posix_ssd_time = get_posix_ssd_time(analyzer_scr_pfs_single)"
   ]
  },
  {
   "cell_type": "code",
   "execution_count": 15,
   "id": "62d5bf39",
   "metadata": {},
   "outputs": [
    {
     "data": {
      "text/plain": [
       "(dur    167.23401\n",
       " dtype: double[pyarrow],\n",
       " dur    1060.07277\n",
       " dtype: double[pyarrow],\n",
       " dur    472.086514\n",
       " dtype: double[pyarrow])"
      ]
     },
     "execution_count": 15,
     "metadata": {},
     "output_type": "execute_result"
    }
   ],
   "source": [
    "scr_pfs_single_ckp_time, scr_pfs_single_posix_lustre_time, scr_pfs_single_posix_ssd_time"
   ]
  },
  {
   "cell_type": "code",
   "execution_count": 32,
   "id": "72c186a5",
   "metadata": {},
   "outputs": [
    {
     "name": "stdout",
     "output_type": "stream",
     "text": [
      "case                , base           , base_ssd       , scr_ssd_a_pfs  , scr_ssd_nf     , scr_bypass     , scr_ssd_nf_one , scr_pfs_one    \n",
      "checkpoint time     ,      103.057664,      126.296083,      378.215081,      349.139191,      145.122746,      153.369808,       167.23401\n",
      "lustre time         ,        72.63898,               0,     1471.540838,       19.608824,       118.42119,             0.0,      1060.07277\n",
      "ssd time            ,               0,       97.497736,      837.766052,      308.222378,        0.152704,      121.076746,      472.086514\n"
     ]
    }
   ],
   "source": [
    "print(f\"{str('case'):20}, {str('base'):15}, {str('base_ssd'):15}, {str('scr_ssd_a_pfs'):15}, {str('scr_ssd_nf'):15}, {str('scr_bypass'):15}, {str('scr_ssd_nf_one'):15}, {str('scr_pfs_one'):15}\")\n",
    "print(f\"{str('checkpoint time'):20}, {float(base_ckp_time):15}, {float(base_ssd_ckp_time):15}, {float(scr_ssd_async_pfs_ckp_time):15}, {float(scr_ssd_no_flush_ckp_time):15}, {float(scr_bypass_ckp_time):15}, {float(scr_ssd_single_ckp_time):15}, {float(scr_pfs_single_ckp_time):15}\")\n",
    "print(f\"{str('lustre time'):20}, {float(base_posix_lustre_time):15}, {0:15}, {float(scr_ssd_async_pfs_posix_lustre_time):15}, {float(scr_ssd_no_flush_posix_lustre_time):15}, {float(scr_bypass_posix_lustre_time):15}, {float(0):15}, {float(scr_pfs_single_posix_lustre_time):15}\")\n",
    "print(f\"{str('ssd time'):20}, {0:15}, {float(base_ssd_posix_ssd_time):15}, {float(scr_ssd_async_pfs_posix_ssd_time):15}, {float(scr_ssd_no_flush_posix_ssd_time):15}, {float(scr_bypass_posix_ssd_time):15}, {float(scr_ssd_single_posix_ssd_time):15}, {float(scr_pfs_single_posix_ssd_time):15}\")"
   ]
  },
  {
   "cell_type": "markdown",
   "id": "3af32347",
   "metadata": {},
   "source": [
    "### Things to try (3/27/24)\n",
    "- Remove redundancy schemes: SCR_COPY_TYPE=SINGLE\n",
    "  - (Potentially) Less frequent reduncy schemes:\n"
   ]
  },
  {
   "cell_type": "markdown",
   "id": "b7eee7f1",
   "metadata": {},
   "source": [
    "### Things to try (4/17/24)\n",
    "- Compare Base SSD with SCR SSD no flush\n",
    "  - Check size\n",
    "  - Check files"
   ]
  },
  {
   "cell_type": "code",
   "execution_count": 15,
   "id": "6df9feb8",
   "metadata": {},
   "outputs": [
    {
     "data": {
      "text/plain": [
       "577.07171420753"
      ]
     },
     "execution_count": 15,
     "metadata": {},
     "output_type": "execute_result"
    }
   ],
   "source": [
    "base_ssd_checkpoints = analyzer_base_ssd.query(\"cat == 'POSIX' and filename.str.contains('/l/ssd/haridev/scr/checkpoints')\").compute()\n",
    "base_ssd_checkpoints[\"size\"].sum()/1024**3\n"
   ]
  },
  {
   "cell_type": "code",
   "execution_count": 16,
   "id": "150820e4",
   "metadata": {},
   "outputs": [
    {
     "data": {
      "text/plain": [
       "288.5385148981586"
      ]
     },
     "execution_count": 16,
     "metadata": {},
     "output_type": "execute_result"
    }
   ],
   "source": [
    "scr_ssd_nf_checkpoints = analyzer_scr_ssd_single.query(\"cat == 'POSIX' and filename.str.contains('/l/ssd/haridev/scr/checkpoints')\").compute()\n",
    "scr_ssd_nf_checkpoints[\"size\"].sum()/1024**3"
   ]
  },
  {
   "cell_type": "code",
   "execution_count": 17,
   "id": "f8bd5183",
   "metadata": {},
   "outputs": [],
   "source": [
    "import pandas as pd\n",
    "def print_full(x):\n",
    "    pd.set_option('display.max_rows', None)\n",
    "    pd.set_option('display.max_columns', None)\n",
    "    pd.set_option('display.width', 2000)\n",
    "    pd.set_option('display.float_format', '{:20,.2f}'.format)\n",
    "    pd.set_option('display.max_colwidth', None)\n",
    "    print(x)\n",
    "    pd.reset_option('display.max_rows')\n",
    "    pd.reset_option('display.max_columns')\n",
    "    pd.reset_option('display.width')\n",
    "    pd.reset_option('display.float_format')\n",
    "    pd.reset_option('display.max_colwidth')"
   ]
  },
  {
   "cell_type": "markdown",
   "id": "ed856e2f",
   "metadata": {},
   "source": [
    "### Check files and sizes"
   ]
  },
  {
   "cell_type": "code",
   "execution_count": 18,
   "id": "b2263539",
   "metadata": {},
   "outputs": [
    {
     "name": "stdout",
     "output_type": "stream",
     "text": [
      "1000\n"
     ]
    },
    {
     "data": {
      "text/html": [
       "<div>\n",
       "<style scoped>\n",
       "    .dataframe tbody tr th:only-of-type {\n",
       "        vertical-align: middle;\n",
       "    }\n",
       "\n",
       "    .dataframe tbody tr th {\n",
       "        vertical-align: top;\n",
       "    }\n",
       "\n",
       "    .dataframe thead th {\n",
       "        text-align: right;\n",
       "    }\n",
       "</style>\n",
       "<table border=\"1\" class=\"dataframe\">\n",
       "  <thead>\n",
       "    <tr style=\"text-align: right;\">\n",
       "      <th></th>\n",
       "      <th>size_gb</th>\n",
       "      <th>dur_sec</th>\n",
       "    </tr>\n",
       "    <tr>\n",
       "      <th>fname_regex</th>\n",
       "      <th></th>\n",
       "      <th></th>\n",
       "    </tr>\n",
       "  </thead>\n",
       "  <tbody>\n",
       "    <tr>\n",
       "      <th>layer.pt</th>\n",
       "      <td>37.060777</td>\n",
       "      <td>39.932368</td>\n",
       "    </tr>\n",
       "    <tr>\n",
       "      <th>model.pt</th>\n",
       "      <td>0.000172</td>\n",
       "      <td>0.027605</td>\n",
       "    </tr>\n",
       "    <tr>\n",
       "      <th>optimizer.pt</th>\n",
       "      <td>31.434213</td>\n",
       "      <td>68.512567</td>\n",
       "    </tr>\n",
       "    <tr>\n",
       "      <th>scr_base_megatron_deepspeed</th>\n",
       "      <td>0.0</td>\n",
       "      <td>0.000025</td>\n",
       "    </tr>\n",
       "  </tbody>\n",
       "</table>\n",
       "</div>"
      ],
      "text/plain": [
       "                               size_gb    dur_sec\n",
       "fname_regex                                      \n",
       "layer.pt                     37.060777  39.932368\n",
       "model.pt                      0.000172   0.027605\n",
       "optimizer.pt                 31.434213  68.512567\n",
       "scr_base_megatron_deepspeed        0.0   0.000025"
      ]
     },
     "execution_count": 18,
     "metadata": {},
     "output_type": "execute_result"
    }
   ],
   "source": [
    "print_full(1000)\n",
    "import re\n",
    "base_ssd_checkpoints.groupby([\"filename\"])[\"size\"].sum()\n",
    "base_ssd_checkpoints[\"fname\"] = base_ssd_checkpoints[\"filename\"].apply(lambda x: str(os.path.basename(x)))\n",
    "base_ssd_checkpoints[\"fname_regex\"] = base_ssd_checkpoints[\"fname\"].apply(lambda x: re.sub(\"[\\d\\-]+\", \"\", x))\n",
    "base_ssd_checkpoints[\"size_gb\"] = base_ssd_checkpoints[\"size\"] / 1024 ** 3\n",
    "base_ssd_checkpoints[\"dur_sec\"] = base_ssd_checkpoints[\"dur\"] / 1e6\n",
    "base_ssd_checkpoints.groupby([\"fname_regex\", \"pid\"])[[\"size_gb\",\"dur_sec\"]].sum().groupby([\"fname_regex\"]).max()"
   ]
  },
  {
   "cell_type": "code",
   "execution_count": 19,
   "id": "fedb7ca8",
   "metadata": {},
   "outputs": [
    {
     "name": "stdout",
     "output_type": "stream",
     "text": [
      "1000\n"
     ]
    },
    {
     "data": {
      "text/html": [
       "<div>\n",
       "<style scoped>\n",
       "    .dataframe tbody tr th:only-of-type {\n",
       "        vertical-align: middle;\n",
       "    }\n",
       "\n",
       "    .dataframe tbody tr th {\n",
       "        vertical-align: top;\n",
       "    }\n",
       "\n",
       "    .dataframe thead th {\n",
       "        text-align: right;\n",
       "    }\n",
       "</style>\n",
       "<table border=\"1\" class=\"dataframe\">\n",
       "  <thead>\n",
       "    <tr style=\"text-align: right;\">\n",
       "      <th></th>\n",
       "      <th>size_gb</th>\n",
       "      <th>dur_sec</th>\n",
       "    </tr>\n",
       "    <tr>\n",
       "      <th>fname_regex</th>\n",
       "      <th></th>\n",
       "      <th></th>\n",
       "    </tr>\n",
       "  </thead>\n",
       "  <tbody>\n",
       "    <tr>\n",
       "      <th>.scr</th>\n",
       "      <td>0.0</td>\n",
       "      <td>0.00023</td>\n",
       "    </tr>\n",
       "    <tr>\n",
       "      <th>.scrconf</th>\n",
       "      <td>0.0</td>\n",
       "      <td>0.000035</td>\n",
       "    </tr>\n",
       "    <tr>\n",
       "      <th>filemap_</th>\n",
       "      <td>0.002303</td>\n",
       "      <td>20.196445</td>\n",
       "    </tr>\n",
       "    <tr>\n",
       "      <th>flush.scr</th>\n",
       "      <td>0.000011</td>\n",
       "      <td>0.780726</td>\n",
       "    </tr>\n",
       "    <tr>\n",
       "      <th>halt.scr</th>\n",
       "      <td>0.0</td>\n",
       "      <td>0.720644</td>\n",
       "    </tr>\n",
       "    <tr>\n",
       "      <th>haridev</th>\n",
       "      <td>0.0</td>\n",
       "      <td>0.000037</td>\n",
       "    </tr>\n",
       "    <tr>\n",
       "      <th>index.scr</th>\n",
       "      <td>0.0</td>\n",
       "      <td>0.000028</td>\n",
       "    </tr>\n",
       "    <tr>\n",
       "      <th>layer.pt</th>\n",
       "      <td>37.060777</td>\n",
       "      <td>32.954393</td>\n",
       "    </tr>\n",
       "    <tr>\n",
       "      <th>model.pt</th>\n",
       "      <td>0.000172</td>\n",
       "      <td>0.001463</td>\n",
       "    </tr>\n",
       "    <tr>\n",
       "      <th>nodes.scr</th>\n",
       "      <td>0.0</td>\n",
       "      <td>0.000327</td>\n",
       "    </tr>\n",
       "    <tr>\n",
       "      <th>optimizer.pt</th>\n",
       "      <td>31.434213</td>\n",
       "      <td>63.368516</td>\n",
       "    </tr>\n",
       "    <tr>\n",
       "      <th>reddesc.er..redset</th>\n",
       "      <td>0.000001</td>\n",
       "      <td>0.336317</td>\n",
       "    </tr>\n",
       "    <tr>\n",
       "      <th>reddesc.er..single.grp__of_.mem__of_.redset</th>\n",
       "      <td>0.000098</td>\n",
       "      <td>0.488517</td>\n",
       "    </tr>\n",
       "    <tr>\n",
       "      <th>reddesc.er.er</th>\n",
       "      <td>0.0</td>\n",
       "      <td>0.760335</td>\n",
       "    </tr>\n",
       "    <tr>\n",
       "      <th>reddesc.er.shuffile</th>\n",
       "      <td>0.000051</td>\n",
       "      <td>0.479418</td>\n",
       "    </tr>\n",
       "    <tr>\n",
       "      <th>reddescmap.er..redset</th>\n",
       "      <td>0.000001</td>\n",
       "      <td>0.56352</td>\n",
       "    </tr>\n",
       "    <tr>\n",
       "      <th>reddescmap.er..single.grp__of_.mem__of_.redset</th>\n",
       "      <td>0.000003</td>\n",
       "      <td>0.549191</td>\n",
       "    </tr>\n",
       "    <tr>\n",
       "      <th>reddescmap.er.er</th>\n",
       "      <td>0.0</td>\n",
       "      <td>0.872445</td>\n",
       "    </tr>\n",
       "    <tr>\n",
       "      <th>reddescmap.er.shuffile</th>\n",
       "      <td>0.000019</td>\n",
       "      <td>0.36393</td>\n",
       "    </tr>\n",
       "    <tr>\n",
       "      <th>scr.dataset.</th>\n",
       "      <td>0.0</td>\n",
       "      <td>0.000555</td>\n",
       "    </tr>\n",
       "    <tr>\n",
       "      <th>scr.defjobid</th>\n",
       "      <td>0.0</td>\n",
       "      <td>0.000029</td>\n",
       "    </tr>\n",
       "    <tr>\n",
       "      <th>scr_base_megatron_deepspeed</th>\n",
       "      <td>0.0</td>\n",
       "      <td>0.000015</td>\n",
       "    </tr>\n",
       "  </tbody>\n",
       "</table>\n",
       "</div>"
      ],
      "text/plain": [
       "                                                  size_gb    dur_sec\n",
       "fname_regex                                                         \n",
       ".scr                                                  0.0    0.00023\n",
       ".scrconf                                              0.0   0.000035\n",
       "filemap_                                         0.002303  20.196445\n",
       "flush.scr                                        0.000011   0.780726\n",
       "halt.scr                                              0.0   0.720644\n",
       "haridev                                               0.0   0.000037\n",
       "index.scr                                             0.0   0.000028\n",
       "layer.pt                                        37.060777  32.954393\n",
       "model.pt                                         0.000172   0.001463\n",
       "nodes.scr                                             0.0   0.000327\n",
       "optimizer.pt                                    31.434213  63.368516\n",
       "reddesc.er..redset                               0.000001   0.336317\n",
       "reddesc.er..single.grp__of_.mem__of_.redset      0.000098   0.488517\n",
       "reddesc.er.er                                         0.0   0.760335\n",
       "reddesc.er.shuffile                              0.000051   0.479418\n",
       "reddescmap.er..redset                            0.000001    0.56352\n",
       "reddescmap.er..single.grp__of_.mem__of_.redset   0.000003   0.549191\n",
       "reddescmap.er.er                                      0.0   0.872445\n",
       "reddescmap.er.shuffile                           0.000019    0.36393\n",
       "scr.dataset.                                          0.0   0.000555\n",
       "scr.defjobid                                          0.0   0.000029\n",
       "scr_base_megatron_deepspeed                           0.0   0.000015"
      ]
     },
     "execution_count": 19,
     "metadata": {},
     "output_type": "execute_result"
    }
   ],
   "source": [
    "print_full(1000)\n",
    "scr_ssd_nf_checkpoints.groupby([\"filename\"])[\"size\"].sum()\n",
    "scr_ssd_nf_checkpoints[\"fname\"] = scr_ssd_nf_checkpoints[\"filename\"].apply(lambda x: str(os.path.basename(x)))\n",
    "scr_ssd_nf_checkpoints[\"fname_regex\"] = scr_ssd_nf_checkpoints[\"fname\"].apply(lambda x: re.sub(\"[\\d\\-]+\", \"\", x))\n",
    "scr_ssd_nf_checkpoints[\"size_gb\"] = scr_ssd_nf_checkpoints[\"size\"] / 1024 ** 3\n",
    "scr_ssd_nf_checkpoints[\"dur_sec\"] = scr_ssd_nf_checkpoints[\"dur\"] / 1e6\n",
    "scr_ssd_nf_checkpoints.groupby([\"fname_regex\", \"pid\"])[[\"size_gb\",\"dur_sec\"]].sum().groupby([\"fname_regex\"]).max()"
   ]
  },
  {
   "cell_type": "markdown",
   "id": "17997ff0",
   "metadata": {},
   "source": [
    "#### We see a lot of extra files which i think is expected. \n",
    "- For files which are written we see same written cost."
   ]
  },
  {
   "cell_type": "markdown",
   "id": "f773bd35",
   "metadata": {},
   "source": [
    "### Check operations for model files"
   ]
  },
  {
   "cell_type": "code",
   "execution_count": 20,
   "id": "b6195bf3",
   "metadata": {},
   "outputs": [
    {
     "data": {
      "text/plain": [
       "name\n",
       "write         288\n",
       "open64         96\n",
       "__fxstat64     96\n",
       "lseek64        96\n",
       "close          96\n",
       "Name: count, dtype: int64[pyarrow]"
      ]
     },
     "execution_count": 20,
     "metadata": {},
     "output_type": "execute_result"
    }
   ],
   "source": [
    "base_ssd_checkpoints.query(\"fname.str.contains('model')\")[\"name\"].value_counts()"
   ]
  },
  {
   "cell_type": "code",
   "execution_count": 21,
   "id": "b040a768",
   "metadata": {},
   "outputs": [
    {
     "data": {
      "text/plain": [
       "name\n",
       "__xstat       192\n",
       "write         144\n",
       "access         96\n",
       "open64         48\n",
       "__fxstat64     48\n",
       "lseek64        48\n",
       "close          48\n",
       "Name: count, dtype: int64[pyarrow]"
      ]
     },
     "execution_count": 21,
     "metadata": {},
     "output_type": "execute_result"
    }
   ],
   "source": [
    "scr_ssd_nf_checkpoints.query(\"fname.str.contains('model')\")[\"name\"].value_counts()\n"
   ]
  },
  {
   "cell_type": "markdown",
   "id": "85759ec2",
   "metadata": {},
   "source": [
    "**INVESTIGATION** Why the number of write calls different smaller (1/2)."
   ]
  },
  {
   "cell_type": "code",
   "execution_count": 27,
   "id": "ddc69995",
   "metadata": {},
   "outputs": [
    {
     "data": {
      "text/html": [
       "<div>\n",
       "<style scoped>\n",
       "    .dataframe tbody tr th:only-of-type {\n",
       "        vertical-align: middle;\n",
       "    }\n",
       "\n",
       "    .dataframe tbody tr th {\n",
       "        vertical-align: top;\n",
       "    }\n",
       "\n",
       "    .dataframe thead th {\n",
       "        text-align: right;\n",
       "    }\n",
       "</style>\n",
       "<table border=\"1\" class=\"dataframe\">\n",
       "  <thead>\n",
       "    <tr style=\"text-align: right;\">\n",
       "      <th></th>\n",
       "      <th>dur</th>\n",
       "      <th>size_gb</th>\n",
       "      <th>name</th>\n",
       "    </tr>\n",
       "    <tr>\n",
       "      <th>filename</th>\n",
       "      <th></th>\n",
       "      <th></th>\n",
       "      <th></th>\n",
       "    </tr>\n",
       "  </thead>\n",
       "  <tbody>\n",
       "    <tr>\n",
       "      <th>/l/ssd/haridev/scr/checkpoints/scr_base_megatron_deepspeed/model-1-100-0.pt</th>\n",
       "      <td>43</td>\n",
       "      <td>0.000029</td>\n",
       "      <td>3</td>\n",
       "    </tr>\n",
       "    <tr>\n",
       "      <th>/l/ssd/haridev/scr/checkpoints/scr_base_megatron_deepspeed/model-1-100-1.pt</th>\n",
       "      <td>13419</td>\n",
       "      <td>0.000029</td>\n",
       "      <td>3</td>\n",
       "    </tr>\n",
       "    <tr>\n",
       "      <th>/l/ssd/haridev/scr/checkpoints/scr_base_megatron_deepspeed/model-1-100-10.pt</th>\n",
       "      <td>60</td>\n",
       "      <td>0.000029</td>\n",
       "      <td>3</td>\n",
       "    </tr>\n",
       "    <tr>\n",
       "      <th>/l/ssd/haridev/scr/checkpoints/scr_base_megatron_deepspeed/model-1-100-11.pt</th>\n",
       "      <td>56</td>\n",
       "      <td>0.000029</td>\n",
       "      <td>3</td>\n",
       "    </tr>\n",
       "    <tr>\n",
       "      <th>/l/ssd/haridev/scr/checkpoints/scr_base_megatron_deepspeed/model-1-100-12.pt</th>\n",
       "      <td>55</td>\n",
       "      <td>0.000029</td>\n",
       "      <td>3</td>\n",
       "    </tr>\n",
       "    <tr>\n",
       "      <th>...</th>\n",
       "      <td>...</td>\n",
       "      <td>...</td>\n",
       "      <td>...</td>\n",
       "    </tr>\n",
       "    <tr>\n",
       "      <th>/l/ssd/haridev/scr/checkpoints/scr_base_megatron_deepspeed/model-1-600-5.pt</th>\n",
       "      <td>160</td>\n",
       "      <td>0.000029</td>\n",
       "      <td>3</td>\n",
       "    </tr>\n",
       "    <tr>\n",
       "      <th>/l/ssd/haridev/scr/checkpoints/scr_base_megatron_deepspeed/model-1-600-6.pt</th>\n",
       "      <td>41</td>\n",
       "      <td>0.000029</td>\n",
       "      <td>3</td>\n",
       "    </tr>\n",
       "    <tr>\n",
       "      <th>/l/ssd/haridev/scr/checkpoints/scr_base_megatron_deepspeed/model-1-600-7.pt</th>\n",
       "      <td>48</td>\n",
       "      <td>0.000029</td>\n",
       "      <td>3</td>\n",
       "    </tr>\n",
       "    <tr>\n",
       "      <th>/l/ssd/haridev/scr/checkpoints/scr_base_megatron_deepspeed/model-1-600-8.pt</th>\n",
       "      <td>43</td>\n",
       "      <td>0.000029</td>\n",
       "      <td>3</td>\n",
       "    </tr>\n",
       "    <tr>\n",
       "      <th>/l/ssd/haridev/scr/checkpoints/scr_base_megatron_deepspeed/model-1-600-9.pt</th>\n",
       "      <td>42</td>\n",
       "      <td>0.000029</td>\n",
       "      <td>3</td>\n",
       "    </tr>\n",
       "  </tbody>\n",
       "</table>\n",
       "<p>96 rows × 3 columns</p>\n",
       "</div>"
      ],
      "text/plain": [
       "                                                      dur   size_gb  name\n",
       "filename                                                                 \n",
       "/l/ssd/haridev/scr/checkpoints/scr_base_megatro...     43  0.000029     3\n",
       "/l/ssd/haridev/scr/checkpoints/scr_base_megatro...  13419  0.000029     3\n",
       "/l/ssd/haridev/scr/checkpoints/scr_base_megatro...     60  0.000029     3\n",
       "/l/ssd/haridev/scr/checkpoints/scr_base_megatro...     56  0.000029     3\n",
       "/l/ssd/haridev/scr/checkpoints/scr_base_megatro...     55  0.000029     3\n",
       "...                                                   ...       ...   ...\n",
       "/l/ssd/haridev/scr/checkpoints/scr_base_megatro...    160  0.000029     3\n",
       "/l/ssd/haridev/scr/checkpoints/scr_base_megatro...     41  0.000029     3\n",
       "/l/ssd/haridev/scr/checkpoints/scr_base_megatro...     48  0.000029     3\n",
       "/l/ssd/haridev/scr/checkpoints/scr_base_megatro...     43  0.000029     3\n",
       "/l/ssd/haridev/scr/checkpoints/scr_base_megatro...     42  0.000029     3\n",
       "\n",
       "[96 rows x 3 columns]"
      ]
     },
     "execution_count": 27,
     "metadata": {},
     "output_type": "execute_result"
    }
   ],
   "source": [
    "base_ssd_checkpoints.query(\"fname.str.contains('model') and name == 'write'\").groupby(\"filename\").agg({\"dur\":sum, \"size_gb\":sum, \"name\":\"count\"})"
   ]
  },
  {
   "cell_type": "code",
   "execution_count": 28,
   "id": "7cbb6834",
   "metadata": {},
   "outputs": [
    {
     "data": {
      "text/html": [
       "<div>\n",
       "<style scoped>\n",
       "    .dataframe tbody tr th:only-of-type {\n",
       "        vertical-align: middle;\n",
       "    }\n",
       "\n",
       "    .dataframe tbody tr th {\n",
       "        vertical-align: top;\n",
       "    }\n",
       "\n",
       "    .dataframe thead th {\n",
       "        text-align: right;\n",
       "    }\n",
       "</style>\n",
       "<table border=\"1\" class=\"dataframe\">\n",
       "  <thead>\n",
       "    <tr style=\"text-align: right;\">\n",
       "      <th></th>\n",
       "      <th>dur</th>\n",
       "      <th>size_gb</th>\n",
       "      <th>name</th>\n",
       "    </tr>\n",
       "    <tr>\n",
       "      <th>filename</th>\n",
       "      <th></th>\n",
       "      <th></th>\n",
       "      <th></th>\n",
       "    </tr>\n",
       "  </thead>\n",
       "  <tbody>\n",
       "    <tr>\n",
       "      <th>/l/ssd/haridev/scr/checkpoints/scr_megatron_deepspeed/haridev/scr.defjobid/scr.dataset.1/model-1-100-0.pt</th>\n",
       "      <td>43</td>\n",
       "      <td>0.000029</td>\n",
       "      <td>3</td>\n",
       "    </tr>\n",
       "    <tr>\n",
       "      <th>/l/ssd/haridev/scr/checkpoints/scr_megatron_deepspeed/haridev/scr.defjobid/scr.dataset.1/model-1-100-1.pt</th>\n",
       "      <td>41</td>\n",
       "      <td>0.000029</td>\n",
       "      <td>3</td>\n",
       "    </tr>\n",
       "    <tr>\n",
       "      <th>/l/ssd/haridev/scr/checkpoints/scr_megatron_deepspeed/haridev/scr.defjobid/scr.dataset.1/model-1-100-2.pt</th>\n",
       "      <td>30</td>\n",
       "      <td>0.000029</td>\n",
       "      <td>3</td>\n",
       "    </tr>\n",
       "    <tr>\n",
       "      <th>/l/ssd/haridev/scr/checkpoints/scr_megatron_deepspeed/haridev/scr.defjobid/scr.dataset.1/model-1-100-3.pt</th>\n",
       "      <td>32</td>\n",
       "      <td>0.000029</td>\n",
       "      <td>3</td>\n",
       "    </tr>\n",
       "    <tr>\n",
       "      <th>/l/ssd/haridev/scr/checkpoints/scr_megatron_deepspeed/haridev/scr.defjobid/scr.dataset.1/model-1-100-4.pt</th>\n",
       "      <td>113</td>\n",
       "      <td>0.000029</td>\n",
       "      <td>3</td>\n",
       "    </tr>\n",
       "    <tr>\n",
       "      <th>/l/ssd/haridev/scr/checkpoints/scr_megatron_deepspeed/haridev/scr.defjobid/scr.dataset.1/model-1-100-5.pt</th>\n",
       "      <td>33</td>\n",
       "      <td>0.000029</td>\n",
       "      <td>3</td>\n",
       "    </tr>\n",
       "    <tr>\n",
       "      <th>/l/ssd/haridev/scr/checkpoints/scr_megatron_deepspeed/haridev/scr.defjobid/scr.dataset.1/model-1-100-6.pt</th>\n",
       "      <td>32</td>\n",
       "      <td>0.000029</td>\n",
       "      <td>3</td>\n",
       "    </tr>\n",
       "    <tr>\n",
       "      <th>/l/ssd/haridev/scr/checkpoints/scr_megatron_deepspeed/haridev/scr.defjobid/scr.dataset.1/model-1-100-7.pt</th>\n",
       "      <td>226</td>\n",
       "      <td>0.000029</td>\n",
       "      <td>3</td>\n",
       "    </tr>\n",
       "    <tr>\n",
       "      <th>/l/ssd/haridev/scr/checkpoints/scr_megatron_deepspeed/haridev/scr.defjobid/scr.dataset.2/model-1-200-0.pt</th>\n",
       "      <td>292</td>\n",
       "      <td>0.000029</td>\n",
       "      <td>3</td>\n",
       "    </tr>\n",
       "    <tr>\n",
       "      <th>/l/ssd/haridev/scr/checkpoints/scr_megatron_deepspeed/haridev/scr.defjobid/scr.dataset.2/model-1-200-1.pt</th>\n",
       "      <td>37</td>\n",
       "      <td>0.000029</td>\n",
       "      <td>3</td>\n",
       "    </tr>\n",
       "    <tr>\n",
       "      <th>/l/ssd/haridev/scr/checkpoints/scr_megatron_deepspeed/haridev/scr.defjobid/scr.dataset.2/model-1-200-2.pt</th>\n",
       "      <td>33</td>\n",
       "      <td>0.000029</td>\n",
       "      <td>3</td>\n",
       "    </tr>\n",
       "    <tr>\n",
       "      <th>/l/ssd/haridev/scr/checkpoints/scr_megatron_deepspeed/haridev/scr.defjobid/scr.dataset.2/model-1-200-3.pt</th>\n",
       "      <td>33</td>\n",
       "      <td>0.000029</td>\n",
       "      <td>3</td>\n",
       "    </tr>\n",
       "    <tr>\n",
       "      <th>/l/ssd/haridev/scr/checkpoints/scr_megatron_deepspeed/haridev/scr.defjobid/scr.dataset.2/model-1-200-4.pt</th>\n",
       "      <td>32</td>\n",
       "      <td>0.000029</td>\n",
       "      <td>3</td>\n",
       "    </tr>\n",
       "    <tr>\n",
       "      <th>/l/ssd/haridev/scr/checkpoints/scr_megatron_deepspeed/haridev/scr.defjobid/scr.dataset.2/model-1-200-5.pt</th>\n",
       "      <td>163</td>\n",
       "      <td>0.000029</td>\n",
       "      <td>3</td>\n",
       "    </tr>\n",
       "    <tr>\n",
       "      <th>/l/ssd/haridev/scr/checkpoints/scr_megatron_deepspeed/haridev/scr.defjobid/scr.dataset.2/model-1-200-6.pt</th>\n",
       "      <td>166</td>\n",
       "      <td>0.000029</td>\n",
       "      <td>3</td>\n",
       "    </tr>\n",
       "    <tr>\n",
       "      <th>/l/ssd/haridev/scr/checkpoints/scr_megatron_deepspeed/haridev/scr.defjobid/scr.dataset.2/model-1-200-7.pt</th>\n",
       "      <td>144</td>\n",
       "      <td>0.000029</td>\n",
       "      <td>3</td>\n",
       "    </tr>\n",
       "    <tr>\n",
       "      <th>/l/ssd/haridev/scr/checkpoints/scr_megatron_deepspeed/haridev/scr.defjobid/scr.dataset.3/model-1-300-0.pt</th>\n",
       "      <td>353</td>\n",
       "      <td>0.000029</td>\n",
       "      <td>3</td>\n",
       "    </tr>\n",
       "    <tr>\n",
       "      <th>/l/ssd/haridev/scr/checkpoints/scr_megatron_deepspeed/haridev/scr.defjobid/scr.dataset.3/model-1-300-1.pt</th>\n",
       "      <td>32</td>\n",
       "      <td>0.000029</td>\n",
       "      <td>3</td>\n",
       "    </tr>\n",
       "    <tr>\n",
       "      <th>/l/ssd/haridev/scr/checkpoints/scr_megatron_deepspeed/haridev/scr.defjobid/scr.dataset.3/model-1-300-2.pt</th>\n",
       "      <td>33</td>\n",
       "      <td>0.000029</td>\n",
       "      <td>3</td>\n",
       "    </tr>\n",
       "    <tr>\n",
       "      <th>/l/ssd/haridev/scr/checkpoints/scr_megatron_deepspeed/haridev/scr.defjobid/scr.dataset.3/model-1-300-3.pt</th>\n",
       "      <td>30</td>\n",
       "      <td>0.000029</td>\n",
       "      <td>3</td>\n",
       "    </tr>\n",
       "    <tr>\n",
       "      <th>/l/ssd/haridev/scr/checkpoints/scr_megatron_deepspeed/haridev/scr.defjobid/scr.dataset.3/model-1-300-4.pt</th>\n",
       "      <td>34</td>\n",
       "      <td>0.000029</td>\n",
       "      <td>3</td>\n",
       "    </tr>\n",
       "    <tr>\n",
       "      <th>/l/ssd/haridev/scr/checkpoints/scr_megatron_deepspeed/haridev/scr.defjobid/scr.dataset.3/model-1-300-5.pt</th>\n",
       "      <td>117</td>\n",
       "      <td>0.000029</td>\n",
       "      <td>3</td>\n",
       "    </tr>\n",
       "    <tr>\n",
       "      <th>/l/ssd/haridev/scr/checkpoints/scr_megatron_deepspeed/haridev/scr.defjobid/scr.dataset.3/model-1-300-6.pt</th>\n",
       "      <td>35</td>\n",
       "      <td>0.000029</td>\n",
       "      <td>3</td>\n",
       "    </tr>\n",
       "    <tr>\n",
       "      <th>/l/ssd/haridev/scr/checkpoints/scr_megatron_deepspeed/haridev/scr.defjobid/scr.dataset.3/model-1-300-7.pt</th>\n",
       "      <td>37</td>\n",
       "      <td>0.000029</td>\n",
       "      <td>3</td>\n",
       "    </tr>\n",
       "    <tr>\n",
       "      <th>/l/ssd/haridev/scr/checkpoints/scr_megatron_deepspeed/haridev/scr.defjobid/scr.dataset.4/model-1-400-0.pt</th>\n",
       "      <td>31</td>\n",
       "      <td>0.000029</td>\n",
       "      <td>3</td>\n",
       "    </tr>\n",
       "    <tr>\n",
       "      <th>/l/ssd/haridev/scr/checkpoints/scr_megatron_deepspeed/haridev/scr.defjobid/scr.dataset.4/model-1-400-1.pt</th>\n",
       "      <td>36</td>\n",
       "      <td>0.000029</td>\n",
       "      <td>3</td>\n",
       "    </tr>\n",
       "    <tr>\n",
       "      <th>/l/ssd/haridev/scr/checkpoints/scr_megatron_deepspeed/haridev/scr.defjobid/scr.dataset.4/model-1-400-2.pt</th>\n",
       "      <td>31</td>\n",
       "      <td>0.000029</td>\n",
       "      <td>3</td>\n",
       "    </tr>\n",
       "    <tr>\n",
       "      <th>/l/ssd/haridev/scr/checkpoints/scr_megatron_deepspeed/haridev/scr.defjobid/scr.dataset.4/model-1-400-3.pt</th>\n",
       "      <td>34</td>\n",
       "      <td>0.000029</td>\n",
       "      <td>3</td>\n",
       "    </tr>\n",
       "    <tr>\n",
       "      <th>/l/ssd/haridev/scr/checkpoints/scr_megatron_deepspeed/haridev/scr.defjobid/scr.dataset.4/model-1-400-4.pt</th>\n",
       "      <td>32</td>\n",
       "      <td>0.000029</td>\n",
       "      <td>3</td>\n",
       "    </tr>\n",
       "    <tr>\n",
       "      <th>/l/ssd/haridev/scr/checkpoints/scr_megatron_deepspeed/haridev/scr.defjobid/scr.dataset.4/model-1-400-5.pt</th>\n",
       "      <td>38</td>\n",
       "      <td>0.000029</td>\n",
       "      <td>3</td>\n",
       "    </tr>\n",
       "    <tr>\n",
       "      <th>/l/ssd/haridev/scr/checkpoints/scr_megatron_deepspeed/haridev/scr.defjobid/scr.dataset.4/model-1-400-6.pt</th>\n",
       "      <td>292</td>\n",
       "      <td>0.000029</td>\n",
       "      <td>3</td>\n",
       "    </tr>\n",
       "    <tr>\n",
       "      <th>/l/ssd/haridev/scr/checkpoints/scr_megatron_deepspeed/haridev/scr.defjobid/scr.dataset.4/model-1-400-7.pt</th>\n",
       "      <td>149</td>\n",
       "      <td>0.000029</td>\n",
       "      <td>3</td>\n",
       "    </tr>\n",
       "    <tr>\n",
       "      <th>/l/ssd/haridev/scr/checkpoints/scr_megatron_deepspeed/haridev/scr.defjobid/scr.dataset.5/model-1-500-0.pt</th>\n",
       "      <td>36</td>\n",
       "      <td>0.000029</td>\n",
       "      <td>3</td>\n",
       "    </tr>\n",
       "    <tr>\n",
       "      <th>/l/ssd/haridev/scr/checkpoints/scr_megatron_deepspeed/haridev/scr.defjobid/scr.dataset.5/model-1-500-1.pt</th>\n",
       "      <td>35</td>\n",
       "      <td>0.000029</td>\n",
       "      <td>3</td>\n",
       "    </tr>\n",
       "    <tr>\n",
       "      <th>/l/ssd/haridev/scr/checkpoints/scr_megatron_deepspeed/haridev/scr.defjobid/scr.dataset.5/model-1-500-2.pt</th>\n",
       "      <td>224</td>\n",
       "      <td>0.000029</td>\n",
       "      <td>3</td>\n",
       "    </tr>\n",
       "    <tr>\n",
       "      <th>/l/ssd/haridev/scr/checkpoints/scr_megatron_deepspeed/haridev/scr.defjobid/scr.dataset.5/model-1-500-3.pt</th>\n",
       "      <td>35</td>\n",
       "      <td>0.000029</td>\n",
       "      <td>3</td>\n",
       "    </tr>\n",
       "    <tr>\n",
       "      <th>/l/ssd/haridev/scr/checkpoints/scr_megatron_deepspeed/haridev/scr.defjobid/scr.dataset.5/model-1-500-4.pt</th>\n",
       "      <td>33</td>\n",
       "      <td>0.000029</td>\n",
       "      <td>3</td>\n",
       "    </tr>\n",
       "    <tr>\n",
       "      <th>/l/ssd/haridev/scr/checkpoints/scr_megatron_deepspeed/haridev/scr.defjobid/scr.dataset.5/model-1-500-5.pt</th>\n",
       "      <td>31</td>\n",
       "      <td>0.000029</td>\n",
       "      <td>3</td>\n",
       "    </tr>\n",
       "    <tr>\n",
       "      <th>/l/ssd/haridev/scr/checkpoints/scr_megatron_deepspeed/haridev/scr.defjobid/scr.dataset.5/model-1-500-6.pt</th>\n",
       "      <td>35</td>\n",
       "      <td>0.000029</td>\n",
       "      <td>3</td>\n",
       "    </tr>\n",
       "    <tr>\n",
       "      <th>/l/ssd/haridev/scr/checkpoints/scr_megatron_deepspeed/haridev/scr.defjobid/scr.dataset.5/model-1-500-7.pt</th>\n",
       "      <td>154</td>\n",
       "      <td>0.000029</td>\n",
       "      <td>3</td>\n",
       "    </tr>\n",
       "    <tr>\n",
       "      <th>/l/ssd/haridev/scr/checkpoints/scr_megatron_deepspeed/haridev/scr.defjobid/scr.dataset.6/model-1-600-0.pt</th>\n",
       "      <td>33</td>\n",
       "      <td>0.000029</td>\n",
       "      <td>3</td>\n",
       "    </tr>\n",
       "    <tr>\n",
       "      <th>/l/ssd/haridev/scr/checkpoints/scr_megatron_deepspeed/haridev/scr.defjobid/scr.dataset.6/model-1-600-1.pt</th>\n",
       "      <td>37</td>\n",
       "      <td>0.000029</td>\n",
       "      <td>3</td>\n",
       "    </tr>\n",
       "    <tr>\n",
       "      <th>/l/ssd/haridev/scr/checkpoints/scr_megatron_deepspeed/haridev/scr.defjobid/scr.dataset.6/model-1-600-2.pt</th>\n",
       "      <td>32</td>\n",
       "      <td>0.000029</td>\n",
       "      <td>3</td>\n",
       "    </tr>\n",
       "    <tr>\n",
       "      <th>/l/ssd/haridev/scr/checkpoints/scr_megatron_deepspeed/haridev/scr.defjobid/scr.dataset.6/model-1-600-3.pt</th>\n",
       "      <td>33</td>\n",
       "      <td>0.000029</td>\n",
       "      <td>3</td>\n",
       "    </tr>\n",
       "    <tr>\n",
       "      <th>/l/ssd/haridev/scr/checkpoints/scr_megatron_deepspeed/haridev/scr.defjobid/scr.dataset.6/model-1-600-4.pt</th>\n",
       "      <td>44</td>\n",
       "      <td>0.000029</td>\n",
       "      <td>3</td>\n",
       "    </tr>\n",
       "    <tr>\n",
       "      <th>/l/ssd/haridev/scr/checkpoints/scr_megatron_deepspeed/haridev/scr.defjobid/scr.dataset.6/model-1-600-5.pt</th>\n",
       "      <td>167</td>\n",
       "      <td>0.000029</td>\n",
       "      <td>3</td>\n",
       "    </tr>\n",
       "    <tr>\n",
       "      <th>/l/ssd/haridev/scr/checkpoints/scr_megatron_deepspeed/haridev/scr.defjobid/scr.dataset.6/model-1-600-6.pt</th>\n",
       "      <td>35</td>\n",
       "      <td>0.000029</td>\n",
       "      <td>3</td>\n",
       "    </tr>\n",
       "    <tr>\n",
       "      <th>/l/ssd/haridev/scr/checkpoints/scr_megatron_deepspeed/haridev/scr.defjobid/scr.dataset.6/model-1-600-7.pt</th>\n",
       "      <td>35</td>\n",
       "      <td>0.000029</td>\n",
       "      <td>3</td>\n",
       "    </tr>\n",
       "  </tbody>\n",
       "</table>\n",
       "</div>"
      ],
      "text/plain": [
       "                                                    dur   size_gb  name\n",
       "filename                                                               \n",
       "/l/ssd/haridev/scr/checkpoints/scr_megatron_dee...   43  0.000029     3\n",
       "/l/ssd/haridev/scr/checkpoints/scr_megatron_dee...   41  0.000029     3\n",
       "/l/ssd/haridev/scr/checkpoints/scr_megatron_dee...   30  0.000029     3\n",
       "/l/ssd/haridev/scr/checkpoints/scr_megatron_dee...   32  0.000029     3\n",
       "/l/ssd/haridev/scr/checkpoints/scr_megatron_dee...  113  0.000029     3\n",
       "/l/ssd/haridev/scr/checkpoints/scr_megatron_dee...   33  0.000029     3\n",
       "/l/ssd/haridev/scr/checkpoints/scr_megatron_dee...   32  0.000029     3\n",
       "/l/ssd/haridev/scr/checkpoints/scr_megatron_dee...  226  0.000029     3\n",
       "/l/ssd/haridev/scr/checkpoints/scr_megatron_dee...  292  0.000029     3\n",
       "/l/ssd/haridev/scr/checkpoints/scr_megatron_dee...   37  0.000029     3\n",
       "/l/ssd/haridev/scr/checkpoints/scr_megatron_dee...   33  0.000029     3\n",
       "/l/ssd/haridev/scr/checkpoints/scr_megatron_dee...   33  0.000029     3\n",
       "/l/ssd/haridev/scr/checkpoints/scr_megatron_dee...   32  0.000029     3\n",
       "/l/ssd/haridev/scr/checkpoints/scr_megatron_dee...  163  0.000029     3\n",
       "/l/ssd/haridev/scr/checkpoints/scr_megatron_dee...  166  0.000029     3\n",
       "/l/ssd/haridev/scr/checkpoints/scr_megatron_dee...  144  0.000029     3\n",
       "/l/ssd/haridev/scr/checkpoints/scr_megatron_dee...  353  0.000029     3\n",
       "/l/ssd/haridev/scr/checkpoints/scr_megatron_dee...   32  0.000029     3\n",
       "/l/ssd/haridev/scr/checkpoints/scr_megatron_dee...   33  0.000029     3\n",
       "/l/ssd/haridev/scr/checkpoints/scr_megatron_dee...   30  0.000029     3\n",
       "/l/ssd/haridev/scr/checkpoints/scr_megatron_dee...   34  0.000029     3\n",
       "/l/ssd/haridev/scr/checkpoints/scr_megatron_dee...  117  0.000029     3\n",
       "/l/ssd/haridev/scr/checkpoints/scr_megatron_dee...   35  0.000029     3\n",
       "/l/ssd/haridev/scr/checkpoints/scr_megatron_dee...   37  0.000029     3\n",
       "/l/ssd/haridev/scr/checkpoints/scr_megatron_dee...   31  0.000029     3\n",
       "/l/ssd/haridev/scr/checkpoints/scr_megatron_dee...   36  0.000029     3\n",
       "/l/ssd/haridev/scr/checkpoints/scr_megatron_dee...   31  0.000029     3\n",
       "/l/ssd/haridev/scr/checkpoints/scr_megatron_dee...   34  0.000029     3\n",
       "/l/ssd/haridev/scr/checkpoints/scr_megatron_dee...   32  0.000029     3\n",
       "/l/ssd/haridev/scr/checkpoints/scr_megatron_dee...   38  0.000029     3\n",
       "/l/ssd/haridev/scr/checkpoints/scr_megatron_dee...  292  0.000029     3\n",
       "/l/ssd/haridev/scr/checkpoints/scr_megatron_dee...  149  0.000029     3\n",
       "/l/ssd/haridev/scr/checkpoints/scr_megatron_dee...   36  0.000029     3\n",
       "/l/ssd/haridev/scr/checkpoints/scr_megatron_dee...   35  0.000029     3\n",
       "/l/ssd/haridev/scr/checkpoints/scr_megatron_dee...  224  0.000029     3\n",
       "/l/ssd/haridev/scr/checkpoints/scr_megatron_dee...   35  0.000029     3\n",
       "/l/ssd/haridev/scr/checkpoints/scr_megatron_dee...   33  0.000029     3\n",
       "/l/ssd/haridev/scr/checkpoints/scr_megatron_dee...   31  0.000029     3\n",
       "/l/ssd/haridev/scr/checkpoints/scr_megatron_dee...   35  0.000029     3\n",
       "/l/ssd/haridev/scr/checkpoints/scr_megatron_dee...  154  0.000029     3\n",
       "/l/ssd/haridev/scr/checkpoints/scr_megatron_dee...   33  0.000029     3\n",
       "/l/ssd/haridev/scr/checkpoints/scr_megatron_dee...   37  0.000029     3\n",
       "/l/ssd/haridev/scr/checkpoints/scr_megatron_dee...   32  0.000029     3\n",
       "/l/ssd/haridev/scr/checkpoints/scr_megatron_dee...   33  0.000029     3\n",
       "/l/ssd/haridev/scr/checkpoints/scr_megatron_dee...   44  0.000029     3\n",
       "/l/ssd/haridev/scr/checkpoints/scr_megatron_dee...  167  0.000029     3\n",
       "/l/ssd/haridev/scr/checkpoints/scr_megatron_dee...   35  0.000029     3\n",
       "/l/ssd/haridev/scr/checkpoints/scr_megatron_dee...   35  0.000029     3"
      ]
     },
     "execution_count": 28,
     "metadata": {},
     "output_type": "execute_result"
    }
   ],
   "source": [
    "scr_ssd_nf_checkpoints.query(\"fname.str.contains('model') and name == 'write'\").groupby(\"filename\").agg({\"dur\":sum, \"size_gb\":sum, \"name\":\"count\"})\n"
   ]
  },
  {
   "cell_type": "markdown",
   "id": "1711c98d",
   "metadata": {},
   "source": [
    "##### Check per model file"
   ]
  },
  {
   "cell_type": "code",
   "execution_count": 29,
   "id": "8c8849a4",
   "metadata": {},
   "outputs": [
    {
     "data": {
      "text/plain": [
       "name\n",
       "write         3\n",
       "open64        1\n",
       "__fxstat64    1\n",
       "lseek64       1\n",
       "close         1\n",
       "Name: count, dtype: int64[pyarrow]"
      ]
     },
     "execution_count": 29,
     "metadata": {},
     "output_type": "execute_result"
    }
   ],
   "source": [
    "base_ssd_checkpoints.query(\"fname.str.contains('model-1-600-0.pt')\")[\"name\"].value_counts()"
   ]
  },
  {
   "cell_type": "code",
   "execution_count": 53,
   "id": "419477b6",
   "metadata": {},
   "outputs": [
    {
     "data": {
      "text/plain": [
       "name\n",
       "__xstat       4\n",
       "write         3\n",
       "access        2\n",
       "open64        1\n",
       "__fxstat64    1\n",
       "lseek64       1\n",
       "close         1\n",
       "Name: count, dtype: int64[pyarrow]"
      ]
     },
     "execution_count": 53,
     "metadata": {},
     "output_type": "execute_result"
    }
   ],
   "source": [
    "scr_ssd_nf_checkpoints.query(\"fname.str.contains('model-1-600-0.pt')\")[\"name\"].value_counts()"
   ]
  },
  {
   "cell_type": "code",
   "execution_count": 54,
   "id": "9cd59b45",
   "metadata": {},
   "outputs": [
    {
     "data": {
      "text/html": [
       "<div>\n",
       "<style scoped>\n",
       "    .dataframe tbody tr th:only-of-type {\n",
       "        vertical-align: middle;\n",
       "    }\n",
       "\n",
       "    .dataframe tbody tr th {\n",
       "        vertical-align: top;\n",
       "    }\n",
       "\n",
       "    .dataframe thead th {\n",
       "        text-align: right;\n",
       "    }\n",
       "</style>\n",
       "<table border=\"1\" class=\"dataframe\">\n",
       "  <thead>\n",
       "    <tr style=\"text-align: right;\">\n",
       "      <th></th>\n",
       "      <th>name</th>\n",
       "      <th>cat</th>\n",
       "      <th>pid</th>\n",
       "      <th>tid</th>\n",
       "      <th>ts</th>\n",
       "      <th>te</th>\n",
       "      <th>dur</th>\n",
       "      <th>tinterval</th>\n",
       "      <th>trange</th>\n",
       "      <th>hostname</th>\n",
       "      <th>...</th>\n",
       "      <th>io_time</th>\n",
       "      <th>app_io_time</th>\n",
       "      <th>total_time</th>\n",
       "      <th>filename</th>\n",
       "      <th>phase</th>\n",
       "      <th>size</th>\n",
       "      <th>fname</th>\n",
       "      <th>fname_regex</th>\n",
       "      <th>size_gb</th>\n",
       "      <th>dur_sec</th>\n",
       "    </tr>\n",
       "  </thead>\n",
       "  <tbody>\n",
       "    <tr>\n",
       "      <th>8159</th>\n",
       "      <td>open64</td>\n",
       "      <td>POSIX</td>\n",
       "      <td>0</td>\n",
       "      <td>335916</td>\n",
       "      <td>1001811003</td>\n",
       "      <td>1001811038</td>\n",
       "      <td>35</td>\n",
       "      <td>&lt;NA&gt;</td>\n",
       "      <td>33.0</td>\n",
       "      <td>corona174</td>\n",
       "      <td>...</td>\n",
       "      <td>35</td>\n",
       "      <td>&lt;NA&gt;</td>\n",
       "      <td>35</td>\n",
       "      <td>/l/ssd/haridev/scr/checkpoints/scr_megatron_de...</td>\n",
       "      <td>2</td>\n",
       "      <td>&lt;NA&gt;</td>\n",
       "      <td>model-1-600-0.pt</td>\n",
       "      <td>model.pt</td>\n",
       "      <td>&lt;NA&gt;</td>\n",
       "      <td>0.000035</td>\n",
       "    </tr>\n",
       "    <tr>\n",
       "      <th>8160</th>\n",
       "      <td>__fxstat64</td>\n",
       "      <td>POSIX</td>\n",
       "      <td>0</td>\n",
       "      <td>335916</td>\n",
       "      <td>1001811048</td>\n",
       "      <td>1001811050</td>\n",
       "      <td>2</td>\n",
       "      <td>&lt;NA&gt;</td>\n",
       "      <td>33.0</td>\n",
       "      <td>corona174</td>\n",
       "      <td>...</td>\n",
       "      <td>2</td>\n",
       "      <td>&lt;NA&gt;</td>\n",
       "      <td>2</td>\n",
       "      <td>/l/ssd/haridev/scr/checkpoints/scr_megatron_de...</td>\n",
       "      <td>2</td>\n",
       "      <td>&lt;NA&gt;</td>\n",
       "      <td>model-1-600-0.pt</td>\n",
       "      <td>model.pt</td>\n",
       "      <td>&lt;NA&gt;</td>\n",
       "      <td>0.000002</td>\n",
       "    </tr>\n",
       "    <tr>\n",
       "      <th>8161</th>\n",
       "      <td>lseek64</td>\n",
       "      <td>POSIX</td>\n",
       "      <td>0</td>\n",
       "      <td>335916</td>\n",
       "      <td>1001811065</td>\n",
       "      <td>1001811066</td>\n",
       "      <td>1</td>\n",
       "      <td>&lt;NA&gt;</td>\n",
       "      <td>33.0</td>\n",
       "      <td>corona174</td>\n",
       "      <td>...</td>\n",
       "      <td>1</td>\n",
       "      <td>&lt;NA&gt;</td>\n",
       "      <td>1</td>\n",
       "      <td>/l/ssd/haridev/scr/checkpoints/scr_megatron_de...</td>\n",
       "      <td>2</td>\n",
       "      <td>&lt;NA&gt;</td>\n",
       "      <td>model-1-600-0.pt</td>\n",
       "      <td>model.pt</td>\n",
       "      <td>&lt;NA&gt;</td>\n",
       "      <td>0.000001</td>\n",
       "    </tr>\n",
       "    <tr>\n",
       "      <th>8162</th>\n",
       "      <td>write</td>\n",
       "      <td>POSIX</td>\n",
       "      <td>0</td>\n",
       "      <td>335916</td>\n",
       "      <td>1001811279</td>\n",
       "      <td>1001811289</td>\n",
       "      <td>10</td>\n",
       "      <td>&lt;NA&gt;</td>\n",
       "      <td>33.0</td>\n",
       "      <td>corona174</td>\n",
       "      <td>...</td>\n",
       "      <td>10</td>\n",
       "      <td>&lt;NA&gt;</td>\n",
       "      <td>10</td>\n",
       "      <td>/l/ssd/haridev/scr/checkpoints/scr_megatron_de...</td>\n",
       "      <td>2</td>\n",
       "      <td>320</td>\n",
       "      <td>model-1-600-0.pt</td>\n",
       "      <td>model.pt</td>\n",
       "      <td>0.0</td>\n",
       "      <td>0.00001</td>\n",
       "    </tr>\n",
       "    <tr>\n",
       "      <th>8163</th>\n",
       "      <td>write</td>\n",
       "      <td>POSIX</td>\n",
       "      <td>0</td>\n",
       "      <td>335916</td>\n",
       "      <td>1001811303</td>\n",
       "      <td>1001811322</td>\n",
       "      <td>19</td>\n",
       "      <td>&lt;NA&gt;</td>\n",
       "      <td>33.0</td>\n",
       "      <td>corona174</td>\n",
       "      <td>...</td>\n",
       "      <td>19</td>\n",
       "      <td>&lt;NA&gt;</td>\n",
       "      <td>19</td>\n",
       "      <td>/l/ssd/haridev/scr/checkpoints/scr_megatron_de...</td>\n",
       "      <td>2</td>\n",
       "      <td>30102</td>\n",
       "      <td>model-1-600-0.pt</td>\n",
       "      <td>model.pt</td>\n",
       "      <td>0.000028</td>\n",
       "      <td>0.000019</td>\n",
       "    </tr>\n",
       "    <tr>\n",
       "      <th>8164</th>\n",
       "      <td>write</td>\n",
       "      <td>POSIX</td>\n",
       "      <td>0</td>\n",
       "      <td>335916</td>\n",
       "      <td>1001811356</td>\n",
       "      <td>1001811360</td>\n",
       "      <td>4</td>\n",
       "      <td>&lt;NA&gt;</td>\n",
       "      <td>33.0</td>\n",
       "      <td>corona174</td>\n",
       "      <td>...</td>\n",
       "      <td>4</td>\n",
       "      <td>&lt;NA&gt;</td>\n",
       "      <td>4</td>\n",
       "      <td>/l/ssd/haridev/scr/checkpoints/scr_megatron_de...</td>\n",
       "      <td>2</td>\n",
       "      <td>405</td>\n",
       "      <td>model-1-600-0.pt</td>\n",
       "      <td>model.pt</td>\n",
       "      <td>0.0</td>\n",
       "      <td>0.000004</td>\n",
       "    </tr>\n",
       "    <tr>\n",
       "      <th>8165</th>\n",
       "      <td>close</td>\n",
       "      <td>POSIX</td>\n",
       "      <td>0</td>\n",
       "      <td>335916</td>\n",
       "      <td>1001811378</td>\n",
       "      <td>1001811388</td>\n",
       "      <td>10</td>\n",
       "      <td>&lt;NA&gt;</td>\n",
       "      <td>33.0</td>\n",
       "      <td>corona174</td>\n",
       "      <td>...</td>\n",
       "      <td>10</td>\n",
       "      <td>&lt;NA&gt;</td>\n",
       "      <td>10</td>\n",
       "      <td>/l/ssd/haridev/scr/checkpoints/scr_megatron_de...</td>\n",
       "      <td>2</td>\n",
       "      <td>&lt;NA&gt;</td>\n",
       "      <td>model-1-600-0.pt</td>\n",
       "      <td>model.pt</td>\n",
       "      <td>&lt;NA&gt;</td>\n",
       "      <td>0.00001</td>\n",
       "    </tr>\n",
       "    <tr>\n",
       "      <th>4124</th>\n",
       "      <td>access</td>\n",
       "      <td>POSIX</td>\n",
       "      <td>0</td>\n",
       "      <td>335916</td>\n",
       "      <td>1025776223</td>\n",
       "      <td>1025776228</td>\n",
       "      <td>5</td>\n",
       "      <td>&lt;NA&gt;</td>\n",
       "      <td>34.0</td>\n",
       "      <td>corona174</td>\n",
       "      <td>...</td>\n",
       "      <td>5</td>\n",
       "      <td>&lt;NA&gt;</td>\n",
       "      <td>5</td>\n",
       "      <td>/l/ssd/haridev/scr/checkpoints/scr_megatron_de...</td>\n",
       "      <td>2</td>\n",
       "      <td>&lt;NA&gt;</td>\n",
       "      <td>model-1-600-0.pt</td>\n",
       "      <td>model.pt</td>\n",
       "      <td>&lt;NA&gt;</td>\n",
       "      <td>0.000005</td>\n",
       "    </tr>\n",
       "    <tr>\n",
       "      <th>4125</th>\n",
       "      <td>__xstat</td>\n",
       "      <td>POSIX</td>\n",
       "      <td>0</td>\n",
       "      <td>335916</td>\n",
       "      <td>1025776246</td>\n",
       "      <td>1025776250</td>\n",
       "      <td>4</td>\n",
       "      <td>&lt;NA&gt;</td>\n",
       "      <td>34.0</td>\n",
       "      <td>corona174</td>\n",
       "      <td>...</td>\n",
       "      <td>4</td>\n",
       "      <td>&lt;NA&gt;</td>\n",
       "      <td>4</td>\n",
       "      <td>/l/ssd/haridev/scr/checkpoints/scr_megatron_de...</td>\n",
       "      <td>2</td>\n",
       "      <td>&lt;NA&gt;</td>\n",
       "      <td>model-1-600-0.pt</td>\n",
       "      <td>model.pt</td>\n",
       "      <td>&lt;NA&gt;</td>\n",
       "      <td>0.000004</td>\n",
       "    </tr>\n",
       "    <tr>\n",
       "      <th>4265</th>\n",
       "      <td>access</td>\n",
       "      <td>POSIX</td>\n",
       "      <td>0</td>\n",
       "      <td>335916</td>\n",
       "      <td>1025892888</td>\n",
       "      <td>1025892893</td>\n",
       "      <td>5</td>\n",
       "      <td>&lt;NA&gt;</td>\n",
       "      <td>34.0</td>\n",
       "      <td>corona174</td>\n",
       "      <td>...</td>\n",
       "      <td>5</td>\n",
       "      <td>&lt;NA&gt;</td>\n",
       "      <td>5</td>\n",
       "      <td>/l/ssd/haridev/scr/checkpoints/scr_megatron_de...</td>\n",
       "      <td>2</td>\n",
       "      <td>&lt;NA&gt;</td>\n",
       "      <td>model-1-600-0.pt</td>\n",
       "      <td>model.pt</td>\n",
       "      <td>&lt;NA&gt;</td>\n",
       "      <td>0.000005</td>\n",
       "    </tr>\n",
       "    <tr>\n",
       "      <th>4266</th>\n",
       "      <td>__xstat</td>\n",
       "      <td>POSIX</td>\n",
       "      <td>0</td>\n",
       "      <td>335916</td>\n",
       "      <td>1025892923</td>\n",
       "      <td>1025892928</td>\n",
       "      <td>5</td>\n",
       "      <td>&lt;NA&gt;</td>\n",
       "      <td>34.0</td>\n",
       "      <td>corona174</td>\n",
       "      <td>...</td>\n",
       "      <td>5</td>\n",
       "      <td>&lt;NA&gt;</td>\n",
       "      <td>5</td>\n",
       "      <td>/l/ssd/haridev/scr/checkpoints/scr_megatron_de...</td>\n",
       "      <td>2</td>\n",
       "      <td>&lt;NA&gt;</td>\n",
       "      <td>model-1-600-0.pt</td>\n",
       "      <td>model.pt</td>\n",
       "      <td>&lt;NA&gt;</td>\n",
       "      <td>0.000005</td>\n",
       "    </tr>\n",
       "    <tr>\n",
       "      <th>4267</th>\n",
       "      <td>__xstat</td>\n",
       "      <td>POSIX</td>\n",
       "      <td>0</td>\n",
       "      <td>335916</td>\n",
       "      <td>1025892947</td>\n",
       "      <td>1025892951</td>\n",
       "      <td>4</td>\n",
       "      <td>&lt;NA&gt;</td>\n",
       "      <td>34.0</td>\n",
       "      <td>corona174</td>\n",
       "      <td>...</td>\n",
       "      <td>4</td>\n",
       "      <td>&lt;NA&gt;</td>\n",
       "      <td>4</td>\n",
       "      <td>/l/ssd/haridev/scr/checkpoints/scr_megatron_de...</td>\n",
       "      <td>2</td>\n",
       "      <td>&lt;NA&gt;</td>\n",
       "      <td>model-1-600-0.pt</td>\n",
       "      <td>model.pt</td>\n",
       "      <td>&lt;NA&gt;</td>\n",
       "      <td>0.000004</td>\n",
       "    </tr>\n",
       "    <tr>\n",
       "      <th>4297</th>\n",
       "      <td>__xstat</td>\n",
       "      <td>POSIX</td>\n",
       "      <td>0</td>\n",
       "      <td>335916</td>\n",
       "      <td>1026920128</td>\n",
       "      <td>1026920142</td>\n",
       "      <td>14</td>\n",
       "      <td>&lt;NA&gt;</td>\n",
       "      <td>34.0</td>\n",
       "      <td>corona174</td>\n",
       "      <td>...</td>\n",
       "      <td>14</td>\n",
       "      <td>&lt;NA&gt;</td>\n",
       "      <td>14</td>\n",
       "      <td>/l/ssd/haridev/scr/checkpoints/scr_megatron_de...</td>\n",
       "      <td>2</td>\n",
       "      <td>&lt;NA&gt;</td>\n",
       "      <td>model-1-600-0.pt</td>\n",
       "      <td>model.pt</td>\n",
       "      <td>&lt;NA&gt;</td>\n",
       "      <td>0.000014</td>\n",
       "    </tr>\n",
       "  </tbody>\n",
       "</table>\n",
       "<p>13 rows × 21 columns</p>\n",
       "</div>"
      ],
      "text/plain": [
       "            name    cat  pid     tid          ts          te  dur  tinterval  \\\n",
       "8159      open64  POSIX    0  335916  1001811003  1001811038   35       <NA>   \n",
       "8160  __fxstat64  POSIX    0  335916  1001811048  1001811050    2       <NA>   \n",
       "8161     lseek64  POSIX    0  335916  1001811065  1001811066    1       <NA>   \n",
       "8162       write  POSIX    0  335916  1001811279  1001811289   10       <NA>   \n",
       "8163       write  POSIX    0  335916  1001811303  1001811322   19       <NA>   \n",
       "8164       write  POSIX    0  335916  1001811356  1001811360    4       <NA>   \n",
       "8165       close  POSIX    0  335916  1001811378  1001811388   10       <NA>   \n",
       "4124      access  POSIX    0  335916  1025776223  1025776228    5       <NA>   \n",
       "4125     __xstat  POSIX    0  335916  1025776246  1025776250    4       <NA>   \n",
       "4265      access  POSIX    0  335916  1025892888  1025892893    5       <NA>   \n",
       "4266     __xstat  POSIX    0  335916  1025892923  1025892928    5       <NA>   \n",
       "4267     __xstat  POSIX    0  335916  1025892947  1025892951    4       <NA>   \n",
       "4297     __xstat  POSIX    0  335916  1026920128  1026920142   14       <NA>   \n",
       "\n",
       "      trange   hostname  ...  io_time  app_io_time  total_time  \\\n",
       "8159    33.0  corona174  ...       35         <NA>          35   \n",
       "8160    33.0  corona174  ...        2         <NA>           2   \n",
       "8161    33.0  corona174  ...        1         <NA>           1   \n",
       "8162    33.0  corona174  ...       10         <NA>          10   \n",
       "8163    33.0  corona174  ...       19         <NA>          19   \n",
       "8164    33.0  corona174  ...        4         <NA>           4   \n",
       "8165    33.0  corona174  ...       10         <NA>          10   \n",
       "4124    34.0  corona174  ...        5         <NA>           5   \n",
       "4125    34.0  corona174  ...        4         <NA>           4   \n",
       "4265    34.0  corona174  ...        5         <NA>           5   \n",
       "4266    34.0  corona174  ...        5         <NA>           5   \n",
       "4267    34.0  corona174  ...        4         <NA>           4   \n",
       "4297    34.0  corona174  ...       14         <NA>          14   \n",
       "\n",
       "                                               filename phase   size  \\\n",
       "8159  /l/ssd/haridev/scr/checkpoints/scr_megatron_de...     2   <NA>   \n",
       "8160  /l/ssd/haridev/scr/checkpoints/scr_megatron_de...     2   <NA>   \n",
       "8161  /l/ssd/haridev/scr/checkpoints/scr_megatron_de...     2   <NA>   \n",
       "8162  /l/ssd/haridev/scr/checkpoints/scr_megatron_de...     2    320   \n",
       "8163  /l/ssd/haridev/scr/checkpoints/scr_megatron_de...     2  30102   \n",
       "8164  /l/ssd/haridev/scr/checkpoints/scr_megatron_de...     2    405   \n",
       "8165  /l/ssd/haridev/scr/checkpoints/scr_megatron_de...     2   <NA>   \n",
       "4124  /l/ssd/haridev/scr/checkpoints/scr_megatron_de...     2   <NA>   \n",
       "4125  /l/ssd/haridev/scr/checkpoints/scr_megatron_de...     2   <NA>   \n",
       "4265  /l/ssd/haridev/scr/checkpoints/scr_megatron_de...     2   <NA>   \n",
       "4266  /l/ssd/haridev/scr/checkpoints/scr_megatron_de...     2   <NA>   \n",
       "4267  /l/ssd/haridev/scr/checkpoints/scr_megatron_de...     2   <NA>   \n",
       "4297  /l/ssd/haridev/scr/checkpoints/scr_megatron_de...     2   <NA>   \n",
       "\n",
       "                 fname fname_regex   size_gb   dur_sec  \n",
       "8159  model-1-600-0.pt    model.pt      <NA>  0.000035  \n",
       "8160  model-1-600-0.pt    model.pt      <NA>  0.000002  \n",
       "8161  model-1-600-0.pt    model.pt      <NA>  0.000001  \n",
       "8162  model-1-600-0.pt    model.pt       0.0   0.00001  \n",
       "8163  model-1-600-0.pt    model.pt  0.000028  0.000019  \n",
       "8164  model-1-600-0.pt    model.pt       0.0  0.000004  \n",
       "8165  model-1-600-0.pt    model.pt      <NA>   0.00001  \n",
       "4124  model-1-600-0.pt    model.pt      <NA>  0.000005  \n",
       "4125  model-1-600-0.pt    model.pt      <NA>  0.000004  \n",
       "4265  model-1-600-0.pt    model.pt      <NA>  0.000005  \n",
       "4266  model-1-600-0.pt    model.pt      <NA>  0.000005  \n",
       "4267  model-1-600-0.pt    model.pt      <NA>  0.000004  \n",
       "4297  model-1-600-0.pt    model.pt      <NA>  0.000014  \n",
       "\n",
       "[13 rows x 21 columns]"
      ]
     },
     "execution_count": 54,
     "metadata": {},
     "output_type": "execute_result"
    }
   ],
   "source": [
    "scr_ssd_nf_checkpoints.query(\"fname.str.contains('model-1-600-0.pt')\")"
   ]
  },
  {
   "cell_type": "code",
   "execution_count": 52,
   "id": "e860c0b6",
   "metadata": {},
   "outputs": [
    {
     "data": {
      "text/plain": [
       "name\n",
       "__fxstat64    0.000002\n",
       "close         0.000009\n",
       "lseek64       0.000001\n",
       "open64        0.000111\n",
       "write         0.000151\n",
       "Name: dur_sec, dtype: double[pyarrow]"
      ]
     },
     "execution_count": 52,
     "metadata": {},
     "output_type": "execute_result"
    }
   ],
   "source": [
    "base_ssd_checkpoints.query(\"fname.str.contains('model-1-600-0.pt')\").groupby(\"name\")[\"dur_sec\"].sum()"
   ]
  },
  {
   "cell_type": "code",
   "execution_count": 55,
   "id": "5c7586d7",
   "metadata": {},
   "outputs": [
    {
     "data": {
      "text/plain": [
       "name\n",
       "__fxstat64    0.000002\n",
       "__xstat       0.000027\n",
       "access         0.00001\n",
       "close          0.00001\n",
       "lseek64       0.000001\n",
       "open64        0.000035\n",
       "write         0.000033\n",
       "Name: dur_sec, dtype: double[pyarrow]"
      ]
     },
     "execution_count": 55,
     "metadata": {},
     "output_type": "execute_result"
    }
   ],
   "source": [
    "scr_ssd_nf_checkpoints.query(\"fname.str.contains('model-1-600-0.pt')\").groupby(\"name\")[\"dur_sec\"].sum()"
   ]
  },
  {
   "cell_type": "code",
   "execution_count": 70,
   "id": "14a1d6e0",
   "metadata": {},
   "outputs": [
    {
     "data": {
      "text/plain": [
       "35.0"
      ]
     },
     "execution_count": 70,
     "metadata": {},
     "output_type": "execute_result"
    }
   ],
   "source": [
    "scr_ssd_nf_checkpoints[\"trange\"].max()"
   ]
  },
  {
   "cell_type": "code",
   "execution_count": 71,
   "id": "ac18f601",
   "metadata": {},
   "outputs": [
    {
     "data": {
      "text/plain": [
       "size\n",
       "320      1\n",
       "30102    1\n",
       "405      1\n",
       "Name: count, dtype: int64[pyarrow]"
      ]
     },
     "execution_count": 71,
     "metadata": {},
     "output_type": "execute_result"
    }
   ],
   "source": [
    "base_ssd_checkpoints.query(\"fname.str.contains('model-1-600-0.pt')\")[\"size\"].value_counts()"
   ]
  },
  {
   "cell_type": "code",
   "execution_count": 72,
   "id": "951c3295",
   "metadata": {},
   "outputs": [
    {
     "data": {
      "text/plain": [
       "size\n",
       "320      1\n",
       "30102    1\n",
       "405      1\n",
       "Name: count, dtype: int64[pyarrow]"
      ]
     },
     "execution_count": 72,
     "metadata": {},
     "output_type": "execute_result"
    }
   ],
   "source": [
    "scr_ssd_nf_checkpoints.query(\"fname.str.contains('model-1-600-0.pt')\")[\"size\"].value_counts()"
   ]
  },
  {
   "cell_type": "code",
   "execution_count": 73,
   "id": "c7011185",
   "metadata": {},
   "outputs": [
    {
     "data": {
      "text/html": [
       "<div>\n",
       "<style scoped>\n",
       "    .dataframe tbody tr th:only-of-type {\n",
       "        vertical-align: middle;\n",
       "    }\n",
       "\n",
       "    .dataframe tbody tr th {\n",
       "        vertical-align: top;\n",
       "    }\n",
       "\n",
       "    .dataframe thead th {\n",
       "        text-align: right;\n",
       "    }\n",
       "</style>\n",
       "<table border=\"1\" class=\"dataframe\">\n",
       "  <thead>\n",
       "    <tr style=\"text-align: right;\">\n",
       "      <th></th>\n",
       "      <th>name</th>\n",
       "      <th>cat</th>\n",
       "      <th>pid</th>\n",
       "      <th>tid</th>\n",
       "      <th>ts</th>\n",
       "      <th>te</th>\n",
       "      <th>dur</th>\n",
       "      <th>tinterval</th>\n",
       "      <th>trange</th>\n",
       "      <th>hostname</th>\n",
       "      <th>...</th>\n",
       "      <th>io_time</th>\n",
       "      <th>app_io_time</th>\n",
       "      <th>total_time</th>\n",
       "      <th>filename</th>\n",
       "      <th>phase</th>\n",
       "      <th>size</th>\n",
       "      <th>fname</th>\n",
       "      <th>fname_regex</th>\n",
       "      <th>size_gb</th>\n",
       "      <th>dur_sec</th>\n",
       "    </tr>\n",
       "  </thead>\n",
       "  <tbody>\n",
       "    <tr>\n",
       "      <th>8159</th>\n",
       "      <td>open64</td>\n",
       "      <td>POSIX</td>\n",
       "      <td>0</td>\n",
       "      <td>335916</td>\n",
       "      <td>1001811003</td>\n",
       "      <td>1001811038</td>\n",
       "      <td>35</td>\n",
       "      <td>&lt;NA&gt;</td>\n",
       "      <td>33.0</td>\n",
       "      <td>corona174</td>\n",
       "      <td>...</td>\n",
       "      <td>35</td>\n",
       "      <td>&lt;NA&gt;</td>\n",
       "      <td>35</td>\n",
       "      <td>/l/ssd/haridev/scr/checkpoints/scr_megatron_de...</td>\n",
       "      <td>2</td>\n",
       "      <td>&lt;NA&gt;</td>\n",
       "      <td>model-1-600-0.pt</td>\n",
       "      <td>model.pt</td>\n",
       "      <td>&lt;NA&gt;</td>\n",
       "      <td>0.000035</td>\n",
       "    </tr>\n",
       "    <tr>\n",
       "      <th>8160</th>\n",
       "      <td>__fxstat64</td>\n",
       "      <td>POSIX</td>\n",
       "      <td>0</td>\n",
       "      <td>335916</td>\n",
       "      <td>1001811048</td>\n",
       "      <td>1001811050</td>\n",
       "      <td>2</td>\n",
       "      <td>&lt;NA&gt;</td>\n",
       "      <td>33.0</td>\n",
       "      <td>corona174</td>\n",
       "      <td>...</td>\n",
       "      <td>2</td>\n",
       "      <td>&lt;NA&gt;</td>\n",
       "      <td>2</td>\n",
       "      <td>/l/ssd/haridev/scr/checkpoints/scr_megatron_de...</td>\n",
       "      <td>2</td>\n",
       "      <td>&lt;NA&gt;</td>\n",
       "      <td>model-1-600-0.pt</td>\n",
       "      <td>model.pt</td>\n",
       "      <td>&lt;NA&gt;</td>\n",
       "      <td>0.000002</td>\n",
       "    </tr>\n",
       "    <tr>\n",
       "      <th>8161</th>\n",
       "      <td>lseek64</td>\n",
       "      <td>POSIX</td>\n",
       "      <td>0</td>\n",
       "      <td>335916</td>\n",
       "      <td>1001811065</td>\n",
       "      <td>1001811066</td>\n",
       "      <td>1</td>\n",
       "      <td>&lt;NA&gt;</td>\n",
       "      <td>33.0</td>\n",
       "      <td>corona174</td>\n",
       "      <td>...</td>\n",
       "      <td>1</td>\n",
       "      <td>&lt;NA&gt;</td>\n",
       "      <td>1</td>\n",
       "      <td>/l/ssd/haridev/scr/checkpoints/scr_megatron_de...</td>\n",
       "      <td>2</td>\n",
       "      <td>&lt;NA&gt;</td>\n",
       "      <td>model-1-600-0.pt</td>\n",
       "      <td>model.pt</td>\n",
       "      <td>&lt;NA&gt;</td>\n",
       "      <td>0.000001</td>\n",
       "    </tr>\n",
       "    <tr>\n",
       "      <th>8162</th>\n",
       "      <td>write</td>\n",
       "      <td>POSIX</td>\n",
       "      <td>0</td>\n",
       "      <td>335916</td>\n",
       "      <td>1001811279</td>\n",
       "      <td>1001811289</td>\n",
       "      <td>10</td>\n",
       "      <td>&lt;NA&gt;</td>\n",
       "      <td>33.0</td>\n",
       "      <td>corona174</td>\n",
       "      <td>...</td>\n",
       "      <td>10</td>\n",
       "      <td>&lt;NA&gt;</td>\n",
       "      <td>10</td>\n",
       "      <td>/l/ssd/haridev/scr/checkpoints/scr_megatron_de...</td>\n",
       "      <td>2</td>\n",
       "      <td>320</td>\n",
       "      <td>model-1-600-0.pt</td>\n",
       "      <td>model.pt</td>\n",
       "      <td>0.0</td>\n",
       "      <td>0.00001</td>\n",
       "    </tr>\n",
       "    <tr>\n",
       "      <th>8163</th>\n",
       "      <td>write</td>\n",
       "      <td>POSIX</td>\n",
       "      <td>0</td>\n",
       "      <td>335916</td>\n",
       "      <td>1001811303</td>\n",
       "      <td>1001811322</td>\n",
       "      <td>19</td>\n",
       "      <td>&lt;NA&gt;</td>\n",
       "      <td>33.0</td>\n",
       "      <td>corona174</td>\n",
       "      <td>...</td>\n",
       "      <td>19</td>\n",
       "      <td>&lt;NA&gt;</td>\n",
       "      <td>19</td>\n",
       "      <td>/l/ssd/haridev/scr/checkpoints/scr_megatron_de...</td>\n",
       "      <td>2</td>\n",
       "      <td>30102</td>\n",
       "      <td>model-1-600-0.pt</td>\n",
       "      <td>model.pt</td>\n",
       "      <td>0.000028</td>\n",
       "      <td>0.000019</td>\n",
       "    </tr>\n",
       "    <tr>\n",
       "      <th>8164</th>\n",
       "      <td>write</td>\n",
       "      <td>POSIX</td>\n",
       "      <td>0</td>\n",
       "      <td>335916</td>\n",
       "      <td>1001811356</td>\n",
       "      <td>1001811360</td>\n",
       "      <td>4</td>\n",
       "      <td>&lt;NA&gt;</td>\n",
       "      <td>33.0</td>\n",
       "      <td>corona174</td>\n",
       "      <td>...</td>\n",
       "      <td>4</td>\n",
       "      <td>&lt;NA&gt;</td>\n",
       "      <td>4</td>\n",
       "      <td>/l/ssd/haridev/scr/checkpoints/scr_megatron_de...</td>\n",
       "      <td>2</td>\n",
       "      <td>405</td>\n",
       "      <td>model-1-600-0.pt</td>\n",
       "      <td>model.pt</td>\n",
       "      <td>0.0</td>\n",
       "      <td>0.000004</td>\n",
       "    </tr>\n",
       "    <tr>\n",
       "      <th>8165</th>\n",
       "      <td>close</td>\n",
       "      <td>POSIX</td>\n",
       "      <td>0</td>\n",
       "      <td>335916</td>\n",
       "      <td>1001811378</td>\n",
       "      <td>1001811388</td>\n",
       "      <td>10</td>\n",
       "      <td>&lt;NA&gt;</td>\n",
       "      <td>33.0</td>\n",
       "      <td>corona174</td>\n",
       "      <td>...</td>\n",
       "      <td>10</td>\n",
       "      <td>&lt;NA&gt;</td>\n",
       "      <td>10</td>\n",
       "      <td>/l/ssd/haridev/scr/checkpoints/scr_megatron_de...</td>\n",
       "      <td>2</td>\n",
       "      <td>&lt;NA&gt;</td>\n",
       "      <td>model-1-600-0.pt</td>\n",
       "      <td>model.pt</td>\n",
       "      <td>&lt;NA&gt;</td>\n",
       "      <td>0.00001</td>\n",
       "    </tr>\n",
       "    <tr>\n",
       "      <th>4124</th>\n",
       "      <td>access</td>\n",
       "      <td>POSIX</td>\n",
       "      <td>0</td>\n",
       "      <td>335916</td>\n",
       "      <td>1025776223</td>\n",
       "      <td>1025776228</td>\n",
       "      <td>5</td>\n",
       "      <td>&lt;NA&gt;</td>\n",
       "      <td>34.0</td>\n",
       "      <td>corona174</td>\n",
       "      <td>...</td>\n",
       "      <td>5</td>\n",
       "      <td>&lt;NA&gt;</td>\n",
       "      <td>5</td>\n",
       "      <td>/l/ssd/haridev/scr/checkpoints/scr_megatron_de...</td>\n",
       "      <td>2</td>\n",
       "      <td>&lt;NA&gt;</td>\n",
       "      <td>model-1-600-0.pt</td>\n",
       "      <td>model.pt</td>\n",
       "      <td>&lt;NA&gt;</td>\n",
       "      <td>0.000005</td>\n",
       "    </tr>\n",
       "    <tr>\n",
       "      <th>4125</th>\n",
       "      <td>__xstat</td>\n",
       "      <td>POSIX</td>\n",
       "      <td>0</td>\n",
       "      <td>335916</td>\n",
       "      <td>1025776246</td>\n",
       "      <td>1025776250</td>\n",
       "      <td>4</td>\n",
       "      <td>&lt;NA&gt;</td>\n",
       "      <td>34.0</td>\n",
       "      <td>corona174</td>\n",
       "      <td>...</td>\n",
       "      <td>4</td>\n",
       "      <td>&lt;NA&gt;</td>\n",
       "      <td>4</td>\n",
       "      <td>/l/ssd/haridev/scr/checkpoints/scr_megatron_de...</td>\n",
       "      <td>2</td>\n",
       "      <td>&lt;NA&gt;</td>\n",
       "      <td>model-1-600-0.pt</td>\n",
       "      <td>model.pt</td>\n",
       "      <td>&lt;NA&gt;</td>\n",
       "      <td>0.000004</td>\n",
       "    </tr>\n",
       "    <tr>\n",
       "      <th>4265</th>\n",
       "      <td>access</td>\n",
       "      <td>POSIX</td>\n",
       "      <td>0</td>\n",
       "      <td>335916</td>\n",
       "      <td>1025892888</td>\n",
       "      <td>1025892893</td>\n",
       "      <td>5</td>\n",
       "      <td>&lt;NA&gt;</td>\n",
       "      <td>34.0</td>\n",
       "      <td>corona174</td>\n",
       "      <td>...</td>\n",
       "      <td>5</td>\n",
       "      <td>&lt;NA&gt;</td>\n",
       "      <td>5</td>\n",
       "      <td>/l/ssd/haridev/scr/checkpoints/scr_megatron_de...</td>\n",
       "      <td>2</td>\n",
       "      <td>&lt;NA&gt;</td>\n",
       "      <td>model-1-600-0.pt</td>\n",
       "      <td>model.pt</td>\n",
       "      <td>&lt;NA&gt;</td>\n",
       "      <td>0.000005</td>\n",
       "    </tr>\n",
       "    <tr>\n",
       "      <th>4266</th>\n",
       "      <td>__xstat</td>\n",
       "      <td>POSIX</td>\n",
       "      <td>0</td>\n",
       "      <td>335916</td>\n",
       "      <td>1025892923</td>\n",
       "      <td>1025892928</td>\n",
       "      <td>5</td>\n",
       "      <td>&lt;NA&gt;</td>\n",
       "      <td>34.0</td>\n",
       "      <td>corona174</td>\n",
       "      <td>...</td>\n",
       "      <td>5</td>\n",
       "      <td>&lt;NA&gt;</td>\n",
       "      <td>5</td>\n",
       "      <td>/l/ssd/haridev/scr/checkpoints/scr_megatron_de...</td>\n",
       "      <td>2</td>\n",
       "      <td>&lt;NA&gt;</td>\n",
       "      <td>model-1-600-0.pt</td>\n",
       "      <td>model.pt</td>\n",
       "      <td>&lt;NA&gt;</td>\n",
       "      <td>0.000005</td>\n",
       "    </tr>\n",
       "    <tr>\n",
       "      <th>4267</th>\n",
       "      <td>__xstat</td>\n",
       "      <td>POSIX</td>\n",
       "      <td>0</td>\n",
       "      <td>335916</td>\n",
       "      <td>1025892947</td>\n",
       "      <td>1025892951</td>\n",
       "      <td>4</td>\n",
       "      <td>&lt;NA&gt;</td>\n",
       "      <td>34.0</td>\n",
       "      <td>corona174</td>\n",
       "      <td>...</td>\n",
       "      <td>4</td>\n",
       "      <td>&lt;NA&gt;</td>\n",
       "      <td>4</td>\n",
       "      <td>/l/ssd/haridev/scr/checkpoints/scr_megatron_de...</td>\n",
       "      <td>2</td>\n",
       "      <td>&lt;NA&gt;</td>\n",
       "      <td>model-1-600-0.pt</td>\n",
       "      <td>model.pt</td>\n",
       "      <td>&lt;NA&gt;</td>\n",
       "      <td>0.000004</td>\n",
       "    </tr>\n",
       "    <tr>\n",
       "      <th>4297</th>\n",
       "      <td>__xstat</td>\n",
       "      <td>POSIX</td>\n",
       "      <td>0</td>\n",
       "      <td>335916</td>\n",
       "      <td>1026920128</td>\n",
       "      <td>1026920142</td>\n",
       "      <td>14</td>\n",
       "      <td>&lt;NA&gt;</td>\n",
       "      <td>34.0</td>\n",
       "      <td>corona174</td>\n",
       "      <td>...</td>\n",
       "      <td>14</td>\n",
       "      <td>&lt;NA&gt;</td>\n",
       "      <td>14</td>\n",
       "      <td>/l/ssd/haridev/scr/checkpoints/scr_megatron_de...</td>\n",
       "      <td>2</td>\n",
       "      <td>&lt;NA&gt;</td>\n",
       "      <td>model-1-600-0.pt</td>\n",
       "      <td>model.pt</td>\n",
       "      <td>&lt;NA&gt;</td>\n",
       "      <td>0.000014</td>\n",
       "    </tr>\n",
       "  </tbody>\n",
       "</table>\n",
       "<p>13 rows × 21 columns</p>\n",
       "</div>"
      ],
      "text/plain": [
       "            name    cat  pid     tid          ts          te  dur  tinterval  \\\n",
       "8159      open64  POSIX    0  335916  1001811003  1001811038   35       <NA>   \n",
       "8160  __fxstat64  POSIX    0  335916  1001811048  1001811050    2       <NA>   \n",
       "8161     lseek64  POSIX    0  335916  1001811065  1001811066    1       <NA>   \n",
       "8162       write  POSIX    0  335916  1001811279  1001811289   10       <NA>   \n",
       "8163       write  POSIX    0  335916  1001811303  1001811322   19       <NA>   \n",
       "8164       write  POSIX    0  335916  1001811356  1001811360    4       <NA>   \n",
       "8165       close  POSIX    0  335916  1001811378  1001811388   10       <NA>   \n",
       "4124      access  POSIX    0  335916  1025776223  1025776228    5       <NA>   \n",
       "4125     __xstat  POSIX    0  335916  1025776246  1025776250    4       <NA>   \n",
       "4265      access  POSIX    0  335916  1025892888  1025892893    5       <NA>   \n",
       "4266     __xstat  POSIX    0  335916  1025892923  1025892928    5       <NA>   \n",
       "4267     __xstat  POSIX    0  335916  1025892947  1025892951    4       <NA>   \n",
       "4297     __xstat  POSIX    0  335916  1026920128  1026920142   14       <NA>   \n",
       "\n",
       "      trange   hostname  ...  io_time  app_io_time  total_time  \\\n",
       "8159    33.0  corona174  ...       35         <NA>          35   \n",
       "8160    33.0  corona174  ...        2         <NA>           2   \n",
       "8161    33.0  corona174  ...        1         <NA>           1   \n",
       "8162    33.0  corona174  ...       10         <NA>          10   \n",
       "8163    33.0  corona174  ...       19         <NA>          19   \n",
       "8164    33.0  corona174  ...        4         <NA>           4   \n",
       "8165    33.0  corona174  ...       10         <NA>          10   \n",
       "4124    34.0  corona174  ...        5         <NA>           5   \n",
       "4125    34.0  corona174  ...        4         <NA>           4   \n",
       "4265    34.0  corona174  ...        5         <NA>           5   \n",
       "4266    34.0  corona174  ...        5         <NA>           5   \n",
       "4267    34.0  corona174  ...        4         <NA>           4   \n",
       "4297    34.0  corona174  ...       14         <NA>          14   \n",
       "\n",
       "                                               filename phase   size  \\\n",
       "8159  /l/ssd/haridev/scr/checkpoints/scr_megatron_de...     2   <NA>   \n",
       "8160  /l/ssd/haridev/scr/checkpoints/scr_megatron_de...     2   <NA>   \n",
       "8161  /l/ssd/haridev/scr/checkpoints/scr_megatron_de...     2   <NA>   \n",
       "8162  /l/ssd/haridev/scr/checkpoints/scr_megatron_de...     2    320   \n",
       "8163  /l/ssd/haridev/scr/checkpoints/scr_megatron_de...     2  30102   \n",
       "8164  /l/ssd/haridev/scr/checkpoints/scr_megatron_de...     2    405   \n",
       "8165  /l/ssd/haridev/scr/checkpoints/scr_megatron_de...     2   <NA>   \n",
       "4124  /l/ssd/haridev/scr/checkpoints/scr_megatron_de...     2   <NA>   \n",
       "4125  /l/ssd/haridev/scr/checkpoints/scr_megatron_de...     2   <NA>   \n",
       "4265  /l/ssd/haridev/scr/checkpoints/scr_megatron_de...     2   <NA>   \n",
       "4266  /l/ssd/haridev/scr/checkpoints/scr_megatron_de...     2   <NA>   \n",
       "4267  /l/ssd/haridev/scr/checkpoints/scr_megatron_de...     2   <NA>   \n",
       "4297  /l/ssd/haridev/scr/checkpoints/scr_megatron_de...     2   <NA>   \n",
       "\n",
       "                 fname fname_regex   size_gb   dur_sec  \n",
       "8159  model-1-600-0.pt    model.pt      <NA>  0.000035  \n",
       "8160  model-1-600-0.pt    model.pt      <NA>  0.000002  \n",
       "8161  model-1-600-0.pt    model.pt      <NA>  0.000001  \n",
       "8162  model-1-600-0.pt    model.pt       0.0   0.00001  \n",
       "8163  model-1-600-0.pt    model.pt  0.000028  0.000019  \n",
       "8164  model-1-600-0.pt    model.pt       0.0  0.000004  \n",
       "8165  model-1-600-0.pt    model.pt      <NA>   0.00001  \n",
       "4124  model-1-600-0.pt    model.pt      <NA>  0.000005  \n",
       "4125  model-1-600-0.pt    model.pt      <NA>  0.000004  \n",
       "4265  model-1-600-0.pt    model.pt      <NA>  0.000005  \n",
       "4266  model-1-600-0.pt    model.pt      <NA>  0.000005  \n",
       "4267  model-1-600-0.pt    model.pt      <NA>  0.000004  \n",
       "4297  model-1-600-0.pt    model.pt      <NA>  0.000014  \n",
       "\n",
       "[13 rows x 21 columns]"
      ]
     },
     "execution_count": 73,
     "metadata": {},
     "output_type": "execute_result"
    }
   ],
   "source": [
    "scr_ssd_nf_checkpoints.query(\"fname.str.contains('model-1-600-0.pt')\")"
   ]
  },
  {
   "cell_type": "markdown",
   "id": "71c226dc",
   "metadata": {},
   "source": [
    "- Many extra operations\n",
    "  - original app used 7 I/O calls across 5 ops\n",
    "  - SCR has 13 I/O calls across 7 ops \n",
    "\n",
    "*Question* why do we do extra calls on data produced as outputs?"
   ]
  },
  {
   "cell_type": "markdown",
   "id": "1c6678ec",
   "metadata": {},
   "source": [
    "### Check operations for layer files"
   ]
  },
  {
   "cell_type": "code",
   "execution_count": 74,
   "id": "f8e9bbc4",
   "metadata": {},
   "outputs": [
    {
     "data": {
      "text/plain": [
       "name\n",
       "write         2640\n",
       "open64         528\n",
       "__fxstat64     528\n",
       "lseek64        528\n",
       "close          528\n",
       "Name: count, dtype: int64[pyarrow]"
      ]
     },
     "execution_count": 74,
     "metadata": {},
     "output_type": "execute_result"
    }
   ],
   "source": [
    "base_ssd_checkpoints.query(\"fname.str.contains('layer')\")[\"name\"].value_counts()"
   ]
  },
  {
   "cell_type": "code",
   "execution_count": 75,
   "id": "627ee476",
   "metadata": {},
   "outputs": [
    {
     "data": {
      "text/plain": [
       "name\n",
       "write         1320\n",
       "__xstat       1056\n",
       "access         528\n",
       "open64         264\n",
       "__fxstat64     264\n",
       "lseek64        264\n",
       "close          264\n",
       "Name: count, dtype: int64[pyarrow]"
      ]
     },
     "execution_count": 75,
     "metadata": {},
     "output_type": "execute_result"
    }
   ],
   "source": [
    "scr_ssd_nf_checkpoints.query(\"fname.str.contains('layer')\")[\"name\"].value_counts()\n"
   ]
  },
  {
   "cell_type": "markdown",
   "id": "d0950fd4",
   "metadata": {},
   "source": [
    "**INVESTIGATION** Again why do we see half the writes. "
   ]
  },
  {
   "cell_type": "markdown",
   "id": "4fed501a",
   "metadata": {},
   "source": [
    "##### Check per model file"
   ]
  },
  {
   "cell_type": "code",
   "execution_count": 76,
   "id": "3a6dbd14",
   "metadata": {},
   "outputs": [
    {
     "data": {
      "text/plain": [
       "name\n",
       "write         220\n",
       "open64         44\n",
       "__fxstat64     44\n",
       "lseek64        44\n",
       "close          44\n",
       "Name: count, dtype: int64[pyarrow]"
      ]
     },
     "execution_count": 76,
     "metadata": {},
     "output_type": "execute_result"
    }
   ],
   "source": [
    "base_ssd_checkpoints.query(\"fname.str.contains('layer-') and fname.str.contains('1-600-0.pt')\")[\"name\"].value_counts()"
   ]
  },
  {
   "cell_type": "code",
   "execution_count": 77,
   "id": "0ddc2b00",
   "metadata": {},
   "outputs": [
    {
     "data": {
      "text/plain": [
       "name\n",
       "write         220\n",
       "__xstat       176\n",
       "access         88\n",
       "open64         44\n",
       "__fxstat64     44\n",
       "lseek64        44\n",
       "close          44\n",
       "Name: count, dtype: int64[pyarrow]"
      ]
     },
     "execution_count": 77,
     "metadata": {},
     "output_type": "execute_result"
    }
   ],
   "source": [
    "scr_ssd_nf_checkpoints.query(\"fname.str.contains('layer-') and fname.str.contains('1-600-0.pt')\")[\"name\"].value_counts()"
   ]
  },
  {
   "cell_type": "code",
   "execution_count": 78,
   "id": "4017283c",
   "metadata": {},
   "outputs": [
    {
     "data": {
      "text/plain": [
       "size\n",
       "384          44\n",
       "129761280    44\n",
       "64           44\n",
       "20971520     44\n",
       "487          44\n",
       "Name: count, dtype: int64[pyarrow]"
      ]
     },
     "execution_count": 78,
     "metadata": {},
     "output_type": "execute_result"
    }
   ],
   "source": [
    "base_ssd_checkpoints.query(\"fname.str.contains('layer-') and fname.str.contains('1-600-0.pt')\")[\"size\"].value_counts()"
   ]
  },
  {
   "cell_type": "code",
   "execution_count": 79,
   "id": "bdfe0490",
   "metadata": {},
   "outputs": [
    {
     "data": {
      "text/plain": [
       "size\n",
       "384          44\n",
       "129761280    44\n",
       "64           44\n",
       "20971520     44\n",
       "487          44\n",
       "Name: count, dtype: int64[pyarrow]"
      ]
     },
     "execution_count": 79,
     "metadata": {},
     "output_type": "execute_result"
    }
   ],
   "source": [
    "scr_ssd_nf_checkpoints.query(\"fname.str.contains('layer-') and fname.str.contains('1-600-0.pt')\")[\"size\"].value_counts()"
   ]
  },
  {
   "cell_type": "code",
   "execution_count": 80,
   "id": "29e42dbf",
   "metadata": {},
   "outputs": [
    {
     "data": {
      "text/plain": [
       "size\n",
       "384          1\n",
       "129761280    1\n",
       "64           1\n",
       "20971520     1\n",
       "487          1\n",
       "Name: count, dtype: int64[pyarrow]"
      ]
     },
     "execution_count": 80,
     "metadata": {},
     "output_type": "execute_result"
    }
   ],
   "source": [
    "base_ssd_checkpoints.query(\"fname.str.contains('layer-0-1-600-0.pt')\")[\"size\"].value_counts()"
   ]
  },
  {
   "cell_type": "code",
   "execution_count": 81,
   "id": "8e56dc46",
   "metadata": {},
   "outputs": [
    {
     "data": {
      "text/plain": [
       "size\n",
       "384          1\n",
       "129761280    1\n",
       "64           1\n",
       "20971520     1\n",
       "487          1\n",
       "Name: count, dtype: int64[pyarrow]"
      ]
     },
     "execution_count": 81,
     "metadata": {},
     "output_type": "execute_result"
    }
   ],
   "source": [
    "scr_ssd_nf_checkpoints.query(\"fname.str.contains('layer-0-1-600-0.pt')\")[\"size\"].value_counts()"
   ]
  },
  {
   "cell_type": "code",
   "execution_count": 82,
   "id": "d2fd5017",
   "metadata": {},
   "outputs": [
    {
     "data": {
      "text/plain": [
       "name\n",
       "write         5\n",
       "open64        1\n",
       "__fxstat64    1\n",
       "lseek64       1\n",
       "close         1\n",
       "Name: count, dtype: int64[pyarrow]"
      ]
     },
     "execution_count": 82,
     "metadata": {},
     "output_type": "execute_result"
    }
   ],
   "source": [
    "base_ssd_checkpoints.query(\"fname.str.contains('layer-0-1-600-0.pt')\")[\"name\"].value_counts()"
   ]
  },
  {
   "cell_type": "code",
   "execution_count": 83,
   "id": "da4ddc74",
   "metadata": {},
   "outputs": [
    {
     "data": {
      "text/plain": [
       "name\n",
       "write         5\n",
       "__xstat       4\n",
       "access        2\n",
       "open64        1\n",
       "__fxstat64    1\n",
       "lseek64       1\n",
       "close         1\n",
       "Name: count, dtype: int64[pyarrow]"
      ]
     },
     "execution_count": 83,
     "metadata": {},
     "output_type": "execute_result"
    }
   ],
   "source": [
    "scr_ssd_nf_checkpoints.query(\"fname.str.contains('layer-0-1-600-0.pt')\")[\"name\"].value_counts()"
   ]
  },
  {
   "cell_type": "markdown",
   "id": "77c79d4a",
   "metadata": {},
   "source": [
    "Same Behavior here."
   ]
  },
  {
   "cell_type": "markdown",
   "id": "81cc6082",
   "metadata": {},
   "source": [
    "# Next Steps\n",
    "1. Check why PFS is so much cost in SCR. We looked at flush being the bulk of the cost.\n",
    "2. INVESTIGATE: Without async I/O the ssd is 121.076746 and with async I/O is 472.086514"
   ]
  },
  {
   "cell_type": "markdown",
   "id": "8dc5b711",
   "metadata": {},
   "source": []
  },
  {
   "cell_type": "code",
   "execution_count": 16,
   "id": "bc5884f7",
   "metadata": {},
   "outputs": [
    {
     "data": {
      "text/plain": [
       "(dur    167.23401\n",
       " dtype: double[pyarrow],\n",
       " dur    1060.07277\n",
       " dtype: double[pyarrow],\n",
       " dur    472.086514\n",
       " dtype: double[pyarrow])"
      ]
     },
     "execution_count": 16,
     "metadata": {},
     "output_type": "execute_result"
    }
   ],
   "source": [
    "scr_pfs_single_ckp_time, scr_pfs_single_posix_lustre_time, scr_pfs_single_posix_ssd_time"
   ]
  },
  {
   "cell_type": "code",
   "execution_count": 18,
   "id": "1f4153c0",
   "metadata": {},
   "outputs": [],
   "source": [
    "def get_checkpoint_time(df):\n",
    "    app_time = df.query(\"name.str.contains('PyTorchCheckpointing.checkpoint')\")\n",
    "    app_time_files = app_time.groupby([\"pid\"]).agg({\"dur\":sum}).max()\n",
    "    return app_time_files.compute() / 1e6\n",
    "\n",
    "def get_posix_pfs(df):\n",
    "    posix_lustre_time = df.query(\"cat == 'POSIX' and filename.str.contains('/p/lustre2/haridev/dlio/scr/checkpoints')\")\n",
    "    return posix_lustre_time\n",
    "\n",
    "def get_posix_ssd_time(df):\n",
    "    posix_lustre_time = df.query(\"cat == 'POSIX' and filename.str.contains('/l/ssd/haridev/scr/checkpoints')\")\n",
    "    posix_lustre_time_files = posix_lustre_time.groupby([\"pid\"]).agg({\"dur\":sum}).max()\n",
    "    return posix_lustre_time_files.compute() / 1e6"
   ]
  },
  {
   "cell_type": "code",
   "execution_count": 28,
   "id": "588df74b",
   "metadata": {},
   "outputs": [
    {
     "data": {
      "text/plain": [
       "(                   dur\n",
       " name                  \n",
       " __lxstat      1.416893\n",
       " __xstat       0.314929\n",
       " __xstat64     0.001076\n",
       " access        0.023796\n",
       " chmod         1.043387\n",
       " chown         1.463341\n",
       " close            1.201\n",
       " fsync        10.568369\n",
       " ftruncate     0.015173\n",
       " lseek         0.000066\n",
       " mkdir         0.010559\n",
       " open         12.207076\n",
       " read          0.114711\n",
       " write      1032.015623,\n",
       " dur    1060.07277\n",
       " dtype: double[pyarrow])"
      ]
     },
     "execution_count": 28,
     "metadata": {},
     "output_type": "execute_result"
    }
   ],
   "source": [
    "scr_pfs_single_posix_lustre_df = get_posix_pfs(analyzer_scr_pfs_single)\n",
    "scr_pfs_single_posix_lustre_df.groupby([\"name\",\"pid\"]).agg({\"dur\":sum}).groupby(\"name\").max().compute() / 1e6, scr_pfs_single_posix_lustre_time"
   ]
  },
  {
   "cell_type": "code",
   "execution_count": 32,
   "id": "16a46436",
   "metadata": {},
   "outputs": [
    {
     "data": {
      "text/html": [
       "<div>\n",
       "<style scoped>\n",
       "    .dataframe tbody tr th:only-of-type {\n",
       "        vertical-align: middle;\n",
       "    }\n",
       "\n",
       "    .dataframe tbody tr th {\n",
       "        vertical-align: top;\n",
       "    }\n",
       "\n",
       "    .dataframe thead th {\n",
       "        text-align: right;\n",
       "    }\n",
       "</style>\n",
       "<table border=\"1\" class=\"dataframe\">\n",
       "  <thead>\n",
       "    <tr style=\"text-align: right;\">\n",
       "      <th></th>\n",
       "      <th>size</th>\n",
       "    </tr>\n",
       "    <tr>\n",
       "      <th>name</th>\n",
       "      <th></th>\n",
       "    </tr>\n",
       "  </thead>\n",
       "  <tbody>\n",
       "    <tr>\n",
       "      <th>mkdir</th>\n",
       "      <td>0.0</td>\n",
       "    </tr>\n",
       "    <tr>\n",
       "      <th>__xstat64</th>\n",
       "      <td>0.0</td>\n",
       "    </tr>\n",
       "    <tr>\n",
       "      <th>access</th>\n",
       "      <td>0.0</td>\n",
       "    </tr>\n",
       "    <tr>\n",
       "      <th>open</th>\n",
       "      <td>0.0</td>\n",
       "    </tr>\n",
       "    <tr>\n",
       "      <th>write</th>\n",
       "      <td>576.791053</td>\n",
       "    </tr>\n",
       "    <tr>\n",
       "      <th>fsync</th>\n",
       "      <td>0.0</td>\n",
       "    </tr>\n",
       "    <tr>\n",
       "      <th>close</th>\n",
       "      <td>0.0</td>\n",
       "    </tr>\n",
       "    <tr>\n",
       "      <th>read</th>\n",
       "      <td>0.000106</td>\n",
       "    </tr>\n",
       "    <tr>\n",
       "      <th>lseek</th>\n",
       "      <td>0.0</td>\n",
       "    </tr>\n",
       "    <tr>\n",
       "      <th>ftruncate</th>\n",
       "      <td>0.0</td>\n",
       "    </tr>\n",
       "    <tr>\n",
       "      <th>__xstat</th>\n",
       "      <td>0.0</td>\n",
       "    </tr>\n",
       "    <tr>\n",
       "      <th>__lxstat</th>\n",
       "      <td>0.0</td>\n",
       "    </tr>\n",
       "    <tr>\n",
       "      <th>chmod</th>\n",
       "      <td>0.0</td>\n",
       "    </tr>\n",
       "    <tr>\n",
       "      <th>chown</th>\n",
       "      <td>0.0</td>\n",
       "    </tr>\n",
       "  </tbody>\n",
       "</table>\n",
       "</div>"
      ],
      "text/plain": [
       "                 size\n",
       "name                 \n",
       "mkdir             0.0\n",
       "__xstat64         0.0\n",
       "access            0.0\n",
       "open              0.0\n",
       "write      576.791053\n",
       "fsync             0.0\n",
       "close             0.0\n",
       "read         0.000106\n",
       "lseek             0.0\n",
       "ftruncate         0.0\n",
       "__xstat           0.0\n",
       "__lxstat          0.0\n",
       "chmod             0.0\n",
       "chown             0.0"
      ]
     },
     "execution_count": 32,
     "metadata": {},
     "output_type": "execute_result"
    }
   ],
   "source": [
    "scr_pfs_single_posix_lustre_df.groupby([\"name\"]).agg({\"size\":sum}).compute() /1024 **3"
   ]
  },
  {
   "cell_type": "code",
   "execution_count": 33,
   "id": "01b9d45d",
   "metadata": {},
   "outputs": [
    {
     "data": {
      "text/html": [
       "<div>\n",
       "<style scoped>\n",
       "    .dataframe tbody tr th:only-of-type {\n",
       "        vertical-align: middle;\n",
       "    }\n",
       "\n",
       "    .dataframe tbody tr th {\n",
       "        vertical-align: top;\n",
       "    }\n",
       "\n",
       "    .dataframe thead th {\n",
       "        text-align: right;\n",
       "    }\n",
       "</style>\n",
       "<table border=\"1\" class=\"dataframe\">\n",
       "  <thead>\n",
       "    <tr style=\"text-align: right;\">\n",
       "      <th></th>\n",
       "      <th>size</th>\n",
       "    </tr>\n",
       "    <tr>\n",
       "      <th>name</th>\n",
       "      <th></th>\n",
       "    </tr>\n",
       "  </thead>\n",
       "  <tbody>\n",
       "    <tr>\n",
       "      <th>mkdir</th>\n",
       "      <td>0.0</td>\n",
       "    </tr>\n",
       "    <tr>\n",
       "      <th>__xstat64</th>\n",
       "      <td>0.0</td>\n",
       "    </tr>\n",
       "    <tr>\n",
       "      <th>open64</th>\n",
       "      <td>0.0</td>\n",
       "    </tr>\n",
       "    <tr>\n",
       "      <th>__fxstat64</th>\n",
       "      <td>0.0</td>\n",
       "    </tr>\n",
       "    <tr>\n",
       "      <th>lseek64</th>\n",
       "      <td>0.0</td>\n",
       "    </tr>\n",
       "    <tr>\n",
       "      <th>write</th>\n",
       "      <td>577.071714</td>\n",
       "    </tr>\n",
       "    <tr>\n",
       "      <th>close</th>\n",
       "      <td>0.0</td>\n",
       "    </tr>\n",
       "  </tbody>\n",
       "</table>\n",
       "</div>"
      ],
      "text/plain": [
       "                  size\n",
       "name                  \n",
       "mkdir              0.0\n",
       "__xstat64          0.0\n",
       "open64             0.0\n",
       "__fxstat64         0.0\n",
       "lseek64            0.0\n",
       "write       577.071714\n",
       "close              0.0"
      ]
     },
     "execution_count": 33,
     "metadata": {},
     "output_type": "execute_result"
    }
   ],
   "source": [
    "analyzer_base_pfs_posix_lustre_df = get_posix_pfs(analyzer_base_pfs)\n",
    "analyzer_base_pfs_posix_lustre_df.groupby([\"name\"]).agg({\"size\":sum}).compute() /1024 **3"
   ]
  },
  {
   "cell_type": "code",
   "execution_count": 34,
   "id": "431f19ea",
   "metadata": {},
   "outputs": [
    {
     "data": {
      "text/html": [
       "<div>\n",
       "<style scoped>\n",
       "    .dataframe tbody tr th:only-of-type {\n",
       "        vertical-align: middle;\n",
       "    }\n",
       "\n",
       "    .dataframe tbody tr th {\n",
       "        vertical-align: top;\n",
       "    }\n",
       "\n",
       "    .dataframe thead th {\n",
       "        text-align: right;\n",
       "    }\n",
       "</style>\n",
       "<table border=\"1\" class=\"dataframe\">\n",
       "  <thead>\n",
       "    <tr style=\"text-align: right;\">\n",
       "      <th></th>\n",
       "      <th>dur</th>\n",
       "    </tr>\n",
       "    <tr>\n",
       "      <th>name</th>\n",
       "      <th></th>\n",
       "    </tr>\n",
       "  </thead>\n",
       "  <tbody>\n",
       "    <tr>\n",
       "      <th>__fxstat64</th>\n",
       "      <td>0.156578</td>\n",
       "    </tr>\n",
       "    <tr>\n",
       "      <th>__xstat64</th>\n",
       "      <td>0.005139</td>\n",
       "    </tr>\n",
       "    <tr>\n",
       "      <th>close</th>\n",
       "      <td>0.179031</td>\n",
       "    </tr>\n",
       "    <tr>\n",
       "      <th>lseek64</th>\n",
       "      <td>0.000629</td>\n",
       "    </tr>\n",
       "    <tr>\n",
       "      <th>mkdir</th>\n",
       "      <td>0.005487</td>\n",
       "    </tr>\n",
       "    <tr>\n",
       "      <th>open64</th>\n",
       "      <td>2.708844</td>\n",
       "    </tr>\n",
       "    <tr>\n",
       "      <th>write</th>\n",
       "      <td>69.628272</td>\n",
       "    </tr>\n",
       "  </tbody>\n",
       "</table>\n",
       "</div>"
      ],
      "text/plain": [
       "                  dur\n",
       "name                 \n",
       "__fxstat64   0.156578\n",
       "__xstat64    0.005139\n",
       "close        0.179031\n",
       "lseek64      0.000629\n",
       "mkdir        0.005487\n",
       "open64       2.708844\n",
       "write       69.628272"
      ]
     },
     "execution_count": 34,
     "metadata": {},
     "output_type": "execute_result"
    }
   ],
   "source": [
    "analyzer_base_pfs_posix_lustre_df.groupby([\"name\",\"pid\"]).agg({\"dur\":sum}).groupby(\"name\").max().compute() / 1e6"
   ]
  },
  {
   "cell_type": "code",
   "execution_count": 41,
   "id": "13f9ae2a",
   "metadata": {},
   "outputs": [
    {
     "data": {
      "text/html": [
       "<div>\n",
       "<style scoped>\n",
       "    .dataframe tbody tr th:only-of-type {\n",
       "        vertical-align: middle;\n",
       "    }\n",
       "\n",
       "    .dataframe tbody tr th {\n",
       "        vertical-align: top;\n",
       "    }\n",
       "\n",
       "    .dataframe thead th {\n",
       "        text-align: right;\n",
       "    }\n",
       "</style>\n",
       "<table border=\"1\" class=\"dataframe\">\n",
       "  <thead>\n",
       "    <tr style=\"text-align: right;\">\n",
       "      <th></th>\n",
       "      <th>size</th>\n",
       "    </tr>\n",
       "    <tr>\n",
       "      <th>name</th>\n",
       "      <th></th>\n",
       "    </tr>\n",
       "  </thead>\n",
       "  <tbody>\n",
       "    <tr>\n",
       "      <th>__fxstat64</th>\n",
       "      <td>&lt;NA&gt;</td>\n",
       "    </tr>\n",
       "    <tr>\n",
       "      <th>__xstat64</th>\n",
       "      <td>&lt;NA&gt;</td>\n",
       "    </tr>\n",
       "    <tr>\n",
       "      <th>close</th>\n",
       "      <td>&lt;NA&gt;</td>\n",
       "    </tr>\n",
       "    <tr>\n",
       "      <th>lseek64</th>\n",
       "      <td>&lt;NA&gt;</td>\n",
       "    </tr>\n",
       "    <tr>\n",
       "      <th>mkdir</th>\n",
       "      <td>&lt;NA&gt;</td>\n",
       "    </tr>\n",
       "    <tr>\n",
       "      <th>open64</th>\n",
       "      <td>&lt;NA&gt;</td>\n",
       "    </tr>\n",
       "    <tr>\n",
       "      <th>write</th>\n",
       "      <td>0.000671</td>\n",
       "    </tr>\n",
       "  </tbody>\n",
       "</table>\n",
       "</div>"
      ],
      "text/plain": [
       "                size\n",
       "name                \n",
       "__fxstat64      <NA>\n",
       "__xstat64       <NA>\n",
       "close           <NA>\n",
       "lseek64         <NA>\n",
       "mkdir           <NA>\n",
       "open64          <NA>\n",
       "write       0.000671"
      ]
     },
     "execution_count": 41,
     "metadata": {},
     "output_type": "execute_result"
    }
   ],
   "source": [
    "analyzer_base_pfs_posix_lustre_df.compute().groupby([\"name\"]).agg({\"size\": \"median\"}) / 1024 **2"
   ]
  },
  {
   "cell_type": "code",
   "execution_count": 45,
   "id": "e0891998",
   "metadata": {},
   "outputs": [
    {
     "data": {
      "text/plain": [
       "count            18936.0\n",
       "mean     32706203.922634\n",
       "std       4315202.438485\n",
       "min                 28.0\n",
       "25%           33554432.0\n",
       "50%           33554432.0\n",
       "75%           33554432.0\n",
       "max           33554432.0\n",
       "Name: size, dtype: double[pyarrow]"
      ]
     },
     "execution_count": 45,
     "metadata": {},
     "output_type": "execute_result"
    }
   ],
   "source": [
    "scr_pfs_single_posix_lustre_df.compute().query(\"name == 'write'\")[\"size\"].describe()"
   ]
  },
  {
   "cell_type": "code",
   "execution_count": 46,
   "id": "21e326ce",
   "metadata": {},
   "outputs": [
    {
     "data": {
      "text/plain": [
       "count              3792.0\n",
       "mean     163403490.240506\n",
       "std      392716773.891337\n",
       "min                  64.0\n",
       "25%                 384.0\n",
       "50%                 704.0\n",
       "75%           129761280.0\n",
       "max          1875123200.0\n",
       "Name: size, dtype: double[pyarrow]"
      ]
     },
     "execution_count": 46,
     "metadata": {},
     "output_type": "execute_result"
    }
   ],
   "source": [
    "analyzer_base_pfs_posix_lustre_df.compute().query(\"name == 'write'\")[\"size\"].describe()"
   ]
  },
  {
   "cell_type": "code",
   "execution_count": null,
   "id": "b8614387",
   "metadata": {},
   "outputs": [],
   "source": []
  }
 ],
 "metadata": {
  "kernelspec": {
   "display_name": "venv",
   "language": "python",
   "name": "python3"
  },
  "language_info": {
   "codemirror_mode": {
    "name": "ipython",
    "version": 3
   },
   "file_extension": ".py",
   "mimetype": "text/x-python",
   "name": "python",
   "nbconvert_exporter": "python",
   "pygments_lexer": "ipython3",
   "version": "3.9.12"
  }
 },
 "nbformat": 4,
 "nbformat_minor": 5
}
