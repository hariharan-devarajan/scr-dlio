{
 "cells": [
  {
   "cell_type": "code",
   "execution_count": 1,
   "id": "ffad981a",
   "metadata": {},
   "outputs": [],
   "source": [
    "import json\n",
    "import os\n",
    "import yaml\n",
    "from pathlib import Path\n",
    "from dask.distributed import Client"
   ]
  },
  {
   "cell_type": "code",
   "execution_count": 2,
   "id": "a0dc2087",
   "metadata": {},
   "outputs": [],
   "source": [
    "use_local=True"
   ]
  },
  {
   "cell_type": "code",
   "execution_count": 3,
   "id": "02b5e92c",
   "metadata": {},
   "outputs": [],
   "source": [
    "if not use_local:\n",
    "    with open(f'~/.dlio_profiler/configuration.yaml', 'r') as file:\n",
    "        dlp_yaml = yaml.safe_load(file)\n",
    "        app_root = dlp_yaml[\"app\"]\n",
    "else:\n",
    "    app_root = str(Path(os.getcwd()).parent.parent)"
   ]
  },
  {
   "cell_type": "code",
   "execution_count": 4,
   "id": "af5ecd2b",
   "metadata": {},
   "outputs": [
    {
     "data": {
      "text/plain": [
       "['/usr/WS2/haridev',\n",
       " '/usr/WS2/haridev/scr-dlio/examples',\n",
       " '/usr/workspace/iopp/projects/digio',\n",
       " '/collab/usr/gapps/python/build/spack-toss4.1/var/spack/environments/python/._view/75prb56irmif5ejtirjthpx6kq3gqo52/lib/python39.zip',\n",
       " '/collab/usr/gapps/python/build/spack-toss4.1/var/spack/environments/python/._view/75prb56irmif5ejtirjthpx6kq3gqo52/lib/python3.9',\n",
       " '/collab/usr/gapps/python/build/spack-toss4.1/var/spack/environments/python/._view/75prb56irmif5ejtirjthpx6kq3gqo52/lib/python3.9/lib-dynload',\n",
       " '',\n",
       " '/usr/workspace/haridev/scr-dlio/venv/lib/python3.9/site-packages']"
      ]
     },
     "execution_count": 4,
     "metadata": {},
     "output_type": "execute_result"
    }
   ],
   "source": [
    "import sys\n",
    "sys.path.insert(0, app_root)\n",
    "sys.path"
   ]
  },
  {
   "cell_type": "code",
   "execution_count": 5,
   "id": "91cf1a4d",
   "metadata": {},
   "outputs": [
    {
     "name": "stdout",
     "output_type": "stream",
     "text": [
      "/usr/workspace/haridev/scr-dlio/venv/lib/python3.9/site-packages/dlp_analyzer/__init__.py\n"
     ]
    }
   ],
   "source": [
    "import dlp_analyzer\n",
    "print(dlp_analyzer.__file__)\n",
    "from dlp_analyzer.main import DLPAnalyzer,get_dlp_configuration,update_dlp_configuration,setup_logging,setup_dask_cluster, reset_dask_cluster, get_dlp_configuration\n"
   ]
  },
  {
   "cell_type": "code",
   "execution_count": 6,
   "id": "60ed3530",
   "metadata": {},
   "outputs": [],
   "source": [
    "if not use_local:\n",
    "    dask_run_dir = os.path.join(app_root, \"dlp_analyzer\", \"dask\", \"run_dir\")\n",
    "    with open (os.path.join(dask_run_dir, f\"scheduler_{os.getenv('USER')}.json\"), \"r\") as f:\n",
    "        dask_scheduler = json.load(f)[\"address\"]\n",
    "else:\n",
    "    dask_scheduler = None"
   ]
  },
  {
   "cell_type": "code",
   "execution_count": 7,
   "id": "eecb0bb3",
   "metadata": {},
   "outputs": [],
   "source": [
    "app_name = \"dlio_scr\" # dlio dlio_scr"
   ]
  },
  {
   "cell_type": "code",
   "execution_count": 8,
   "id": "dc01ef48",
   "metadata": {},
   "outputs": [],
   "source": [
    "def get_conditions(json_object):\n",
    "    app_io_cond = \"reader\" in json_object[\"cat\"] or \"checkpoint\" in json_object[\"cat\"]\n",
    "    compute_cond = \"compute\" in json_object[\"name\"] # Cosmoflow\n",
    "    io_cond = \"POSIX\" == json_object[\"cat\"] # Cosmoflow\n",
    "    return app_io_cond, compute_cond, io_cond"
   ]
  },
  {
   "cell_type": "code",
   "execution_count": 9,
   "id": "a6bd0f01",
   "metadata": {},
   "outputs": [],
   "source": [
    "condition_fn = None #\n",
    "if app_name == \"dlio\":\n",
    "    filename = \"/g/g92/haridev/projects/scr-dlio/logs/n2_p8_base/trace*.pfw.gz\"\n",
    "    condition_fn = get_conditions\n",
    "elif app_name == \"dlio_scr\":\n",
    "    filename = \"/g/g92/haridev/projects/scr-dlio/logs/n2_p8_scr/trace*.pfw.gz\"\n",
    "    filename = \"/g/g92/haridev/projects/scr-dlio/logs/n2_p8_scr_finer/trace*.pfw.gz\"\n",
    "    condition_fn = get_conditions"
   ]
  },
  {
   "cell_type": "code",
   "execution_count": 10,
   "id": "40f2054c",
   "metadata": {},
   "outputs": [],
   "source": [
    "conf = update_dlp_configuration(dask_scheduler=dask_scheduler, verbose=True, workers=64,\n",
    "                                log_file=f\"./dlp_{os.getenv('USER')}.log\", rebuild_index=False, time_approximate=True, \n",
    "                                host_pattern=r'lassen(\\d+)', time_granularity=30e6, skip_hostname=True, conditions=condition_fn)"
   ]
  },
  {
   "cell_type": "code",
   "execution_count": 11,
   "id": "7c6ccc4d",
   "metadata": {},
   "outputs": [],
   "source": [
    "setup_logging()"
   ]
  },
  {
   "cell_type": "code",
   "execution_count": 12,
   "id": "8ca94e69",
   "metadata": {},
   "outputs": [
    {
     "name": "stderr",
     "output_type": "stream",
     "text": [
      "[INFO] [22:10:25] Initialized Client with 64 workers and link http://127.0.0.1:8787/status [/usr/workspace/haridev/scr-dlio/venv/lib/python3.9/site-packages/dlp_analyzer/main.py:668]\n"
     ]
    }
   ],
   "source": [
    "setup_dask_cluster()"
   ]
  },
  {
   "cell_type": "code",
   "execution_count": 13,
   "id": "da0f46a2",
   "metadata": {},
   "outputs": [
    {
     "name": "stderr",
     "output_type": "stream",
     "text": [
      "[INFO] [22:10:26] Created index for 16 files [/usr/workspace/haridev/scr-dlio/venv/lib/python3.9/site-packages/dlp_analyzer/main.py:365]\n",
      "[INFO] [22:10:26] Total size of all files are <dask.bag.core.Item object at 0x1554a9b1f4f0> bytes [/usr/workspace/haridev/scr-dlio/venv/lib/python3.9/site-packages/dlp_analyzer/main.py:367]\n",
      "[INFO] [22:10:28] Loading 9132 batches out of 16 files and has 149432067 lines overall [/usr/workspace/haridev/scr-dlio/venv/lib/python3.9/site-packages/dlp_analyzer/main.py:380]\n",
      "[INFO] [22:14:36] Loaded events [/usr/workspace/haridev/scr-dlio/venv/lib/python3.9/site-packages/dlp_analyzer/main.py:422]\n",
      "[INFO] [22:14:36] Loaded plots with slope threshold: 45 [/usr/workspace/haridev/scr-dlio/venv/lib/python3.9/site-packages/dlp_analyzer/main.py:428]\n"
     ]
    }
   ],
   "source": [
    "analyzer = DLPAnalyzer(filename)"
   ]
  },
  {
   "cell_type": "code",
   "execution_count": 14,
   "id": "dfe71a11",
   "metadata": {},
   "outputs": [
    {
     "name": "stderr",
     "output_type": "stream",
     "text": [
      "[INFO] [22:00:42] Total number of events in the workload are 149432035 [/usr/workspace/haridev/scr-dlio/venv/lib/python3.9/site-packages/dlp_analyzer/main.py:520]\n",
      "[INFO] [22:00:46] Approximate True 1563728774, 1015223244.0, 19695081.0, 2740876489.0,                995528163.0, 0.0, 2721181408.0, 0.0 [/usr/workspace/haridev/scr-dlio/venv/lib/python3.9/site-packages/dlp_analyzer/main.py:474]\n"
     ]
    },
    {
     "data": {
      "text/html": [
       "<pre style=\"white-space:pre;overflow-x:auto;line-height:normal;font-family:Menlo,'DejaVu Sans Mono',consolas,'Courier New',monospace\">╭──────────────────────────────────────────────────── Summary ────────────────────────────────────────────────────╮\n",
       "│ <span style=\"color: #008080; text-decoration-color: #008080\"> Allocation   </span> Scheduler Allocation Details                                                                     │\n",
       "│ <span style=\"color: #008080; text-decoration-color: #008080\">              </span> ├── Nodes: 2                                                                                     │\n",
       "│ <span style=\"color: #008080; text-decoration-color: #008080\">              </span> ├── Processes: 16                                                                                │\n",
       "│ <span style=\"color: #008080; text-decoration-color: #008080\">              </span> ├── Thread allocations across nodes (includes dynamically created threads)                       │\n",
       "│ <span style=\"color: #008080; text-decoration-color: #008080\">              </span> │   ├── Compute: 16                                                                              │\n",
       "│ <span style=\"color: #008080; text-decoration-color: #008080\">              </span> │   └── I/O: 298                                                                                 │\n",
       "│ <span style=\"color: #008080; text-decoration-color: #008080\">              </span> └── Events Recorded: 149M                                                                        │\n",
       "│ <span style=\"color: #008080; text-decoration-color: #008080\"> Dataset      </span> Description of Dataset Used                                                                      │\n",
       "│ <span style=\"color: #008080; text-decoration-color: #008080\">              </span> └── Files: 2207                                                                                  │\n",
       "│ <span style=\"color: #008080; text-decoration-color: #008080\"> I/O Behavior </span> Behavior of Application                                                                          │\n",
       "│ <span style=\"color: #008080; text-decoration-color: #008080\">              </span> ├── Split of Time in application                                                                 │\n",
       "│ <span style=\"color: #008080; text-decoration-color: #008080\">              </span> │   ├── Total Time: 1563.729 sec                                                                 │\n",
       "│ <span style=\"color: #008080; text-decoration-color: #008080\">              </span> │   ├── Overall App Level I/O: 2740.876 sec                                                      │\n",
       "│ <span style=\"color: #008080; text-decoration-color: #008080\">              </span> │   ├── Unoverlapped App I/O: 2721.181 sec                                                       │\n",
       "│ <span style=\"color: #008080; text-decoration-color: #008080\">              </span> │   ├── Compute: 19.695 sec                                                                      │\n",
       "│ <span style=\"color: #008080; text-decoration-color: #008080\">              </span> │   └── Overall I/O: 1015.223 sec                                                                │\n",
       "│ <span style=\"color: #008080; text-decoration-color: #008080\">              </span> └── Metrics by function                                                                          │\n",
       "│ <span style=\"color: #008080; text-decoration-color: #008080\">              </span>     ├── Function       |count |                  size                   |                        │\n",
       "│ <span style=\"color: #008080; text-decoration-color: #008080\">              </span>     ├──                |      |min   |25    |mean  |median|75    |max   |                        │\n",
       "│ <span style=\"color: #008080; text-decoration-color: #008080\">              </span>     ├── opendir        |32    |NA    |nan   |nan   |NA    |nan   |NA    |                        │\n",
       "│ <span style=\"color: #008080; text-decoration-color: #008080\">              </span>     ├── __xstat64      |48    |NA    |nan   |nan   |NA    |nan   |NA    |                        │\n",
       "│ <span style=\"color: #008080; text-decoration-color: #008080\">              </span>     ├── mkdir          |64    |NA    |nan   |nan   |NA    |nan   |NA    |                        │\n",
       "│ <span style=\"color: #008080; text-decoration-color: #008080\">              </span>     ├── access         |3K    |NA    |nan   |nan   |NA    |nan   |NA    |                        │\n",
       "│ <span style=\"color: #008080; text-decoration-color: #008080\">              </span>     ├── open           |4K    |NA    |nan   |nan   |NA    |nan   |NA    |                        │\n",
       "│ <span style=\"color: #008080; text-decoration-color: #008080\">              </span>     ├── write          |717K  |28    |1MB   |3MB   |1MB   |15MB  |2GB   |                        │\n",
       "│ <span style=\"color: #008080; text-decoration-color: #008080\">              </span>     ├── fsync          |4K    |NA    |nan   |nan   |NA    |nan   |NA    |                        │\n",
       "│ <span style=\"color: #008080; text-decoration-color: #008080\">              </span>     ├── close          |10M   |NA    |nan   |nan   |NA    |nan   |NA    |                        │\n",
       "│ <span style=\"color: #008080; text-decoration-color: #008080\">              </span>     ├── read           |714K  |NA    |1MB   |2MB   |1MB   |15MB  |80MB  |                        │\n",
       "│ <span style=\"color: #008080; text-decoration-color: #008080\">              </span>     ├── lseek          |927K  |NA    |nan   |nan   |NA    |nan   |NA    |                        │\n",
       "│ <span style=\"color: #008080; text-decoration-color: #008080\">              </span>     ├── ftruncate      |8     |NA    |nan   |nan   |NA    |nan   |NA    |                        │\n",
       "│ <span style=\"color: #008080; text-decoration-color: #008080\">              </span>     ├── __xstat        |5K    |NA    |nan   |nan   |NA    |nan   |NA    |                        │\n",
       "│ <span style=\"color: #008080; text-decoration-color: #008080\">              </span>     ├── __lxstat       |2K    |NA    |nan   |nan   |NA    |nan   |NA    |                        │\n",
       "│ <span style=\"color: #008080; text-decoration-color: #008080\">              </span>     ├── chmod          |840   |NA    |nan   |nan   |NA    |nan   |NA    |                        │\n",
       "│ <span style=\"color: #008080; text-decoration-color: #008080\">              </span>     ├── chown          |840   |NA    |nan   |nan   |NA    |nan   |NA    |                        │\n",
       "│ <span style=\"color: #008080; text-decoration-color: #008080\">              </span>     ├── open64         |10M   |NA    |nan   |nan   |NA    |nan   |NA    |                        │\n",
       "│ <span style=\"color: #008080; text-decoration-color: #008080\">              </span>     ├── __fxstat64     |21M   |NA    |nan   |nan   |NA    |nan   |NA    |                        │\n",
       "│ <span style=\"color: #008080; text-decoration-color: #008080\">              </span>     ├── lseek64        |32M   |NA    |nan   |nan   |NA    |nan   |NA    |                        │\n",
       "│ <span style=\"color: #008080; text-decoration-color: #008080\">              </span>     ├── mmap64         |10M   |NA    |nan   |nan   |NA    |nan   |NA    |                        │\n",
       "│ <span style=\"color: #008080; text-decoration-color: #008080\">              </span>     └── umask          |18    |NA    |nan   |nan   |NA    |nan   |NA    |                        │\n",
       "╰─────────────────────────────────────────────────────────────────────────────────────────────────────────────────╯\n",
       "</pre>\n"
      ],
      "text/plain": [
       "╭──────────────────────────────────────────────────── Summary ────────────────────────────────────────────────────╮\n",
       "│ \u001b[36m \u001b[0m\u001b[36mAllocation  \u001b[0m\u001b[36m \u001b[0m Scheduler Allocation Details                                                                     │\n",
       "│ \u001b[36m              \u001b[0m ├── Nodes: 2                                                                                     │\n",
       "│ \u001b[36m              \u001b[0m ├── Processes: 16                                                                                │\n",
       "│ \u001b[36m              \u001b[0m ├── Thread allocations across nodes (includes dynamically created threads)                       │\n",
       "│ \u001b[36m              \u001b[0m │   ├── Compute: 16                                                                              │\n",
       "│ \u001b[36m              \u001b[0m │   └── I/O: 298                                                                                 │\n",
       "│ \u001b[36m              \u001b[0m └── Events Recorded: 149M                                                                        │\n",
       "│ \u001b[36m \u001b[0m\u001b[36mDataset     \u001b[0m\u001b[36m \u001b[0m Description of Dataset Used                                                                      │\n",
       "│ \u001b[36m              \u001b[0m └── Files: 2207                                                                                  │\n",
       "│ \u001b[36m \u001b[0m\u001b[36mI/O Behavior\u001b[0m\u001b[36m \u001b[0m Behavior of Application                                                                          │\n",
       "│ \u001b[36m              \u001b[0m ├── Split of Time in application                                                                 │\n",
       "│ \u001b[36m              \u001b[0m │   ├── Total Time: 1563.729 sec                                                                 │\n",
       "│ \u001b[36m              \u001b[0m │   ├── Overall App Level I/O: 2740.876 sec                                                      │\n",
       "│ \u001b[36m              \u001b[0m │   ├── Unoverlapped App I/O: 2721.181 sec                                                       │\n",
       "│ \u001b[36m              \u001b[0m │   ├── Compute: 19.695 sec                                                                      │\n",
       "│ \u001b[36m              \u001b[0m │   └── Overall I/O: 1015.223 sec                                                                │\n",
       "│ \u001b[36m              \u001b[0m └── Metrics by function                                                                          │\n",
       "│ \u001b[36m              \u001b[0m     ├── Function       |count |                  size                   |                        │\n",
       "│ \u001b[36m              \u001b[0m     ├──                |      |min   |25    |mean  |median|75    |max   |                        │\n",
       "│ \u001b[36m              \u001b[0m     ├── opendir        |32    |NA    |nan   |nan   |NA    |nan   |NA    |                        │\n",
       "│ \u001b[36m              \u001b[0m     ├── __xstat64      |48    |NA    |nan   |nan   |NA    |nan   |NA    |                        │\n",
       "│ \u001b[36m              \u001b[0m     ├── mkdir          |64    |NA    |nan   |nan   |NA    |nan   |NA    |                        │\n",
       "│ \u001b[36m              \u001b[0m     ├── access         |3K    |NA    |nan   |nan   |NA    |nan   |NA    |                        │\n",
       "│ \u001b[36m              \u001b[0m     ├── open           |4K    |NA    |nan   |nan   |NA    |nan   |NA    |                        │\n",
       "│ \u001b[36m              \u001b[0m     ├── write          |717K  |28    |1MB   |3MB   |1MB   |15MB  |2GB   |                        │\n",
       "│ \u001b[36m              \u001b[0m     ├── fsync          |4K    |NA    |nan   |nan   |NA    |nan   |NA    |                        │\n",
       "│ \u001b[36m              \u001b[0m     ├── close          |10M   |NA    |nan   |nan   |NA    |nan   |NA    |                        │\n",
       "│ \u001b[36m              \u001b[0m     ├── read           |714K  |NA    |1MB   |2MB   |1MB   |15MB  |80MB  |                        │\n",
       "│ \u001b[36m              \u001b[0m     ├── lseek          |927K  |NA    |nan   |nan   |NA    |nan   |NA    |                        │\n",
       "│ \u001b[36m              \u001b[0m     ├── ftruncate      |8     |NA    |nan   |nan   |NA    |nan   |NA    |                        │\n",
       "│ \u001b[36m              \u001b[0m     ├── __xstat        |5K    |NA    |nan   |nan   |NA    |nan   |NA    |                        │\n",
       "│ \u001b[36m              \u001b[0m     ├── __lxstat       |2K    |NA    |nan   |nan   |NA    |nan   |NA    |                        │\n",
       "│ \u001b[36m              \u001b[0m     ├── chmod          |840   |NA    |nan   |nan   |NA    |nan   |NA    |                        │\n",
       "│ \u001b[36m              \u001b[0m     ├── chown          |840   |NA    |nan   |nan   |NA    |nan   |NA    |                        │\n",
       "│ \u001b[36m              \u001b[0m     ├── open64         |10M   |NA    |nan   |nan   |NA    |nan   |NA    |                        │\n",
       "│ \u001b[36m              \u001b[0m     ├── __fxstat64     |21M   |NA    |nan   |nan   |NA    |nan   |NA    |                        │\n",
       "│ \u001b[36m              \u001b[0m     ├── lseek64        |32M   |NA    |nan   |nan   |NA    |nan   |NA    |                        │\n",
       "│ \u001b[36m              \u001b[0m     ├── mmap64         |10M   |NA    |nan   |nan   |NA    |nan   |NA    |                        │\n",
       "│ \u001b[36m              \u001b[0m     └── umask          |18    |NA    |nan   |nan   |NA    |nan   |NA    |                        │\n",
       "╰─────────────────────────────────────────────────────────────────────────────────────────────────────────────────╯\n"
      ]
     },
     "metadata": {},
     "output_type": "display_data"
    }
   ],
   "source": [
    "items = analyzer.summary()\n",
    "items"
   ]
  },
  {
   "cell_type": "code",
   "execution_count": 15,
   "id": "99b33edc",
   "metadata": {},
   "outputs": [
    {
     "data": {
      "text/html": [
       "<div>\n",
       "<style scoped>\n",
       "    .dataframe tbody tr th:only-of-type {\n",
       "        vertical-align: middle;\n",
       "    }\n",
       "\n",
       "    .dataframe tbody tr th {\n",
       "        vertical-align: top;\n",
       "    }\n",
       "\n",
       "    .dataframe thead th {\n",
       "        text-align: right;\n",
       "    }\n",
       "</style>\n",
       "<table border=\"1\" class=\"dataframe\">\n",
       "  <thead>\n",
       "    <tr style=\"text-align: right;\">\n",
       "      <th></th>\n",
       "      <th>name</th>\n",
       "      <th>cat</th>\n",
       "      <th>pid</th>\n",
       "      <th>tid</th>\n",
       "      <th>ts</th>\n",
       "      <th>te</th>\n",
       "      <th>dur</th>\n",
       "      <th>tinterval</th>\n",
       "      <th>trange</th>\n",
       "      <th>hostname</th>\n",
       "      <th>compute_time</th>\n",
       "      <th>io_time</th>\n",
       "      <th>app_io_time</th>\n",
       "      <th>total_time</th>\n",
       "      <th>filename</th>\n",
       "      <th>phase</th>\n",
       "      <th>size</th>\n",
       "    </tr>\n",
       "  </thead>\n",
       "  <tbody>\n",
       "    <tr>\n",
       "      <th>12252</th>\n",
       "      <td>checkpoint_start_1_100</td>\n",
       "      <td>checkpoint</td>\n",
       "      <td>0</td>\n",
       "      <td>2363474</td>\n",
       "      <td>345336825</td>\n",
       "      <td>345341531</td>\n",
       "      <td>4706</td>\n",
       "      <td>&lt;NA&gt;</td>\n",
       "      <td>11.0</td>\n",
       "      <td>corona171</td>\n",
       "      <td>&lt;NA&gt;</td>\n",
       "      <td>&lt;NA&gt;</td>\n",
       "      <td>4706</td>\n",
       "      <td>4706</td>\n",
       "      <td>&lt;NA&gt;</td>\n",
       "      <td>3</td>\n",
       "      <td>&lt;NA&gt;</td>\n",
       "    </tr>\n",
       "    <tr>\n",
       "      <th>3112</th>\n",
       "      <td>checkpoint_end_1_100</td>\n",
       "      <td>checkpoint</td>\n",
       "      <td>0</td>\n",
       "      <td>2363474</td>\n",
       "      <td>368831508</td>\n",
       "      <td>401679869</td>\n",
       "      <td>32848361</td>\n",
       "      <td>&lt;NA&gt;</td>\n",
       "      <td>12.0</td>\n",
       "      <td>corona171</td>\n",
       "      <td>&lt;NA&gt;</td>\n",
       "      <td>&lt;NA&gt;</td>\n",
       "      <td>32848361</td>\n",
       "      <td>32848361</td>\n",
       "      <td>&lt;NA&gt;</td>\n",
       "      <td>3</td>\n",
       "      <td>&lt;NA&gt;</td>\n",
       "    </tr>\n",
       "    <tr>\n",
       "      <th>3113</th>\n",
       "      <td>SCRPyTorchCheckpointing.checkpoint</td>\n",
       "      <td>checkpoint</td>\n",
       "      <td>0</td>\n",
       "      <td>2363474</td>\n",
       "      <td>345336790</td>\n",
       "      <td>401679961</td>\n",
       "      <td>56343171</td>\n",
       "      <td>&lt;NA&gt;</td>\n",
       "      <td>11.0</td>\n",
       "      <td>corona171</td>\n",
       "      <td>&lt;NA&gt;</td>\n",
       "      <td>&lt;NA&gt;</td>\n",
       "      <td>56343171</td>\n",
       "      <td>56343171</td>\n",
       "      <td>&lt;NA&gt;</td>\n",
       "      <td>3</td>\n",
       "      <td>&lt;NA&gt;</td>\n",
       "    </tr>\n",
       "    <tr>\n",
       "      <th>1292</th>\n",
       "      <td>checkpoint_start_1_200</td>\n",
       "      <td>checkpoint</td>\n",
       "      <td>0</td>\n",
       "      <td>2363474</td>\n",
       "      <td>553776958</td>\n",
       "      <td>553809392</td>\n",
       "      <td>32434</td>\n",
       "      <td>&lt;NA&gt;</td>\n",
       "      <td>18.0</td>\n",
       "      <td>corona171</td>\n",
       "      <td>&lt;NA&gt;</td>\n",
       "      <td>&lt;NA&gt;</td>\n",
       "      <td>32434</td>\n",
       "      <td>32434</td>\n",
       "      <td>&lt;NA&gt;</td>\n",
       "      <td>3</td>\n",
       "      <td>&lt;NA&gt;</td>\n",
       "    </tr>\n",
       "    <tr>\n",
       "      <th>11938</th>\n",
       "      <td>checkpoint_end_1_200</td>\n",
       "      <td>checkpoint</td>\n",
       "      <td>0</td>\n",
       "      <td>2363474</td>\n",
       "      <td>577214697</td>\n",
       "      <td>612213782</td>\n",
       "      <td>34999085</td>\n",
       "      <td>&lt;NA&gt;</td>\n",
       "      <td>19.0</td>\n",
       "      <td>corona171</td>\n",
       "      <td>&lt;NA&gt;</td>\n",
       "      <td>&lt;NA&gt;</td>\n",
       "      <td>34999085</td>\n",
       "      <td>34999085</td>\n",
       "      <td>&lt;NA&gt;</td>\n",
       "      <td>3</td>\n",
       "      <td>&lt;NA&gt;</td>\n",
       "    </tr>\n",
       "    <tr>\n",
       "      <th>...</th>\n",
       "      <td>...</td>\n",
       "      <td>...</td>\n",
       "      <td>...</td>\n",
       "      <td>...</td>\n",
       "      <td>...</td>\n",
       "      <td>...</td>\n",
       "      <td>...</td>\n",
       "      <td>...</td>\n",
       "      <td>...</td>\n",
       "      <td>...</td>\n",
       "      <td>...</td>\n",
       "      <td>...</td>\n",
       "      <td>...</td>\n",
       "      <td>...</td>\n",
       "      <td>...</td>\n",
       "      <td>...</td>\n",
       "      <td>...</td>\n",
       "    </tr>\n",
       "    <tr>\n",
       "      <th>12202</th>\n",
       "      <td>checkpoint_end_1_500</td>\n",
       "      <td>checkpoint</td>\n",
       "      <td>9</td>\n",
       "      <td>1883505</td>\n",
       "      <td>1212240498</td>\n",
       "      <td>1266736860</td>\n",
       "      <td>54496362</td>\n",
       "      <td>&lt;NA&gt;</td>\n",
       "      <td>40.0</td>\n",
       "      <td>corona173</td>\n",
       "      <td>&lt;NA&gt;</td>\n",
       "      <td>&lt;NA&gt;</td>\n",
       "      <td>54496362</td>\n",
       "      <td>54496362</td>\n",
       "      <td>&lt;NA&gt;</td>\n",
       "      <td>3</td>\n",
       "      <td>&lt;NA&gt;</td>\n",
       "    </tr>\n",
       "    <tr>\n",
       "      <th>12203</th>\n",
       "      <td>SCRPyTorchCheckpointing.checkpoint</td>\n",
       "      <td>checkpoint</td>\n",
       "      <td>9</td>\n",
       "      <td>1883505</td>\n",
       "      <td>1198878023</td>\n",
       "      <td>1266736974</td>\n",
       "      <td>67858951</td>\n",
       "      <td>&lt;NA&gt;</td>\n",
       "      <td>39.0</td>\n",
       "      <td>corona173</td>\n",
       "      <td>&lt;NA&gt;</td>\n",
       "      <td>&lt;NA&gt;</td>\n",
       "      <td>67858951</td>\n",
       "      <td>67858951</td>\n",
       "      <td>&lt;NA&gt;</td>\n",
       "      <td>3</td>\n",
       "      <td>&lt;NA&gt;</td>\n",
       "    </tr>\n",
       "    <tr>\n",
       "      <th>9355</th>\n",
       "      <td>checkpoint_start_1_600</td>\n",
       "      <td>checkpoint</td>\n",
       "      <td>9</td>\n",
       "      <td>1883505</td>\n",
       "      <td>1419930384</td>\n",
       "      <td>1419953645</td>\n",
       "      <td>23261</td>\n",
       "      <td>&lt;NA&gt;</td>\n",
       "      <td>47.0</td>\n",
       "      <td>corona173</td>\n",
       "      <td>&lt;NA&gt;</td>\n",
       "      <td>&lt;NA&gt;</td>\n",
       "      <td>23261</td>\n",
       "      <td>23261</td>\n",
       "      <td>&lt;NA&gt;</td>\n",
       "      <td>3</td>\n",
       "      <td>&lt;NA&gt;</td>\n",
       "    </tr>\n",
       "    <tr>\n",
       "      <th>4584</th>\n",
       "      <td>checkpoint_end_1_600</td>\n",
       "      <td>checkpoint</td>\n",
       "      <td>9</td>\n",
       "      <td>1883505</td>\n",
       "      <td>1433499678</td>\n",
       "      <td>1487615505</td>\n",
       "      <td>54115827</td>\n",
       "      <td>&lt;NA&gt;</td>\n",
       "      <td>47.0</td>\n",
       "      <td>corona173</td>\n",
       "      <td>&lt;NA&gt;</td>\n",
       "      <td>&lt;NA&gt;</td>\n",
       "      <td>54115827</td>\n",
       "      <td>54115827</td>\n",
       "      <td>&lt;NA&gt;</td>\n",
       "      <td>3</td>\n",
       "      <td>&lt;NA&gt;</td>\n",
       "    </tr>\n",
       "    <tr>\n",
       "      <th>4585</th>\n",
       "      <td>SCRPyTorchCheckpointing.checkpoint</td>\n",
       "      <td>checkpoint</td>\n",
       "      <td>9</td>\n",
       "      <td>1883505</td>\n",
       "      <td>1419930366</td>\n",
       "      <td>1487615613</td>\n",
       "      <td>67685247</td>\n",
       "      <td>&lt;NA&gt;</td>\n",
       "      <td>47.0</td>\n",
       "      <td>corona173</td>\n",
       "      <td>&lt;NA&gt;</td>\n",
       "      <td>&lt;NA&gt;</td>\n",
       "      <td>67685247</td>\n",
       "      <td>67685247</td>\n",
       "      <td>&lt;NA&gt;</td>\n",
       "      <td>3</td>\n",
       "      <td>&lt;NA&gt;</td>\n",
       "    </tr>\n",
       "  </tbody>\n",
       "</table>\n",
       "<p>288 rows × 17 columns</p>\n",
       "</div>"
      ],
      "text/plain": [
       "                                     name         cat  pid      tid  \\\n",
       "12252              checkpoint_start_1_100  checkpoint    0  2363474   \n",
       "3112                 checkpoint_end_1_100  checkpoint    0  2363474   \n",
       "3113   SCRPyTorchCheckpointing.checkpoint  checkpoint    0  2363474   \n",
       "1292               checkpoint_start_1_200  checkpoint    0  2363474   \n",
       "11938                checkpoint_end_1_200  checkpoint    0  2363474   \n",
       "...                                   ...         ...  ...      ...   \n",
       "12202                checkpoint_end_1_500  checkpoint    9  1883505   \n",
       "12203  SCRPyTorchCheckpointing.checkpoint  checkpoint    9  1883505   \n",
       "9355               checkpoint_start_1_600  checkpoint    9  1883505   \n",
       "4584                 checkpoint_end_1_600  checkpoint    9  1883505   \n",
       "4585   SCRPyTorchCheckpointing.checkpoint  checkpoint    9  1883505   \n",
       "\n",
       "               ts          te       dur  tinterval  trange   hostname  \\\n",
       "12252   345336825   345341531      4706       <NA>    11.0  corona171   \n",
       "3112    368831508   401679869  32848361       <NA>    12.0  corona171   \n",
       "3113    345336790   401679961  56343171       <NA>    11.0  corona171   \n",
       "1292    553776958   553809392     32434       <NA>    18.0  corona171   \n",
       "11938   577214697   612213782  34999085       <NA>    19.0  corona171   \n",
       "...           ...         ...       ...        ...     ...        ...   \n",
       "12202  1212240498  1266736860  54496362       <NA>    40.0  corona173   \n",
       "12203  1198878023  1266736974  67858951       <NA>    39.0  corona173   \n",
       "9355   1419930384  1419953645     23261       <NA>    47.0  corona173   \n",
       "4584   1433499678  1487615505  54115827       <NA>    47.0  corona173   \n",
       "4585   1419930366  1487615613  67685247       <NA>    47.0  corona173   \n",
       "\n",
       "       compute_time  io_time  app_io_time  total_time filename  phase  size  \n",
       "12252          <NA>     <NA>         4706        4706     <NA>      3  <NA>  \n",
       "3112           <NA>     <NA>     32848361    32848361     <NA>      3  <NA>  \n",
       "3113           <NA>     <NA>     56343171    56343171     <NA>      3  <NA>  \n",
       "1292           <NA>     <NA>        32434       32434     <NA>      3  <NA>  \n",
       "11938          <NA>     <NA>     34999085    34999085     <NA>      3  <NA>  \n",
       "...             ...      ...          ...         ...      ...    ...   ...  \n",
       "12202          <NA>     <NA>     54496362    54496362     <NA>      3  <NA>  \n",
       "12203          <NA>     <NA>     67858951    67858951     <NA>      3  <NA>  \n",
       "9355           <NA>     <NA>        23261       23261     <NA>      3  <NA>  \n",
       "4584           <NA>     <NA>     54115827    54115827     <NA>      3  <NA>  \n",
       "4585           <NA>     <NA>     67685247    67685247     <NA>      3  <NA>  \n",
       "\n",
       "[288 rows x 17 columns]"
      ]
     },
     "execution_count": 15,
     "metadata": {},
     "output_type": "execute_result"
    }
   ],
   "source": [
    "checkpoint_events = analyzer.events.query(\"name.str.contains('checkpoint')\").compute()\n",
    "checkpoint_events"
   ]
  },
  {
   "cell_type": "code",
   "execution_count": 28,
   "id": "86c7d254",
   "metadata": {},
   "outputs": [
    {
     "data": {
      "text/plain": [
       "4665.911755"
      ]
     },
     "execution_count": 28,
     "metadata": {},
     "output_type": "execute_result"
    }
   ],
   "source": [
    "checkpoint_events.query(\"name.str.contains('checkpoint_end')\")[\"dur\"].sum() / 1e6"
   ]
  },
  {
   "cell_type": "code",
   "execution_count": 29,
   "id": "8ca664da",
   "metadata": {},
   "outputs": [
    {
     "data": {
      "text/plain": [
       "6049.440787"
      ]
     },
     "execution_count": 29,
     "metadata": {},
     "output_type": "execute_result"
    }
   ],
   "source": [
    "checkpoint_events.query(\"name.str.contains('SCRPyTorchCheckpointing.checkpoint')\")[\"dur\"].sum() / 1e6"
   ]
  },
  {
   "cell_type": "code",
   "execution_count": 42,
   "id": "931eba5a",
   "metadata": {},
   "outputs": [
    {
     "data": {
      "text/plain": [
       "dur    378.282453\n",
       "dtype: double[pyarrow]"
      ]
     },
     "execution_count": 42,
     "metadata": {},
     "output_type": "execute_result"
    }
   ],
   "source": [
    "app_time = analyzer.events.query(\"name == 'SCRPyTorchCheckpointing.checkpoint'\").compute()\n",
    "app_time_files = app_time.groupby([\"trange\",\"pid\"]).agg({\"dur\":sum}).\\\n",
    "                  groupby([\"trange\"]).agg({\"dur\":max}).sum()\n",
    "app_time_files / 1e6"
   ]
  },
  {
   "cell_type": "code",
   "execution_count": 15,
   "id": "0682c943",
   "metadata": {},
   "outputs": [
    {
     "data": {
      "text/plain": [
       "dur    419.682159\n",
       "dtype: double[pyarrow]"
      ]
     },
     "execution_count": 15,
     "metadata": {},
     "output_type": "execute_result"
    }
   ],
   "source": [
    "posix_ssd_time = analyzer.events.query(\"cat == 'POSIX' and filename.str.contains('ssd')\").compute()\n",
    "posix_ssd_time_files = posix_ssd_time.groupby([\"trange\",\"pid\",\"tid\"]).agg({\"dur\":sum}).\\\n",
    "                  groupby([\"trange\"]).agg({\"dur\":max}).sum()\n",
    "posix_ssd_time_files / 1e6"
   ]
  },
  {
   "cell_type": "code",
   "execution_count": 41,
   "id": "9f80ceef",
   "metadata": {},
   "outputs": [
    {
     "data": {
      "text/plain": [
       "dur    1483.017034\n",
       "dtype: double[pyarrow]"
      ]
     },
     "execution_count": 41,
     "metadata": {},
     "output_type": "execute_result"
    }
   ],
   "source": [
    "posix_lustre_time = analyzer.events.query(\"cat == 'POSIX' and filename.str.contains('/p/lustre2/haridev/dlio/scr/checkpoints')\").compute()\n",
    "posix_lustre_time_files = posix_lustre_time.groupby([\"trange\",\"pid\"]).agg({\"dur\":sum}).\\\n",
    "                  groupby([\"trange\"]).agg({\"dur\":max}).sum()\n",
    "posix_lustre_time_files / 1e6"
   ]
  },
  {
   "cell_type": "code",
   "execution_count": 34,
   "id": "c1253857",
   "metadata": {},
   "outputs": [
    {
     "data": {
      "text/plain": [
       "1471.540838"
      ]
     },
     "execution_count": 34,
     "metadata": {},
     "output_type": "execute_result"
    }
   ],
   "source": [
    "posix_lustre_time = analyzer.events.query(\"pid == 0 and cat == 'POSIX' and filename.str.contains('/p/lustre2/haridev/dlio/scr/checkpoints')\").compute()\n",
    "posix_lustre_time_files = posix_lustre_time[\"dur\"].sum()\n",
    "posix_lustre_time_files / 1e6"
   ]
  },
  {
   "cell_type": "code",
   "execution_count": 35,
   "id": "ff69aaf8",
   "metadata": {},
   "outputs": [
    {
     "data": {
      "text/plain": [
       "79.91119105741382"
      ]
     },
     "execution_count": 35,
     "metadata": {},
     "output_type": "execute_result"
    }
   ],
   "source": [
    "posix_lustre_time_files = posix_lustre_time[\"size\"].sum()\n",
    "posix_lustre_time_files / 1024**3"
   ]
  },
  {
   "cell_type": "code",
   "execution_count": 37,
   "id": "0efae06e",
   "metadata": {},
   "outputs": [
    {
     "data": {
      "text/plain": [
       "size    11.41595\n",
       "dtype: double[pyarrow]"
      ]
     },
     "execution_count": 37,
     "metadata": {},
     "output_type": "execute_result"
    }
   ],
   "source": [
    "posix_lustre_time.query(\"name == 'read'\")[[\"size\"]].sum() / 1024**3"
   ]
  },
  {
   "cell_type": "code",
   "execution_count": 47,
   "id": "ab5a9f2e",
   "metadata": {},
   "outputs": [
    {
     "data": {
      "text/plain": [
       "1.240783"
      ]
     },
     "execution_count": 47,
     "metadata": {},
     "output_type": "execute_result"
    }
   ],
   "source": [
    "import pandas as pd\n",
    "pd.set_option('display.max_colwidth',1000)\n",
    "posix_lustre_time.query(\"name == 'write' and not filename.str.contains('pt')\")[[\"name\",\"pid\",\"dur\",\"filename\",\"size\"]].sort_values(\"dur\", ascending=False)[\"dur\"].sum() / 1e6"
   ]
  },
  {
   "cell_type": "code",
   "execution_count": 48,
   "id": "99c1996c",
   "metadata": {},
   "outputs": [
    {
     "data": {
      "text/plain": [
       "4199.216728"
      ]
     },
     "execution_count": 48,
     "metadata": {},
     "output_type": "execute_result"
    }
   ],
   "source": [
    "\n",
    "posix_lustre_time.query(\"name == 'write' and filename.str.contains('pt')\")[[\"name\",\"pid\",\"dur\",\"filename\",\"size\"]].sort_values(\"dur\", ascending=False)[\"dur\"].sum()/ 1e6"
   ]
  },
  {
   "cell_type": "code",
   "execution_count": 27,
   "id": "1622ed5a",
   "metadata": {},
   "outputs": [
    {
     "data": {
      "text/plain": [
       "size    68.495242\n",
       "dtype: double[pyarrow]"
      ]
     },
     "execution_count": 27,
     "metadata": {},
     "output_type": "execute_result"
    }
   ],
   "source": [
    "posix_lustre_time.query(\"name == 'write'\")[[\"size\"]].sum() / 1024**3"
   ]
  },
  {
   "cell_type": "code",
   "execution_count": null,
   "id": "2e7d3fd2",
   "metadata": {},
   "outputs": [],
   "source": [
    "app_time"
   ]
  },
  {
   "cell_type": "code",
   "execution_count": null,
   "id": "8c74f6db",
   "metadata": {},
   "outputs": [],
   "source": [
    "app_time = analyzer.events.query(\"name == 'SCRPyTorchCheckpointing.checkpoint'\").compute()\n",
    "app_time_files = app_time.groupby([\"trange\",\"pid\",\"tid\"]).agg({\"dur\":sum}).\\\n",
    "                  groupby([\"trange\"]).agg({\"dur\":max}).sum()\n",
    "app_time_files / 1e6"
   ]
  },
  {
   "cell_type": "code",
   "execution_count": 26,
   "id": "40af4cb8",
   "metadata": {},
   "outputs": [
    {
     "data": {
      "text/plain": [
       "1893.115273"
      ]
     },
     "execution_count": 26,
     "metadata": {},
     "output_type": "execute_result"
    }
   ],
   "source": [
    "checkpoint_events = analyzer.events.query(\"name == 'write' and filename.str.contains('ssd')\")\n",
    "checkpoint_events = checkpoint_events.compute()\n",
    "checkpoint_events[\"dur\"].sum() / 1e6"
   ]
  },
  {
   "cell_type": "code",
   "execution_count": 30,
   "id": "2fa1b1fa",
   "metadata": {},
   "outputs": [
    {
     "data": {
      "text/plain": [
       "4200.457511"
      ]
     },
     "execution_count": 30,
     "metadata": {},
     "output_type": "execute_result"
    }
   ],
   "source": [
    "checkpoint_events = analyzer.events.query(\"name == 'write' and filename.str.contains('lustre')\")\n",
    "checkpoint_events = checkpoint_events.compute()\n",
    "checkpoint_events[\"dur\"].sum() / 1e6"
   ]
  },
  {
   "cell_type": "code",
   "execution_count": 38,
   "id": "1bc78d52",
   "metadata": {},
   "outputs": [
    {
     "data": {
      "text/plain": [
       "0                                                                  /p/lustre2/haridev/dlio/scr/checkpoints/scr_megatron_deepspeed_medium/.scr/nodes.scr\n",
       "1                                                                   /p/lustre2/haridev/dlio/scr/checkpoints/scr_megatron_deepspeed_medium/.scr/halt.scr\n",
       "2                                                                  /p/lustre2/haridev/dlio/scr/checkpoints/scr_megatron_deepspeed_medium/.scr/flush.scr\n",
       "3                                                                  /p/lustre2/haridev/dlio/scr/checkpoints/scr_megatron_deepspeed_medium/.scr/index.scr\n",
       "4                                            /l/ssd/haridev/scr/checkpoints/scr_megatron_deepspeed/haridev/scr.defjobid/scr.dataset.20/model-1-600-0.pt\n",
       "                                                                             ...                                                                       \n",
       "2165    /l/ssd/haridev/scr/checkpoints/scr_megatron_deepspeed/haridev/scr.defjobid/scr.dataset.27/.scr/reddescmap.er.9.xor.grp_2_of_8.mem_2_of_2.redset\n",
       "2166                                 /l/ssd/haridev/scr/checkpoints/scr_megatron_deepspeed/haridev/scr.defjobid/scr.dataset.27/.scr/reddesc.er.9.redset\n",
       "2167       /l/ssd/haridev/scr/checkpoints/scr_megatron_deepspeed/haridev/scr.defjobid/scr.dataset.27/.scr/reddesc.er.9.xor.grp_2_of_8.mem_2_of_2.redset\n",
       "2168                                                             /p/lustre2/haridev/dlio/scr/checkpoints/scr_megatron_deepspeed_medium/model-1-600-9.pt\n",
       "2169                                                         /p/lustre2/haridev/dlio/scr/checkpoints/scr_megatron_deepspeed_medium/optimizer-1-600-9.pt\n",
       "Name: filename, Length: 2170, dtype: string"
      ]
     },
     "execution_count": 38,
     "metadata": {},
     "output_type": "execute_result"
    }
   ],
   "source": [
    "import pandas\n",
    "pandas.options.display.max_columns = 2000\n",
    "pandas.set_option('display.max_colwidth',1000)\n",
    "analyzer.events.query(\"name == 'write'\")[\"filename\"].unique().compute()"
   ]
  },
  {
   "cell_type": "code",
   "execution_count": 32,
   "id": "db145249",
   "metadata": {},
   "outputs": [],
   "source": [
    "checkpoint_files = checkpoint_events.groupby([\"filename\",\"trange\",\"pid\",\"tid\"]).agg({\"dur\":sum}).\\\n",
    "                  groupby([\"filename\",\"trange\"]).agg({\"dur\":max}).\\\n",
    "                  groupby([\"filename\"]).agg({\"dur\":sum})"
   ]
  },
  {
   "cell_type": "code",
   "execution_count": 40,
   "id": "29f983cf",
   "metadata": {},
   "outputs": [
    {
     "data": {
      "text/plain": [
       "(dur    5\n",
       " dtype: uint64[pyarrow],\n",
       " dur    16.372719\n",
       " dtype: double[pyarrow],\n",
       " dur    1428.036601\n",
       " dtype: double[pyarrow],\n",
       " dur    1.000026\n",
       " dtype: double[pyarrow],\n",
       " dur    1428\n",
       " dtype: int64)"
      ]
     },
     "execution_count": 40,
     "metadata": {},
     "output_type": "execute_result"
    }
   ],
   "source": [
    "checkpoint_files.min(), checkpoint_files.max() / 1e6, checkpoint_files.sum() / 1e6, checkpoint_files.mean() / 1e6, checkpoint_files.count()"
   ]
  },
  {
   "cell_type": "code",
   "execution_count": null,
   "id": "2b124e8d",
   "metadata": {},
   "outputs": [],
   "source": [
    "(dur    347\n",
    " dtype: uint64[pyarrow],\n",
    " dur    8463940\n",
    " dtype: uint64[pyarrow],\n",
    " dur    965268.883333\n",
    " dtype: double[pyarrow])"
   ]
  }
 ],
 "metadata": {
  "kernelspec": {
   "display_name": "venv",
   "language": "python",
   "name": "python3"
  },
  "language_info": {
   "codemirror_mode": {
    "name": "ipython",
    "version": 3
   },
   "file_extension": ".py",
   "mimetype": "text/x-python",
   "name": "python",
   "nbconvert_exporter": "python",
   "pygments_lexer": "ipython3",
   "version": "3.9.12"
  }
 },
 "nbformat": 4,
 "nbformat_minor": 5
}
