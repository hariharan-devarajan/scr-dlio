{
 "cells": [
  {
   "cell_type": "code",
   "execution_count": 1,
   "id": "ffad981a",
   "metadata": {},
   "outputs": [],
   "source": [
    "import json\n",
    "import os\n",
    "import yaml\n",
    "from pathlib import Path\n",
    "from dask.distributed import Client"
   ]
  },
  {
   "cell_type": "code",
   "execution_count": 2,
   "id": "a0dc2087",
   "metadata": {},
   "outputs": [],
   "source": [
    "use_local=True"
   ]
  },
  {
   "cell_type": "code",
   "execution_count": 3,
   "id": "02b5e92c",
   "metadata": {},
   "outputs": [],
   "source": [
    "if not use_local:\n",
    "    with open(f'~/.dlio_profiler/configuration.yaml', 'r') as file:\n",
    "        dlp_yaml = yaml.safe_load(file)\n",
    "        app_root = dlp_yaml[\"app\"]\n",
    "else:\n",
    "    app_root = str(Path(os.getcwd()).parent.parent)"
   ]
  },
  {
   "cell_type": "code",
   "execution_count": 4,
   "id": "af5ecd2b",
   "metadata": {},
   "outputs": [
    {
     "data": {
      "text/plain": [
       "['/usr/WS2/haridev',\n",
       " '/collab/usr/gapps/python/build/spack-toss4.1/var/spack/environments/python/._view/75prb56irmif5ejtirjthpx6kq3gqo52/lib/python39.zip',\n",
       " '/collab/usr/gapps/python/build/spack-toss4.1/var/spack/environments/python/._view/75prb56irmif5ejtirjthpx6kq3gqo52/lib/python3.9',\n",
       " '/collab/usr/gapps/python/build/spack-toss4.1/var/spack/environments/python/._view/75prb56irmif5ejtirjthpx6kq3gqo52/lib/python3.9/lib-dynload',\n",
       " '',\n",
       " '/usr/workspace/haridev/scr-dlio/venv/lib/python3.9/site-packages']"
      ]
     },
     "execution_count": 4,
     "metadata": {},
     "output_type": "execute_result"
    }
   ],
   "source": [
    "import sys\n",
    "sys.path.insert(0, app_root)\n",
    "sys.path"
   ]
  },
  {
   "cell_type": "code",
   "execution_count": 5,
   "id": "91cf1a4d",
   "metadata": {},
   "outputs": [
    {
     "name": "stdout",
     "output_type": "stream",
     "text": [
      "/usr/workspace/haridev/scr-dlio/venv/lib/python3.9/site-packages/dlp_analyzer/__init__.py\n"
     ]
    }
   ],
   "source": [
    "import dlp_analyzer\n",
    "print(dlp_analyzer.__file__)\n",
    "from dlp_analyzer.main import DLPAnalyzer,get_dlp_configuration,update_dlp_configuration,setup_logging,setup_dask_cluster, reset_dask_cluster, get_dlp_configuration\n"
   ]
  },
  {
   "cell_type": "code",
   "execution_count": 6,
   "id": "60ed3530",
   "metadata": {},
   "outputs": [],
   "source": [
    "if not use_local:\n",
    "    dask_run_dir = os.path.join(app_root, \"dlp_analyzer\", \"dask\", \"run_dir\")\n",
    "    with open (os.path.join(dask_run_dir, f\"scheduler_{os.getenv('USER')}.json\"), \"r\") as f:\n",
    "        dask_scheduler = json.load(f)[\"address\"]\n",
    "else:\n",
    "    dask_scheduler = None"
   ]
  },
  {
   "cell_type": "code",
   "execution_count": 7,
   "id": "46a22f94",
   "metadata": {},
   "outputs": [],
   "source": [
    "app_name = \"dlio\" # dlio dlio_scr"
   ]
  },
  {
   "cell_type": "code",
   "execution_count": 8,
   "id": "689d2ce3",
   "metadata": {},
   "outputs": [],
   "source": [
    "def get_conditions(json_object):\n",
    "    app_io_cond = \"reader\" in json_object[\"cat\"] or \"checkpoint\" in json_object[\"cat\"]\n",
    "    compute_cond = \"compute\" in json_object[\"name\"] # Cosmoflow\n",
    "    io_cond = \"POSIX\" == json_object[\"cat\"] # Cosmoflow\n",
    "    return app_io_cond, compute_cond, io_cond"
   ]
  },
  {
   "cell_type": "code",
   "execution_count": 9,
   "id": "32dca227",
   "metadata": {},
   "outputs": [],
   "source": [
    "condition_fn = None #\n",
    "if app_name == \"dlio\":\n",
    "    filename = \"/g/g92/haridev/projects/scr-dlio/logs/n2_p8_base/trace*.pfw.gz\"\n",
    "    condition_fn = get_conditions\n",
    "elif app_name == \"dlio_scr\":\n",
    "    filename = \"/g/g92/haridev/projects/scr-dlio/logs/n2_p8_scr/trace*.pfw.gz\"\n",
    "    condition_fn = get_conditions"
   ]
  },
  {
   "cell_type": "code",
   "execution_count": 10,
   "id": "88db87ea",
   "metadata": {},
   "outputs": [],
   "source": [
    "conf = update_dlp_configuration(dask_scheduler=dask_scheduler, verbose=True, workers=64,\n",
    "                                log_file=f\"./dlp_{os.getenv('USER')}.log\", rebuild_index=False, time_approximate=True, \n",
    "                                host_pattern=r'lassen(\\d+)', time_granularity=30e6, skip_hostname=True, conditions=condition_fn)"
   ]
  },
  {
   "cell_type": "code",
   "execution_count": 11,
   "id": "8c6dc1ba",
   "metadata": {},
   "outputs": [],
   "source": [
    "setup_logging()"
   ]
  },
  {
   "cell_type": "code",
   "execution_count": 12,
   "id": "673b002c",
   "metadata": {},
   "outputs": [
    {
     "name": "stderr",
     "output_type": "stream",
     "text": [
      "[INFO] [15:53:23] Initialized Client with 64 workers and link http://127.0.0.1:8787/status [/usr/workspace/haridev/scr-dlio/venv/lib/python3.9/site-packages/dlp_analyzer/main.py:668]\n"
     ]
    }
   ],
   "source": [
    "setup_dask_cluster()"
   ]
  },
  {
   "cell_type": "code",
   "execution_count": 13,
   "id": "e25fe74c",
   "metadata": {},
   "outputs": [
    {
     "name": "stderr",
     "output_type": "stream",
     "text": [
      "[INFO] [15:53:24] Created index for 16 files [/usr/workspace/haridev/scr-dlio/venv/lib/python3.9/site-packages/dlp_analyzer/main.py:365]\n",
      "[INFO] [15:53:24] Total size of all files are <dask.bag.core.Item object at 0x1554a7dc63a0> bytes [/usr/workspace/haridev/scr-dlio/venv/lib/python3.9/site-packages/dlp_analyzer/main.py:367]\n",
      "[INFO] [15:53:25] Loading 8994 batches out of 16 files and has 147302750 lines overall [/usr/workspace/haridev/scr-dlio/venv/lib/python3.9/site-packages/dlp_analyzer/main.py:380]\n",
      "[INFO] [15:56:13] Loaded events [/usr/workspace/haridev/scr-dlio/venv/lib/python3.9/site-packages/dlp_analyzer/main.py:422]\n",
      "[INFO] [15:56:13] Loaded plots with slope threshold: 45 [/usr/workspace/haridev/scr-dlio/venv/lib/python3.9/site-packages/dlp_analyzer/main.py:428]\n"
     ]
    }
   ],
   "source": [
    "analyzer = DLPAnalyzer(filename)"
   ]
  },
  {
   "cell_type": "code",
   "execution_count": 14,
   "id": "87a53605",
   "metadata": {},
   "outputs": [
    {
     "name": "stderr",
     "output_type": "stream",
     "text": [
      "[INFO] [15:56:13] Total number of events in the workload are 147302718 [/usr/workspace/haridev/scr-dlio/venv/lib/python3.9/site-packages/dlp_analyzer/main.py:520]\n",
      "[INFO] [15:56:15] Approximate True 985599722, 477236273.0, 19514168.0, 1531779091.0,                457722105.0, 0.0, 1512264923.0, 0.0 [/usr/workspace/haridev/scr-dlio/venv/lib/python3.9/site-packages/dlp_analyzer/main.py:474]\n"
     ]
    },
    {
     "data": {
      "text/html": [
       "<pre style=\"white-space:pre;overflow-x:auto;line-height:normal;font-family:Menlo,'DejaVu Sans Mono',consolas,'Courier New',monospace\">╭──────────────────────────────────────────────────── Summary ────────────────────────────────────────────────────╮\n",
       "│ <span style=\"color: #008080; text-decoration-color: #008080\"> Allocation   </span> Scheduler Allocation Details                                                                     │\n",
       "│ <span style=\"color: #008080; text-decoration-color: #008080\">              </span> ├── Nodes: 2                                                                                     │\n",
       "│ <span style=\"color: #008080; text-decoration-color: #008080\">              </span> ├── Processes: 16                                                                                │\n",
       "│ <span style=\"color: #008080; text-decoration-color: #008080\">              </span> ├── Thread allocations across nodes (includes dynamically created threads)                       │\n",
       "│ <span style=\"color: #008080; text-decoration-color: #008080\">              </span> │   ├── Compute: 16                                                                              │\n",
       "│ <span style=\"color: #008080; text-decoration-color: #008080\">              </span> │   └── I/O: 35                                                                                  │\n",
       "│ <span style=\"color: #008080; text-decoration-color: #008080\">              </span> └── Events Recorded: 147M                                                                        │\n",
       "│ <span style=\"color: #008080; text-decoration-color: #008080\"> Dataset      </span> Description of Dataset Used                                                                      │\n",
       "│ <span style=\"color: #008080; text-decoration-color: #008080\">              </span> └── Files: 728                                                                                   │\n",
       "│ <span style=\"color: #008080; text-decoration-color: #008080\"> I/O Behavior </span> Behavior of Application                                                                          │\n",
       "│ <span style=\"color: #008080; text-decoration-color: #008080\">              </span> ├── Split of Time in application                                                                 │\n",
       "│ <span style=\"color: #008080; text-decoration-color: #008080\">              </span> │   ├── Total Time: 985.600 sec                                                                  │\n",
       "│ <span style=\"color: #008080; text-decoration-color: #008080\">              </span> │   ├── Overall App Level I/O: 1531.779 sec                                                      │\n",
       "│ <span style=\"color: #008080; text-decoration-color: #008080\">              </span> │   ├── Unoverlapped App I/O: 1512.265 sec                                                       │\n",
       "│ <span style=\"color: #008080; text-decoration-color: #008080\">              </span> │   ├── Compute: 19.514 sec                                                                      │\n",
       "│ <span style=\"color: #008080; text-decoration-color: #008080\">              </span> │   └── Overall I/O: 477.236 sec                                                                 │\n",
       "│ <span style=\"color: #008080; text-decoration-color: #008080\">              </span> └── Metrics by function                                                                          │\n",
       "│ <span style=\"color: #008080; text-decoration-color: #008080\">              </span>     ├── Function       |count |                  size                   |                        │\n",
       "│ <span style=\"color: #008080; text-decoration-color: #008080\">              </span>     ├──                |      |min   |25    |mean  |median|75    |max   |                        │\n",
       "│ <span style=\"color: #008080; text-decoration-color: #008080\">              </span>     ├── opendir        |32    |NA    |nan   |nan   |NA    |nan   |NA    |                        │\n",
       "│ <span style=\"color: #008080; text-decoration-color: #008080\">              </span>     ├── __xstat64      |48    |NA    |nan   |nan   |NA    |nan   |NA    |                        │\n",
       "│ <span style=\"color: #008080; text-decoration-color: #008080\">              </span>     ├── mkdir          |16    |NA    |nan   |nan   |NA    |nan   |NA    |                        │\n",
       "│ <span style=\"color: #008080; text-decoration-color: #008080\">              </span>     ├── open64         |10M   |NA    |nan   |nan   |NA    |nan   |NA    |                        │\n",
       "│ <span style=\"color: #008080; text-decoration-color: #008080\">              </span>     ├── __fxstat64     |21M   |NA    |nan   |nan   |NA    |nan   |NA    |                        │\n",
       "│ <span style=\"color: #008080; text-decoration-color: #008080\">              </span>     ├── lseek64        |32M   |NA    |nan   |nan   |NA    |nan   |NA    |                        │\n",
       "│ <span style=\"color: #008080; text-decoration-color: #008080\">              </span>     ├── read           |32    |80MB  |80MB  |80MB  |80MB  |80MB  |80MB  |                        │\n",
       "│ <span style=\"color: #008080; text-decoration-color: #008080\">              </span>     ├── close          |10M   |NA    |nan   |nan   |NA    |nan   |NA    |                        │\n",
       "│ <span style=\"color: #008080; text-decoration-color: #008080\">              </span>     ├── mmap64         |10M   |NA    |nan   |nan   |NA    |nan   |NA    |                        │\n",
       "│ <span style=\"color: #008080; text-decoration-color: #008080\">              </span>     └── write          |4K    |64    |464   |155MB |790KB |859MB |2GB   |                        │\n",
       "╰─────────────────────────────────────────────────────────────────────────────────────────────────────────────────╯\n",
       "</pre>\n"
      ],
      "text/plain": [
       "╭──────────────────────────────────────────────────── Summary ────────────────────────────────────────────────────╮\n",
       "│ \u001b[36m \u001b[0m\u001b[36mAllocation  \u001b[0m\u001b[36m \u001b[0m Scheduler Allocation Details                                                                     │\n",
       "│ \u001b[36m              \u001b[0m ├── Nodes: 2                                                                                     │\n",
       "│ \u001b[36m              \u001b[0m ├── Processes: 16                                                                                │\n",
       "│ \u001b[36m              \u001b[0m ├── Thread allocations across nodes (includes dynamically created threads)                       │\n",
       "│ \u001b[36m              \u001b[0m │   ├── Compute: 16                                                                              │\n",
       "│ \u001b[36m              \u001b[0m │   └── I/O: 35                                                                                  │\n",
       "│ \u001b[36m              \u001b[0m └── Events Recorded: 147M                                                                        │\n",
       "│ \u001b[36m \u001b[0m\u001b[36mDataset     \u001b[0m\u001b[36m \u001b[0m Description of Dataset Used                                                                      │\n",
       "│ \u001b[36m              \u001b[0m └── Files: 728                                                                                   │\n",
       "│ \u001b[36m \u001b[0m\u001b[36mI/O Behavior\u001b[0m\u001b[36m \u001b[0m Behavior of Application                                                                          │\n",
       "│ \u001b[36m              \u001b[0m ├── Split of Time in application                                                                 │\n",
       "│ \u001b[36m              \u001b[0m │   ├── Total Time: 985.600 sec                                                                  │\n",
       "│ \u001b[36m              \u001b[0m │   ├── Overall App Level I/O: 1531.779 sec                                                      │\n",
       "│ \u001b[36m              \u001b[0m │   ├── Unoverlapped App I/O: 1512.265 sec                                                       │\n",
       "│ \u001b[36m              \u001b[0m │   ├── Compute: 19.514 sec                                                                      │\n",
       "│ \u001b[36m              \u001b[0m │   └── Overall I/O: 477.236 sec                                                                 │\n",
       "│ \u001b[36m              \u001b[0m └── Metrics by function                                                                          │\n",
       "│ \u001b[36m              \u001b[0m     ├── Function       |count |                  size                   |                        │\n",
       "│ \u001b[36m              \u001b[0m     ├──                |      |min   |25    |mean  |median|75    |max   |                        │\n",
       "│ \u001b[36m              \u001b[0m     ├── opendir        |32    |NA    |nan   |nan   |NA    |nan   |NA    |                        │\n",
       "│ \u001b[36m              \u001b[0m     ├── __xstat64      |48    |NA    |nan   |nan   |NA    |nan   |NA    |                        │\n",
       "│ \u001b[36m              \u001b[0m     ├── mkdir          |16    |NA    |nan   |nan   |NA    |nan   |NA    |                        │\n",
       "│ \u001b[36m              \u001b[0m     ├── open64         |10M   |NA    |nan   |nan   |NA    |nan   |NA    |                        │\n",
       "│ \u001b[36m              \u001b[0m     ├── __fxstat64     |21M   |NA    |nan   |nan   |NA    |nan   |NA    |                        │\n",
       "│ \u001b[36m              \u001b[0m     ├── lseek64        |32M   |NA    |nan   |nan   |NA    |nan   |NA    |                        │\n",
       "│ \u001b[36m              \u001b[0m     ├── read           |32    |80MB  |80MB  |80MB  |80MB  |80MB  |80MB  |                        │\n",
       "│ \u001b[36m              \u001b[0m     ├── close          |10M   |NA    |nan   |nan   |NA    |nan   |NA    |                        │\n",
       "│ \u001b[36m              \u001b[0m     ├── mmap64         |10M   |NA    |nan   |nan   |NA    |nan   |NA    |                        │\n",
       "│ \u001b[36m              \u001b[0m     └── write          |4K    |64    |464   |155MB |790KB |859MB |2GB   |                        │\n",
       "╰─────────────────────────────────────────────────────────────────────────────────────────────────────────────────╯\n"
      ]
     },
     "metadata": {},
     "output_type": "display_data"
    }
   ],
   "source": [
    "items = analyzer.summary()\n",
    "items"
   ]
  },
  {
   "cell_type": "code",
   "execution_count": 30,
   "id": "79ebf23b",
   "metadata": {},
   "outputs": [
    {
     "data": {
      "text/plain": [
       "dur    103.972262\n",
       "dtype: double[pyarrow]"
      ]
     },
     "execution_count": 30,
     "metadata": {},
     "output_type": "execute_result"
    }
   ],
   "source": [
    "app_time = analyzer.events.query(\"name == 'PyTorchCheckpointing.checkpoint'\").compute()\n",
    "app_time_files = app_time.groupby([\"trange\",\"pid\",\"tid\"]).agg({\"dur\":sum}).\\\n",
    "                  groupby([\"trange\"]).agg({\"dur\":max}).sum()\n",
    "app_time_files / 1e6"
   ]
  },
  {
   "cell_type": "code",
   "execution_count": 35,
   "id": "616e471c",
   "metadata": {},
   "outputs": [
    {
     "data": {
      "text/html": [
       "<div>\n",
       "<style scoped>\n",
       "    .dataframe tbody tr th:only-of-type {\n",
       "        vertical-align: middle;\n",
       "    }\n",
       "\n",
       "    .dataframe tbody tr th {\n",
       "        vertical-align: top;\n",
       "    }\n",
       "\n",
       "    .dataframe thead th {\n",
       "        text-align: right;\n",
       "    }\n",
       "</style>\n",
       "<table border=\"1\" class=\"dataframe\">\n",
       "  <thead>\n",
       "    <tr style=\"text-align: right;\">\n",
       "      <th></th>\n",
       "      <th>name</th>\n",
       "      <th>cat</th>\n",
       "      <th>pid</th>\n",
       "      <th>tid</th>\n",
       "      <th>ts</th>\n",
       "      <th>te</th>\n",
       "      <th>dur</th>\n",
       "      <th>tinterval</th>\n",
       "      <th>trange</th>\n",
       "      <th>hostname</th>\n",
       "      <th>compute_time</th>\n",
       "      <th>io_time</th>\n",
       "      <th>app_io_time</th>\n",
       "      <th>total_time</th>\n",
       "      <th>filename</th>\n",
       "      <th>phase</th>\n",
       "      <th>size</th>\n",
       "    </tr>\n",
       "  </thead>\n",
       "  <tbody>\n",
       "    <tr>\n",
       "      <th>12910</th>\n",
       "      <td>write</td>\n",
       "      <td>POSIX</td>\n",
       "      <td>0</td>\n",
       "      <td>2664209</td>\n",
       "      <td>250005384</td>\n",
       "      <td>250225091</td>\n",
       "      <td>219707</td>\n",
       "      <td>&lt;NA&gt;</td>\n",
       "      <td>8.0</td>\n",
       "      <td>corona171</td>\n",
       "      <td>&lt;NA&gt;</td>\n",
       "      <td>219707</td>\n",
       "      <td>&lt;NA&gt;</td>\n",
       "      <td>219707</td>\n",
       "      <td>/p/lustre2/haridev/dlio/scr/checkpoints/scr_me...</td>\n",
       "      <td>2</td>\n",
       "      <td>30827</td>\n",
       "    </tr>\n",
       "    <tr>\n",
       "      <th>1943</th>\n",
       "      <td>write</td>\n",
       "      <td>POSIX</td>\n",
       "      <td>0</td>\n",
       "      <td>2664209</td>\n",
       "      <td>250852746</td>\n",
       "      <td>250865085</td>\n",
       "      <td>12339</td>\n",
       "      <td>&lt;NA&gt;</td>\n",
       "      <td>8.0</td>\n",
       "      <td>corona171</td>\n",
       "      <td>&lt;NA&gt;</td>\n",
       "      <td>12339</td>\n",
       "      <td>&lt;NA&gt;</td>\n",
       "      <td>12339</td>\n",
       "      <td>/p/lustre2/haridev/dlio/scr/checkpoints/scr_me...</td>\n",
       "      <td>2</td>\n",
       "      <td>704</td>\n",
       "    </tr>\n",
       "    <tr>\n",
       "      <th>15516</th>\n",
       "      <td>write</td>\n",
       "      <td>POSIX</td>\n",
       "      <td>0</td>\n",
       "      <td>2664209</td>\n",
       "      <td>250865108</td>\n",
       "      <td>252595636</td>\n",
       "      <td>1730528</td>\n",
       "      <td>&lt;NA&gt;</td>\n",
       "      <td>8.0</td>\n",
       "      <td>corona171</td>\n",
       "      <td>&lt;NA&gt;</td>\n",
       "      <td>1730528</td>\n",
       "      <td>&lt;NA&gt;</td>\n",
       "      <td>1730528</td>\n",
       "      <td>/p/lustre2/haridev/dlio/scr/checkpoints/scr_me...</td>\n",
       "      <td>2</td>\n",
       "      <td>1009254400</td>\n",
       "    </tr>\n",
       "    <tr>\n",
       "      <th>4568</th>\n",
       "      <td>write</td>\n",
       "      <td>POSIX</td>\n",
       "      <td>0</td>\n",
       "      <td>2664209</td>\n",
       "      <td>253668019</td>\n",
       "      <td>253668037</td>\n",
       "      <td>18</td>\n",
       "      <td>&lt;NA&gt;</td>\n",
       "      <td>8.0</td>\n",
       "      <td>corona171</td>\n",
       "      <td>&lt;NA&gt;</td>\n",
       "      <td>18</td>\n",
       "      <td>&lt;NA&gt;</td>\n",
       "      <td>18</td>\n",
       "      <td>/p/lustre2/haridev/dlio/scr/checkpoints/scr_me...</td>\n",
       "      <td>2</td>\n",
       "      <td>64</td>\n",
       "    </tr>\n",
       "    <tr>\n",
       "      <th>4569</th>\n",
       "      <td>write</td>\n",
       "      <td>POSIX</td>\n",
       "      <td>0</td>\n",
       "      <td>2664209</td>\n",
       "      <td>253668074</td>\n",
       "      <td>254603165</td>\n",
       "      <td>935091</td>\n",
       "      <td>&lt;NA&gt;</td>\n",
       "      <td>8.0</td>\n",
       "      <td>corona171</td>\n",
       "      <td>&lt;NA&gt;</td>\n",
       "      <td>935091</td>\n",
       "      <td>&lt;NA&gt;</td>\n",
       "      <td>935091</td>\n",
       "      <td>/p/lustre2/haridev/dlio/scr/checkpoints/scr_me...</td>\n",
       "      <td>2</td>\n",
       "      <td>1009254400</td>\n",
       "    </tr>\n",
       "    <tr>\n",
       "      <th>...</th>\n",
       "      <td>...</td>\n",
       "      <td>...</td>\n",
       "      <td>...</td>\n",
       "      <td>...</td>\n",
       "      <td>...</td>\n",
       "      <td>...</td>\n",
       "      <td>...</td>\n",
       "      <td>...</td>\n",
       "      <td>...</td>\n",
       "      <td>...</td>\n",
       "      <td>...</td>\n",
       "      <td>...</td>\n",
       "      <td>...</td>\n",
       "      <td>...</td>\n",
       "      <td>...</td>\n",
       "      <td>...</td>\n",
       "      <td>...</td>\n",
       "    </tr>\n",
       "    <tr>\n",
       "      <th>14879</th>\n",
       "      <td>write</td>\n",
       "      <td>POSIX</td>\n",
       "      <td>9</td>\n",
       "      <td>314836</td>\n",
       "      <td>929319731</td>\n",
       "      <td>929319758</td>\n",
       "      <td>27</td>\n",
       "      <td>&lt;NA&gt;</td>\n",
       "      <td>30.0</td>\n",
       "      <td>corona173</td>\n",
       "      <td>&lt;NA&gt;</td>\n",
       "      <td>27</td>\n",
       "      <td>&lt;NA&gt;</td>\n",
       "      <td>27</td>\n",
       "      <td>/p/lustre2/haridev/dlio/scr/checkpoints/scr_me...</td>\n",
       "      <td>2</td>\n",
       "      <td>64</td>\n",
       "    </tr>\n",
       "    <tr>\n",
       "      <th>14880</th>\n",
       "      <td>write</td>\n",
       "      <td>POSIX</td>\n",
       "      <td>9</td>\n",
       "      <td>314836</td>\n",
       "      <td>929319806</td>\n",
       "      <td>930213492</td>\n",
       "      <td>893686</td>\n",
       "      <td>&lt;NA&gt;</td>\n",
       "      <td>30.0</td>\n",
       "      <td>corona173</td>\n",
       "      <td>&lt;NA&gt;</td>\n",
       "      <td>893686</td>\n",
       "      <td>&lt;NA&gt;</td>\n",
       "      <td>893686</td>\n",
       "      <td>/p/lustre2/haridev/dlio/scr/checkpoints/scr_me...</td>\n",
       "      <td>2</td>\n",
       "      <td>865075200</td>\n",
       "    </tr>\n",
       "    <tr>\n",
       "      <th>14881</th>\n",
       "      <td>write</td>\n",
       "      <td>POSIX</td>\n",
       "      <td>9</td>\n",
       "      <td>314836</td>\n",
       "      <td>930797822</td>\n",
       "      <td>930799120</td>\n",
       "      <td>1298</td>\n",
       "      <td>&lt;NA&gt;</td>\n",
       "      <td>31.0</td>\n",
       "      <td>corona173</td>\n",
       "      <td>&lt;NA&gt;</td>\n",
       "      <td>1298</td>\n",
       "      <td>&lt;NA&gt;</td>\n",
       "      <td>1298</td>\n",
       "      <td>/p/lustre2/haridev/dlio/scr/checkpoints/scr_me...</td>\n",
       "      <td>2</td>\n",
       "      <td>1587392</td>\n",
       "    </tr>\n",
       "    <tr>\n",
       "      <th>14882</th>\n",
       "      <td>write</td>\n",
       "      <td>POSIX</td>\n",
       "      <td>9</td>\n",
       "      <td>314836</td>\n",
       "      <td>930799172</td>\n",
       "      <td>932698114</td>\n",
       "      <td>1898942</td>\n",
       "      <td>&lt;NA&gt;</td>\n",
       "      <td>31.0</td>\n",
       "      <td>corona173</td>\n",
       "      <td>&lt;NA&gt;</td>\n",
       "      <td>1898942</td>\n",
       "      <td>&lt;NA&gt;</td>\n",
       "      <td>1898942</td>\n",
       "      <td>/p/lustre2/haridev/dlio/scr/checkpoints/scr_me...</td>\n",
       "      <td>2</td>\n",
       "      <td>1875123200</td>\n",
       "    </tr>\n",
       "    <tr>\n",
       "      <th>14883</th>\n",
       "      <td>write</td>\n",
       "      <td>POSIX</td>\n",
       "      <td>9</td>\n",
       "      <td>314836</td>\n",
       "      <td>932698313</td>\n",
       "      <td>932698317</td>\n",
       "      <td>4</td>\n",
       "      <td>&lt;NA&gt;</td>\n",
       "      <td>31.0</td>\n",
       "      <td>corona173</td>\n",
       "      <td>&lt;NA&gt;</td>\n",
       "      <td>4</td>\n",
       "      <td>&lt;NA&gt;</td>\n",
       "      <td>4</td>\n",
       "      <td>/p/lustre2/haridev/dlio/scr/checkpoints/scr_me...</td>\n",
       "      <td>2</td>\n",
       "      <td>807</td>\n",
       "    </tr>\n",
       "  </tbody>\n",
       "</table>\n",
       "<p>3792 rows × 17 columns</p>\n",
       "</div>"
      ],
      "text/plain": [
       "        name    cat  pid      tid         ts         te      dur  tinterval  \\\n",
       "12910  write  POSIX    0  2664209  250005384  250225091   219707       <NA>   \n",
       "1943   write  POSIX    0  2664209  250852746  250865085    12339       <NA>   \n",
       "15516  write  POSIX    0  2664209  250865108  252595636  1730528       <NA>   \n",
       "4568   write  POSIX    0  2664209  253668019  253668037       18       <NA>   \n",
       "4569   write  POSIX    0  2664209  253668074  254603165   935091       <NA>   \n",
       "...      ...    ...  ...      ...        ...        ...      ...        ...   \n",
       "14879  write  POSIX    9   314836  929319731  929319758       27       <NA>   \n",
       "14880  write  POSIX    9   314836  929319806  930213492   893686       <NA>   \n",
       "14881  write  POSIX    9   314836  930797822  930799120     1298       <NA>   \n",
       "14882  write  POSIX    9   314836  930799172  932698114  1898942       <NA>   \n",
       "14883  write  POSIX    9   314836  932698313  932698317        4       <NA>   \n",
       "\n",
       "       trange   hostname  compute_time  io_time  app_io_time  total_time  \\\n",
       "12910     8.0  corona171          <NA>   219707         <NA>      219707   \n",
       "1943      8.0  corona171          <NA>    12339         <NA>       12339   \n",
       "15516     8.0  corona171          <NA>  1730528         <NA>     1730528   \n",
       "4568      8.0  corona171          <NA>       18         <NA>          18   \n",
       "4569      8.0  corona171          <NA>   935091         <NA>      935091   \n",
       "...       ...        ...           ...      ...          ...         ...   \n",
       "14879    30.0  corona173          <NA>       27         <NA>          27   \n",
       "14880    30.0  corona173          <NA>   893686         <NA>      893686   \n",
       "14881    31.0  corona173          <NA>     1298         <NA>        1298   \n",
       "14882    31.0  corona173          <NA>  1898942         <NA>     1898942   \n",
       "14883    31.0  corona173          <NA>        4         <NA>           4   \n",
       "\n",
       "                                                filename  phase        size  \n",
       "12910  /p/lustre2/haridev/dlio/scr/checkpoints/scr_me...      2       30827  \n",
       "1943   /p/lustre2/haridev/dlio/scr/checkpoints/scr_me...      2         704  \n",
       "15516  /p/lustre2/haridev/dlio/scr/checkpoints/scr_me...      2  1009254400  \n",
       "4568   /p/lustre2/haridev/dlio/scr/checkpoints/scr_me...      2          64  \n",
       "4569   /p/lustre2/haridev/dlio/scr/checkpoints/scr_me...      2  1009254400  \n",
       "...                                                  ...    ...         ...  \n",
       "14879  /p/lustre2/haridev/dlio/scr/checkpoints/scr_me...      2          64  \n",
       "14880  /p/lustre2/haridev/dlio/scr/checkpoints/scr_me...      2   865075200  \n",
       "14881  /p/lustre2/haridev/dlio/scr/checkpoints/scr_me...      2     1587392  \n",
       "14882  /p/lustre2/haridev/dlio/scr/checkpoints/scr_me...      2  1875123200  \n",
       "14883  /p/lustre2/haridev/dlio/scr/checkpoints/scr_me...      2         807  \n",
       "\n",
       "[3792 rows x 17 columns]"
      ]
     },
     "execution_count": 35,
     "metadata": {},
     "output_type": "execute_result"
    }
   ],
   "source": [
    "checkpoint_events = analyzer.events.query(\"name == 'write'\")\n",
    "checkpoint_events = checkpoint_events.compute()\n",
    "checkpoint_events"
   ]
  },
  {
   "cell_type": "code",
   "execution_count": 36,
   "id": "8cabfc4d",
   "metadata": {},
   "outputs": [],
   "source": [
    "checkpoint_files = checkpoint_events.groupby([\"filename\",\"trange\",\"pid\",\"tid\"]).agg({\"dur\":sum}).\\\n",
    "                  groupby([\"filename\",\"trange\"]).agg({\"dur\":max}).\\\n",
    "                  groupby([\"filename\"]).agg({\"dur\":sum})"
   ]
  },
  {
   "cell_type": "code",
   "execution_count": 39,
   "id": "01c729bb",
   "metadata": {},
   "outputs": [
    {
     "data": {
      "text/plain": [
       "(dur    347\n",
       " dtype: uint64[pyarrow],\n",
       " dur    8.46394\n",
       " dtype: double[pyarrow],\n",
       " dur    694.993596\n",
       " dtype: double[pyarrow],\n",
       " dur    0.965269\n",
       " dtype: double[pyarrow],\n",
       " dur    720\n",
       " dtype: int64)"
      ]
     },
     "execution_count": 39,
     "metadata": {},
     "output_type": "execute_result"
    }
   ],
   "source": [
    "checkpoint_files.min(), checkpoint_files.max() / 1e6, checkpoint_files.sum() / 1e6, checkpoint_files.mean() / 1e6, checkpoint_files.count()"
   ]
  },
  {
   "cell_type": "code",
   "execution_count": null,
   "id": "0972b921",
   "metadata": {},
   "outputs": [],
   "source": [
    "checkpoint_files.min(), checkpoint_files.max(), checkpoint_files.mean()"
   ]
  },
  {
   "cell_type": "code",
   "execution_count": null,
   "id": "22420854",
   "metadata": {},
   "outputs": [],
   "source": []
  }
 ],
 "metadata": {
  "kernelspec": {
   "display_name": "scr-dlio corona",
   "language": "python",
   "name": "scr-dlio"
  },
  "language_info": {
   "codemirror_mode": {
    "name": "ipython",
    "version": 3
   },
   "file_extension": ".py",
   "mimetype": "text/x-python",
   "name": "python",
   "nbconvert_exporter": "python",
   "pygments_lexer": "ipython3",
   "version": "3.9.12"
  }
 },
 "nbformat": 4,
 "nbformat_minor": 5
}
